{
 "cells": [
  {
   "attachments": {},
   "cell_type": "markdown",
   "metadata": {},
   "source": [
    "# Reddit Natural Language Processing Using TensorFlow"
   ]
  },
  {
   "cell_type": "code",
   "execution_count": 1,
   "metadata": {},
   "outputs": [],
   "source": [
    "import requests\n",
    "\n",
    "import pandas as pd\n",
    "\n",
    "from sklearn.preprocessing import OneHotEncoder, LabelEncoder\n",
    "from sklearn.feature_extraction.text import TfidfVectorizer\n",
    "from sklearn.naive_bayes import MultinomialNB\n",
    "from sklearn.pipeline import Pipeline\n",
    "from sklearn.metrics import accuracy_score, precision_recall_fscore_support\n",
    "\n",
    "import numpy as np\n",
    "\n",
    "import matplotlib.pyplot as plt\n",
    "\n",
    "import random\n",
    "\n",
    "import string\n",
    "\n",
    "import tensorflow as tf\n",
    "from tensorflow.keras import layers\n",
    "from tensorflow.keras.layers.experimental.preprocessing import TextVectorization\n",
    "\n",
    "import tensorflow_hub as hub"
   ]
  },
  {
   "attachments": {},
   "cell_type": "markdown",
   "metadata": {},
   "source": [
    "## Data Preparation"
   ]
  },
  {
   "attachments": {},
   "cell_type": "markdown",
   "metadata": {},
   "source": [
    "### Initialize Reddit API\n",
    "\n",
    "Resources:\n",
    "* https://www.reddit.com/dev/api/\n",
    "* https://medium.com/geekculture/utilizing-reddits-api-8d9f6933e192"
   ]
  },
  {
   "cell_type": "code",
   "execution_count": 2,
   "metadata": {},
   "outputs": [],
   "source": [
    "CLIENT_ID = 'pWZ7Y4r0YUyMqk7pyJB94A'\n",
    "SECRET_KEY = 'RlsNxO0ID9GmUBwRNBThZEE1UEymrQ'\n",
    "\n",
    "auth = requests.auth.HTTPBasicAuth(CLIENT_ID, SECRET_KEY)\n",
    "\n",
    "with open('pw.txt', 'r') as f:\n",
    "    pw = f.read()\n",
    "\n",
    "data = {\n",
    "    'grant_type': 'password',\n",
    "    'username': 'DirtierHarbor2',\n",
    "    'password': pw\n",
    "}\n",
    "\n",
    "headers = {'User-Agent': 'MyAPI/0.0.1'}\n",
    "\n",
    "res = requests.post('https://www.reddit.com/api/v1/access_token', auth=auth, data=data, headers=headers)\n",
    "\n",
    "TOKEN = res.json()['access_token']\n",
    "\n",
    "headers['Authorization'] = 'bearer ' + TOKEN\n",
    "\n",
    "api = 'https://oauth.reddit.com'"
   ]
  },
  {
   "attachments": {},
   "cell_type": "markdown",
   "metadata": {},
   "source": [
    "### Data Exploration"
   ]
  },
  {
   "cell_type": "code",
   "execution_count": 3,
   "metadata": {},
   "outputs": [
    {
     "data": {
      "text/plain": [
       "{'kind': 'Listing',\n",
       " 'data': {'after': 't3_13bloxf',\n",
       "  'dist': 1,\n",
       "  'modhash': None,\n",
       "  'geo_filter': '',\n",
       "  'children': [{'kind': 't3',\n",
       "    'data': {'approved_at_utc': None,\n",
       "     'subreddit': 'Python',\n",
       "     'selftext': \"Hey Everyone! 👋  \\nOver the past two months, I've been hard at work developing a new Python frontend web framework, and I'm excited to announce its first minimal release: Starfyre.  \\nStarfyre is a Python web framework designed to simplify front-end web application development. Starfyre offers a user-friendly and powerful solution for crafting dynamic web applications by seamlessly bridging back-end and front-end development in the Python ecosystem. By unlocking untapped potential in Python front-end development, Starfyre empowers developers to create engaging and interactive applications easily.\\n\\nSome of the key features are:  \\n\\\\- Single-file reactive components  \\n\\\\- Built-in state management   \\n\\\\- Server-side rendering  \\n\\\\- PyML, a custom JSX-like language  \\n\\\\- Support for both client-side and server-side Python  \\n\\\\- Integrated CSS and HTML support  \\n\\\\- Ability to write JavaScript if need be  \\n\\\\- Familiar syntax and easy learning curve\\n\\nYou can check out the project at [https://github.com/sansyrox/starfyre](https://github.com/sansyrox/starfyre)  \\nI have also created a blog to explain the future visions - [https://sanskar.wtf/posts/hello-starfyre](https://sanskar.wtf/posts/hello-starfyre)  \\nMost importantly, you can find an example app on GitHub([https://github.com/sansyrox/first-starfyre-app](https://github.com/sansyrox/first-starfyre-app)).  \\nFeel free to share your thoughts and suggestions! I'm all ears and can't wait to hear what you all think! 😄\",\n",
       "     'author_fullname': 't2_5xu8opjs',\n",
       "     'saved': False,\n",
       "     'mod_reason_title': None,\n",
       "     'gilded': 0,\n",
       "     'clicked': False,\n",
       "     'title': 'Starfyre - A Python Web Framework for creating frontend web applications',\n",
       "     'link_flair_richtext': [{'e': 'text', 't': 'Intermediate Showcase'}],\n",
       "     'subreddit_name_prefixed': 'r/Python',\n",
       "     'hidden': False,\n",
       "     'pwls': 6,\n",
       "     'link_flair_css_class': 'intermediate-showcase',\n",
       "     'downs': 0,\n",
       "     'thumbnail_height': None,\n",
       "     'top_awarded_type': None,\n",
       "     'hide_score': False,\n",
       "     'name': 't3_13bloxf',\n",
       "     'quarantine': False,\n",
       "     'link_flair_text_color': 'light',\n",
       "     'upvote_ratio': 0.94,\n",
       "     'author_flair_background_color': None,\n",
       "     'subreddit_type': 'public',\n",
       "     'ups': 370,\n",
       "     'total_awards_received': 1,\n",
       "     'media_embed': {},\n",
       "     'thumbnail_width': None,\n",
       "     'author_flair_template_id': None,\n",
       "     'is_original_content': False,\n",
       "     'user_reports': [],\n",
       "     'secure_media': None,\n",
       "     'is_reddit_media_domain': False,\n",
       "     'is_meta': False,\n",
       "     'category': None,\n",
       "     'secure_media_embed': {},\n",
       "     'link_flair_text': 'Intermediate Showcase',\n",
       "     'can_mod_post': False,\n",
       "     'score': 370,\n",
       "     'approved_by': None,\n",
       "     'is_created_from_ads_ui': False,\n",
       "     'author_premium': False,\n",
       "     'thumbnail': 'self',\n",
       "     'edited': False,\n",
       "     'author_flair_css_class': None,\n",
       "     'author_flair_richtext': [],\n",
       "     'gildings': {'gid_1': 1},\n",
       "     'post_hint': 'self',\n",
       "     'content_categories': None,\n",
       "     'is_self': True,\n",
       "     'mod_note': None,\n",
       "     'created': 1683543834.0,\n",
       "     'link_flair_type': 'richtext',\n",
       "     'wls': 6,\n",
       "     'removed_by_category': None,\n",
       "     'banned_by': None,\n",
       "     'author_flair_type': 'text',\n",
       "     'domain': 'self.Python',\n",
       "     'allow_live_comments': True,\n",
       "     'selftext_html': '&lt;!-- SC_OFF --&gt;&lt;div class=\"md\"&gt;&lt;p&gt;Hey Everyone! 👋&lt;br/&gt;\\nOver the past two months, I&amp;#39;ve been hard at work developing a new Python frontend web framework, and I&amp;#39;m excited to announce its first minimal release: Starfyre.&lt;br/&gt;\\nStarfyre is a Python web framework designed to simplify front-end web application development. Starfyre offers a user-friendly and powerful solution for crafting dynamic web applications by seamlessly bridging back-end and front-end development in the Python ecosystem. By unlocking untapped potential in Python front-end development, Starfyre empowers developers to create engaging and interactive applications easily.&lt;/p&gt;\\n\\n&lt;p&gt;Some of the key features are:&lt;br/&gt;\\n- Single-file reactive components&lt;br/&gt;\\n- Built-in state management&lt;br/&gt;\\n- Server-side rendering&lt;br/&gt;\\n- PyML, a custom JSX-like language&lt;br/&gt;\\n- Support for both client-side and server-side Python&lt;br/&gt;\\n- Integrated CSS and HTML support&lt;br/&gt;\\n- Ability to write JavaScript if need be&lt;br/&gt;\\n- Familiar syntax and easy learning curve&lt;/p&gt;\\n\\n&lt;p&gt;You can check out the project at &lt;a href=\"https://github.com/sansyrox/starfyre\"&gt;https://github.com/sansyrox/starfyre&lt;/a&gt;&lt;br/&gt;\\nI have also created a blog to explain the future visions - &lt;a href=\"https://sanskar.wtf/posts/hello-starfyre\"&gt;https://sanskar.wtf/posts/hello-starfyre&lt;/a&gt;&lt;br/&gt;\\nMost importantly, you can find an example app on GitHub(&lt;a href=\"https://github.com/sansyrox/first-starfyre-app\"&gt;https://github.com/sansyrox/first-starfyre-app&lt;/a&gt;).&lt;br/&gt;\\nFeel free to share your thoughts and suggestions! I&amp;#39;m all ears and can&amp;#39;t wait to hear what you all think! 😄&lt;/p&gt;\\n&lt;/div&gt;&lt;!-- SC_ON --&gt;',\n",
       "     'likes': None,\n",
       "     'suggested_sort': None,\n",
       "     'banned_at_utc': None,\n",
       "     'view_count': None,\n",
       "     'archived': False,\n",
       "     'no_follow': False,\n",
       "     'is_crosspostable': True,\n",
       "     'pinned': False,\n",
       "     'over_18': False,\n",
       "     'preview': {'images': [{'source': {'url': 'https://external-preview.redd.it/KzDYkGl8WhsEoqb-WZs5v7BBz074wFqaWSZC4qg3tAo.jpg?auto=webp&amp;v=enabled&amp;s=f92ca974627271543b1643e5e584e1e8748cf9dc',\n",
       "         'width': 1291,\n",
       "         'height': 640},\n",
       "        'resolutions': [{'url': 'https://external-preview.redd.it/KzDYkGl8WhsEoqb-WZs5v7BBz074wFqaWSZC4qg3tAo.jpg?width=108&amp;crop=smart&amp;auto=webp&amp;v=enabled&amp;s=95b181db73a99cbbdbb94714c7d80ded450a0eef',\n",
       "          'width': 108,\n",
       "          'height': 53},\n",
       "         {'url': 'https://external-preview.redd.it/KzDYkGl8WhsEoqb-WZs5v7BBz074wFqaWSZC4qg3tAo.jpg?width=216&amp;crop=smart&amp;auto=webp&amp;v=enabled&amp;s=536ee11b03d58ef24887a13e2fc418b6936cf1cf',\n",
       "          'width': 216,\n",
       "          'height': 107},\n",
       "         {'url': 'https://external-preview.redd.it/KzDYkGl8WhsEoqb-WZs5v7BBz074wFqaWSZC4qg3tAo.jpg?width=320&amp;crop=smart&amp;auto=webp&amp;v=enabled&amp;s=1629beeb4801b9ccef8f9b0ac5028ee218c87c72',\n",
       "          'width': 320,\n",
       "          'height': 158},\n",
       "         {'url': 'https://external-preview.redd.it/KzDYkGl8WhsEoqb-WZs5v7BBz074wFqaWSZC4qg3tAo.jpg?width=640&amp;crop=smart&amp;auto=webp&amp;v=enabled&amp;s=d40d123c0ffc21f33ec5e5d86d7a074cca7e1e6b',\n",
       "          'width': 640,\n",
       "          'height': 317},\n",
       "         {'url': 'https://external-preview.redd.it/KzDYkGl8WhsEoqb-WZs5v7BBz074wFqaWSZC4qg3tAo.jpg?width=960&amp;crop=smart&amp;auto=webp&amp;v=enabled&amp;s=783221f55036b6249c837d98fb7b54c55740db18',\n",
       "          'width': 960,\n",
       "          'height': 475},\n",
       "         {'url': 'https://external-preview.redd.it/KzDYkGl8WhsEoqb-WZs5v7BBz074wFqaWSZC4qg3tAo.jpg?width=1080&amp;crop=smart&amp;auto=webp&amp;v=enabled&amp;s=8a68a468b4a8bbb72255567a62836a73e51b4e58',\n",
       "          'width': 1080,\n",
       "          'height': 535}],\n",
       "        'variants': {},\n",
       "        'id': 'u4M4QUItZ08Xm4P9TIvNxRCGLxXLXiWY4uPRMQPo7z4'}],\n",
       "      'enabled': False},\n",
       "     'all_awardings': [{'giver_coin_reward': None,\n",
       "       'subreddit_id': None,\n",
       "       'is_new': False,\n",
       "       'days_of_drip_extension': None,\n",
       "       'coin_price': 100,\n",
       "       'id': 'gid_1',\n",
       "       'penny_donate': None,\n",
       "       'award_sub_type': 'GLOBAL',\n",
       "       'coin_reward': 0,\n",
       "       'icon_url': 'https://www.redditstatic.com/gold/awards/icon/silver_512.png',\n",
       "       'days_of_premium': None,\n",
       "       'tiers_by_required_awardings': None,\n",
       "       'resized_icons': [{'url': 'https://www.redditstatic.com/gold/awards/icon/silver_16.png',\n",
       "         'width': 16,\n",
       "         'height': 16},\n",
       "        {'url': 'https://www.redditstatic.com/gold/awards/icon/silver_32.png',\n",
       "         'width': 32,\n",
       "         'height': 32},\n",
       "        {'url': 'https://www.redditstatic.com/gold/awards/icon/silver_48.png',\n",
       "         'width': 48,\n",
       "         'height': 48},\n",
       "        {'url': 'https://www.redditstatic.com/gold/awards/icon/silver_64.png',\n",
       "         'width': 64,\n",
       "         'height': 64},\n",
       "        {'url': 'https://www.redditstatic.com/gold/awards/icon/silver_128.png',\n",
       "         'width': 128,\n",
       "         'height': 128}],\n",
       "       'icon_width': 512,\n",
       "       'static_icon_width': 512,\n",
       "       'start_date': None,\n",
       "       'is_enabled': True,\n",
       "       'awardings_required_to_grant_benefits': None,\n",
       "       'description': \"Shows the Silver Award... and that's it.\",\n",
       "       'end_date': None,\n",
       "       'sticky_duration_seconds': None,\n",
       "       'subreddit_coin_reward': 0,\n",
       "       'count': 1,\n",
       "       'static_icon_height': 512,\n",
       "       'name': 'Silver',\n",
       "       'resized_static_icons': [{'url': 'https://www.redditstatic.com/gold/awards/icon/silver_16.png',\n",
       "         'width': 16,\n",
       "         'height': 16},\n",
       "        {'url': 'https://www.redditstatic.com/gold/awards/icon/silver_32.png',\n",
       "         'width': 32,\n",
       "         'height': 32},\n",
       "        {'url': 'https://www.redditstatic.com/gold/awards/icon/silver_48.png',\n",
       "         'width': 48,\n",
       "         'height': 48},\n",
       "        {'url': 'https://www.redditstatic.com/gold/awards/icon/silver_64.png',\n",
       "         'width': 64,\n",
       "         'height': 64},\n",
       "        {'url': 'https://www.redditstatic.com/gold/awards/icon/silver_128.png',\n",
       "         'width': 128,\n",
       "         'height': 128}],\n",
       "       'icon_format': None,\n",
       "       'icon_height': 512,\n",
       "       'penny_price': None,\n",
       "       'award_type': 'global',\n",
       "       'static_icon_url': 'https://www.redditstatic.com/gold/awards/icon/silver_512.png'}],\n",
       "     'awarders': [],\n",
       "     'media_only': False,\n",
       "     'link_flair_template_id': '23ba6f68-cfa2-11ea-96b4-0e31bcb4ff77',\n",
       "     'can_gild': True,\n",
       "     'spoiler': False,\n",
       "     'locked': False,\n",
       "     'author_flair_text': None,\n",
       "     'treatment_tags': [],\n",
       "     'visited': False,\n",
       "     'removed_by': None,\n",
       "     'num_reports': None,\n",
       "     'distinguished': None,\n",
       "     'subreddit_id': 't5_2qh0y',\n",
       "     'author_is_blocked': False,\n",
       "     'mod_reason_by': None,\n",
       "     'removal_reason': None,\n",
       "     'link_flair_background_color': '#ea0027',\n",
       "     'id': '13bloxf',\n",
       "     'is_robot_indexable': True,\n",
       "     'report_reasons': None,\n",
       "     'author': 'stealthanthrax',\n",
       "     'discussion_type': None,\n",
       "     'num_comments': 92,\n",
       "     'send_replies': True,\n",
       "     'whitelist_status': 'all_ads',\n",
       "     'contest_mode': False,\n",
       "     'mod_reports': [],\n",
       "     'author_patreon_flair': False,\n",
       "     'author_flair_text_color': None,\n",
       "     'permalink': '/r/Python/comments/13bloxf/starfyre_a_python_web_framework_for_creating/',\n",
       "     'parent_whitelist_status': 'all_ads',\n",
       "     'stickied': False,\n",
       "     'url': 'https://www.reddit.com/r/Python/comments/13bloxf/starfyre_a_python_web_framework_for_creating/',\n",
       "     'subreddit_subscribers': 1125956,\n",
       "     'created_utc': 1683543834.0,\n",
       "     'num_crossposts': 0,\n",
       "     'media': None,\n",
       "     'is_video': False}}],\n",
       "  'before': None}}"
      ]
     },
     "execution_count": 3,
     "metadata": {},
     "output_type": "execute_result"
    }
   ],
   "source": [
    "# Try looking into the top post of the r/python subreddit\n",
    "raw_data = requests.get('{}/r/python/top'.format(api), headers=headers, params={'limit': 1}).json()\n",
    "raw_data"
   ]
  },
  {
   "cell_type": "code",
   "execution_count": 4,
   "metadata": {},
   "outputs": [
    {
     "name": "stdout",
     "output_type": "stream",
     "text": [
      "Keys in json response:\n",
      "['kind', 'data']\n",
      "There are 2 keys in raw data top-level\n"
     ]
    }
   ],
   "source": [
    "# show keys in json response\n",
    "keys_outer = [key for key in raw_data]\n",
    "print(f\"Keys in json response:\\n{keys_outer}\")\n",
    "print(f\"There are {len(keys_outer)} keys in raw data top-level\")"
   ]
  },
  {
   "cell_type": "code",
   "execution_count": 5,
   "metadata": {},
   "outputs": [
    {
     "name": "stdout",
     "output_type": "stream",
     "text": [
      "'kind' = Listing\n",
      "'data'  contains 6 values\n"
     ]
    }
   ],
   "source": [
    "# Investigate the json starting from top level\n",
    "kind = raw_data[keys_outer[0]]\n",
    "data = raw_data[keys_outer[1]]\n",
    "print(f\"'{keys_outer[0]}'\", f\"= {kind}\" if type(kind) == int or type(kind) == str else \" contains no values\" if kind is None else f\" contains {len(kind)} values\")\n",
    "print(f\"'{keys_outer[1]}'\", f\"= {data}\" if type(data) == int or type(data) == str else \" contains no values\" if data is None else f\" contains {len(data)} values\")"
   ]
  },
  {
   "cell_type": "code",
   "execution_count": 6,
   "metadata": {},
   "outputs": [
    {
     "name": "stdout",
     "output_type": "stream",
     "text": [
      "Keys in 'data':\n",
      "['after', 'dist', 'modhash', 'geo_filter', 'children', 'before']\n",
      "There are 6 keys in 'data'\n"
     ]
    }
   ],
   "source": [
    "# show keys in 'data' dict\n",
    "keys_data = [key for key in data]\n",
    "print(f\"Keys in 'data':\\n{keys_data}\")\n",
    "print(f\"There are {len(keys_data)} keys in 'data'\")"
   ]
  },
  {
   "cell_type": "code",
   "execution_count": 7,
   "metadata": {},
   "outputs": [
    {
     "name": "stdout",
     "output_type": "stream",
     "text": [
      "'after' = t3_13bloxf\n",
      "'dist' = 1\n",
      "'modhash'  contains no values\n",
      "'geo_filter' = \n",
      "'children'  contains 1 values\n",
      "'before'  contains no values\n"
     ]
    }
   ],
   "source": [
    "# Investigate the 'data' dict\n",
    "after = data[keys_data[0]]\n",
    "dist = data[keys_data[1]]\n",
    "modhash = data[keys_data[2]]\n",
    "geo_filter = data[keys_data[3]]\n",
    "children = data[keys_data[4]]\n",
    "before = data[keys_data[5]]\n",
    "print(f\"'{keys_data[0]}'\", f\"= {after}\" if type(after) == int or type(after) == str else \" contains no values\" if after is None else f\" contains {len(after)} values\")\n",
    "print(f\"'{keys_data[1]}'\", f\"= {dist}\" if type(dist) == int or type(dist) == str else \" contains no values\" if dist is None else f\" contains {len(dist)} values\")\n",
    "print(f\"'{keys_data[2]}'\", f\"= {modhash}\" if type(modhash) == int or type(modhash) == str else \" contains no values\" if modhash is None else f\" contains {len(modhash)} values\")\n",
    "print(f\"'{keys_data[3]}'\", f\"= {geo_filter}\" if type(geo_filter) == int or type(geo_filter) == str else \" contains no values\" if geo_filter is None else f\" contains {len(geo_filter)} values\")\n",
    "print(f\"'{keys_data[4]}'\", f\"= {children}\" if type(children) == int or type(children) == str else \" contains no values\" if children is None else f\" contains {len(children)} values\")\n",
    "print(f\"'{keys_data[5]}'\", f\"= {before}\" if type(before) == int or type(before) == str else \" contains no values\" if before is None else f\" contains {len(before)} values\")"
   ]
  },
  {
   "cell_type": "code",
   "execution_count": 8,
   "metadata": {},
   "outputs": [
    {
     "name": "stdout",
     "output_type": "stream",
     "text": [
      "Keys in 'children':\n",
      "['kind', 'data']\n",
      "There are 2 keys in 'children'\n"
     ]
    }
   ],
   "source": [
    "# show keys in 'children' dict\n",
    "keys_children = [key for key in children[0]]\n",
    "print(f\"Keys in 'children':\\n{keys_children}\")\n",
    "print(f\"There are {len(keys_children)} keys in 'children'\")"
   ]
  },
  {
   "cell_type": "code",
   "execution_count": 9,
   "metadata": {},
   "outputs": [
    {
     "name": "stdout",
     "output_type": "stream",
     "text": [
      "'kind' = t3\n",
      "'data'  contains 109 values\n"
     ]
    }
   ],
   "source": [
    "# Investigate the 'children' dict\n",
    "kind_children = children[0][keys_children[0]]\n",
    "data_children = children[0][keys_children[1]]\n",
    "print(f\"'{keys_children[0]}'\", f\"= {kind_children}\" if type(kind_children) == int or type(kind_children) == str else \" contains no values\" if kind_children is None else f\" contains {len(kind_children)} values\")\n",
    "print(f\"'{keys_children[1]}'\", f\"= {data_children}\" if type(data_children) == int or type(data_children) == str else \" contains no values\" if data_children is None else f\" contains {len(data_children)} values\")"
   ]
  },
  {
   "cell_type": "code",
   "execution_count": 10,
   "metadata": {},
   "outputs": [
    {
     "name": "stdout",
     "output_type": "stream",
     "text": [
      "Keys in 'children':\n",
      "['approved_at_utc', 'subreddit', 'selftext', 'author_fullname', 'saved', 'mod_reason_title', 'gilded', 'clicked', 'title', 'link_flair_richtext', 'subreddit_name_prefixed', 'hidden', 'pwls', 'link_flair_css_class', 'downs', 'thumbnail_height', 'top_awarded_type', 'hide_score', 'name', 'quarantine', 'link_flair_text_color', 'upvote_ratio', 'author_flair_background_color', 'subreddit_type', 'ups', 'total_awards_received', 'media_embed', 'thumbnail_width', 'author_flair_template_id', 'is_original_content', 'user_reports', 'secure_media', 'is_reddit_media_domain', 'is_meta', 'category', 'secure_media_embed', 'link_flair_text', 'can_mod_post', 'score', 'approved_by', 'is_created_from_ads_ui', 'author_premium', 'thumbnail', 'edited', 'author_flair_css_class', 'author_flair_richtext', 'gildings', 'post_hint', 'content_categories', 'is_self', 'mod_note', 'created', 'link_flair_type', 'wls', 'removed_by_category', 'banned_by', 'author_flair_type', 'domain', 'allow_live_comments', 'selftext_html', 'likes', 'suggested_sort', 'banned_at_utc', 'view_count', 'archived', 'no_follow', 'is_crosspostable', 'pinned', 'over_18', 'preview', 'all_awardings', 'awarders', 'media_only', 'link_flair_template_id', 'can_gild', 'spoiler', 'locked', 'author_flair_text', 'treatment_tags', 'visited', 'removed_by', 'num_reports', 'distinguished', 'subreddit_id', 'author_is_blocked', 'mod_reason_by', 'removal_reason', 'link_flair_background_color', 'id', 'is_robot_indexable', 'report_reasons', 'author', 'discussion_type', 'num_comments', 'send_replies', 'whitelist_status', 'contest_mode', 'mod_reports', 'author_patreon_flair', 'author_flair_text_color', 'permalink', 'parent_whitelist_status', 'stickied', 'url', 'subreddit_subscribers', 'created_utc', 'num_crossposts', 'media', 'is_video']\n",
      "There are 109 keys in 'children/data'\n"
     ]
    }
   ],
   "source": [
    "# show keys in 'children/data' dict\n",
    "keys_data_children = [key for key in data_children]\n",
    "print(f\"Keys in 'children':\\n{keys_data_children}\")\n",
    "print(f\"There are {len(keys_data_children)} keys in 'children/data'\")"
   ]
  },
  {
   "cell_type": "code",
   "execution_count": 11,
   "metadata": {},
   "outputs": [
    {
     "data": {
      "text/plain": [
       "{'approved_at_utc': None,\n",
       " 'subreddit': 'Python',\n",
       " 'selftext': \"Hey Everyone! 👋  \\nOver the past two months, I've been hard at work developing a new Python frontend web framework, and I'm excited to announce its first minimal release: Starfyre.  \\nStarfyre is a Python web framework designed to simplify front-end web application development. Starfyre offers a user-friendly and powerful solution for crafting dynamic web applications by seamlessly bridging back-end and front-end development in the Python ecosystem. By unlocking untapped potential in Python front-end development, Starfyre empowers developers to create engaging and interactive applications easily.\\n\\nSome of the key features are:  \\n\\\\- Single-file reactive components  \\n\\\\- Built-in state management   \\n\\\\- Server-side rendering  \\n\\\\- PyML, a custom JSX-like language  \\n\\\\- Support for both client-side and server-side Python  \\n\\\\- Integrated CSS and HTML support  \\n\\\\- Ability to write JavaScript if need be  \\n\\\\- Familiar syntax and easy learning curve\\n\\nYou can check out the project at [https://github.com/sansyrox/starfyre](https://github.com/sansyrox/starfyre)  \\nI have also created a blog to explain the future visions - [https://sanskar.wtf/posts/hello-starfyre](https://sanskar.wtf/posts/hello-starfyre)  \\nMost importantly, you can find an example app on GitHub([https://github.com/sansyrox/first-starfyre-app](https://github.com/sansyrox/first-starfyre-app)).  \\nFeel free to share your thoughts and suggestions! I'm all ears and can't wait to hear what you all think! 😄\",\n",
       " 'author_fullname': 't2_5xu8opjs',\n",
       " 'saved': False,\n",
       " 'mod_reason_title': None,\n",
       " 'gilded': 0,\n",
       " 'clicked': False,\n",
       " 'title': 'Starfyre - A Python Web Framework for creating frontend web applications',\n",
       " 'link_flair_richtext': [{'e': 'text', 't': 'Intermediate Showcase'}],\n",
       " 'subreddit_name_prefixed': 'r/Python',\n",
       " 'hidden': False,\n",
       " 'pwls': 6,\n",
       " 'link_flair_css_class': 'intermediate-showcase',\n",
       " 'downs': 0,\n",
       " 'thumbnail_height': None,\n",
       " 'top_awarded_type': None,\n",
       " 'hide_score': False,\n",
       " 'name': 't3_13bloxf',\n",
       " 'quarantine': False,\n",
       " 'link_flair_text_color': 'light',\n",
       " 'upvote_ratio': 0.94,\n",
       " 'author_flair_background_color': None,\n",
       " 'subreddit_type': 'public',\n",
       " 'ups': 370,\n",
       " 'total_awards_received': 1,\n",
       " 'media_embed': {},\n",
       " 'thumbnail_width': None,\n",
       " 'author_flair_template_id': None,\n",
       " 'is_original_content': False,\n",
       " 'user_reports': [],\n",
       " 'secure_media': None,\n",
       " 'is_reddit_media_domain': False,\n",
       " 'is_meta': False,\n",
       " 'category': None,\n",
       " 'secure_media_embed': {},\n",
       " 'link_flair_text': 'Intermediate Showcase',\n",
       " 'can_mod_post': False,\n",
       " 'score': 370,\n",
       " 'approved_by': None,\n",
       " 'is_created_from_ads_ui': False,\n",
       " 'author_premium': False,\n",
       " 'thumbnail': 'self',\n",
       " 'edited': False,\n",
       " 'author_flair_css_class': None,\n",
       " 'author_flair_richtext': [],\n",
       " 'gildings': {'gid_1': 1},\n",
       " 'post_hint': 'self',\n",
       " 'content_categories': None,\n",
       " 'is_self': True,\n",
       " 'mod_note': None,\n",
       " 'created': 1683543834.0,\n",
       " 'link_flair_type': 'richtext',\n",
       " 'wls': 6,\n",
       " 'removed_by_category': None,\n",
       " 'banned_by': None,\n",
       " 'author_flair_type': 'text',\n",
       " 'domain': 'self.Python',\n",
       " 'allow_live_comments': True,\n",
       " 'selftext_html': '&lt;!-- SC_OFF --&gt;&lt;div class=\"md\"&gt;&lt;p&gt;Hey Everyone! 👋&lt;br/&gt;\\nOver the past two months, I&amp;#39;ve been hard at work developing a new Python frontend web framework, and I&amp;#39;m excited to announce its first minimal release: Starfyre.&lt;br/&gt;\\nStarfyre is a Python web framework designed to simplify front-end web application development. Starfyre offers a user-friendly and powerful solution for crafting dynamic web applications by seamlessly bridging back-end and front-end development in the Python ecosystem. By unlocking untapped potential in Python front-end development, Starfyre empowers developers to create engaging and interactive applications easily.&lt;/p&gt;\\n\\n&lt;p&gt;Some of the key features are:&lt;br/&gt;\\n- Single-file reactive components&lt;br/&gt;\\n- Built-in state management&lt;br/&gt;\\n- Server-side rendering&lt;br/&gt;\\n- PyML, a custom JSX-like language&lt;br/&gt;\\n- Support for both client-side and server-side Python&lt;br/&gt;\\n- Integrated CSS and HTML support&lt;br/&gt;\\n- Ability to write JavaScript if need be&lt;br/&gt;\\n- Familiar syntax and easy learning curve&lt;/p&gt;\\n\\n&lt;p&gt;You can check out the project at &lt;a href=\"https://github.com/sansyrox/starfyre\"&gt;https://github.com/sansyrox/starfyre&lt;/a&gt;&lt;br/&gt;\\nI have also created a blog to explain the future visions - &lt;a href=\"https://sanskar.wtf/posts/hello-starfyre\"&gt;https://sanskar.wtf/posts/hello-starfyre&lt;/a&gt;&lt;br/&gt;\\nMost importantly, you can find an example app on GitHub(&lt;a href=\"https://github.com/sansyrox/first-starfyre-app\"&gt;https://github.com/sansyrox/first-starfyre-app&lt;/a&gt;).&lt;br/&gt;\\nFeel free to share your thoughts and suggestions! I&amp;#39;m all ears and can&amp;#39;t wait to hear what you all think! 😄&lt;/p&gt;\\n&lt;/div&gt;&lt;!-- SC_ON --&gt;',\n",
       " 'likes': None,\n",
       " 'suggested_sort': None,\n",
       " 'banned_at_utc': None,\n",
       " 'view_count': None,\n",
       " 'archived': False,\n",
       " 'no_follow': False,\n",
       " 'is_crosspostable': True,\n",
       " 'pinned': False,\n",
       " 'over_18': False,\n",
       " 'preview': {'images': [{'source': {'url': 'https://external-preview.redd.it/KzDYkGl8WhsEoqb-WZs5v7BBz074wFqaWSZC4qg3tAo.jpg?auto=webp&amp;v=enabled&amp;s=f92ca974627271543b1643e5e584e1e8748cf9dc',\n",
       "     'width': 1291,\n",
       "     'height': 640},\n",
       "    'resolutions': [{'url': 'https://external-preview.redd.it/KzDYkGl8WhsEoqb-WZs5v7BBz074wFqaWSZC4qg3tAo.jpg?width=108&amp;crop=smart&amp;auto=webp&amp;v=enabled&amp;s=95b181db73a99cbbdbb94714c7d80ded450a0eef',\n",
       "      'width': 108,\n",
       "      'height': 53},\n",
       "     {'url': 'https://external-preview.redd.it/KzDYkGl8WhsEoqb-WZs5v7BBz074wFqaWSZC4qg3tAo.jpg?width=216&amp;crop=smart&amp;auto=webp&amp;v=enabled&amp;s=536ee11b03d58ef24887a13e2fc418b6936cf1cf',\n",
       "      'width': 216,\n",
       "      'height': 107},\n",
       "     {'url': 'https://external-preview.redd.it/KzDYkGl8WhsEoqb-WZs5v7BBz074wFqaWSZC4qg3tAo.jpg?width=320&amp;crop=smart&amp;auto=webp&amp;v=enabled&amp;s=1629beeb4801b9ccef8f9b0ac5028ee218c87c72',\n",
       "      'width': 320,\n",
       "      'height': 158},\n",
       "     {'url': 'https://external-preview.redd.it/KzDYkGl8WhsEoqb-WZs5v7BBz074wFqaWSZC4qg3tAo.jpg?width=640&amp;crop=smart&amp;auto=webp&amp;v=enabled&amp;s=d40d123c0ffc21f33ec5e5d86d7a074cca7e1e6b',\n",
       "      'width': 640,\n",
       "      'height': 317},\n",
       "     {'url': 'https://external-preview.redd.it/KzDYkGl8WhsEoqb-WZs5v7BBz074wFqaWSZC4qg3tAo.jpg?width=960&amp;crop=smart&amp;auto=webp&amp;v=enabled&amp;s=783221f55036b6249c837d98fb7b54c55740db18',\n",
       "      'width': 960,\n",
       "      'height': 475},\n",
       "     {'url': 'https://external-preview.redd.it/KzDYkGl8WhsEoqb-WZs5v7BBz074wFqaWSZC4qg3tAo.jpg?width=1080&amp;crop=smart&amp;auto=webp&amp;v=enabled&amp;s=8a68a468b4a8bbb72255567a62836a73e51b4e58',\n",
       "      'width': 1080,\n",
       "      'height': 535}],\n",
       "    'variants': {},\n",
       "    'id': 'u4M4QUItZ08Xm4P9TIvNxRCGLxXLXiWY4uPRMQPo7z4'}],\n",
       "  'enabled': False},\n",
       " 'all_awardings': [{'giver_coin_reward': None,\n",
       "   'subreddit_id': None,\n",
       "   'is_new': False,\n",
       "   'days_of_drip_extension': None,\n",
       "   'coin_price': 100,\n",
       "   'id': 'gid_1',\n",
       "   'penny_donate': None,\n",
       "   'award_sub_type': 'GLOBAL',\n",
       "   'coin_reward': 0,\n",
       "   'icon_url': 'https://www.redditstatic.com/gold/awards/icon/silver_512.png',\n",
       "   'days_of_premium': None,\n",
       "   'tiers_by_required_awardings': None,\n",
       "   'resized_icons': [{'url': 'https://www.redditstatic.com/gold/awards/icon/silver_16.png',\n",
       "     'width': 16,\n",
       "     'height': 16},\n",
       "    {'url': 'https://www.redditstatic.com/gold/awards/icon/silver_32.png',\n",
       "     'width': 32,\n",
       "     'height': 32},\n",
       "    {'url': 'https://www.redditstatic.com/gold/awards/icon/silver_48.png',\n",
       "     'width': 48,\n",
       "     'height': 48},\n",
       "    {'url': 'https://www.redditstatic.com/gold/awards/icon/silver_64.png',\n",
       "     'width': 64,\n",
       "     'height': 64},\n",
       "    {'url': 'https://www.redditstatic.com/gold/awards/icon/silver_128.png',\n",
       "     'width': 128,\n",
       "     'height': 128}],\n",
       "   'icon_width': 512,\n",
       "   'static_icon_width': 512,\n",
       "   'start_date': None,\n",
       "   'is_enabled': True,\n",
       "   'awardings_required_to_grant_benefits': None,\n",
       "   'description': \"Shows the Silver Award... and that's it.\",\n",
       "   'end_date': None,\n",
       "   'sticky_duration_seconds': None,\n",
       "   'subreddit_coin_reward': 0,\n",
       "   'count': 1,\n",
       "   'static_icon_height': 512,\n",
       "   'name': 'Silver',\n",
       "   'resized_static_icons': [{'url': 'https://www.redditstatic.com/gold/awards/icon/silver_16.png',\n",
       "     'width': 16,\n",
       "     'height': 16},\n",
       "    {'url': 'https://www.redditstatic.com/gold/awards/icon/silver_32.png',\n",
       "     'width': 32,\n",
       "     'height': 32},\n",
       "    {'url': 'https://www.redditstatic.com/gold/awards/icon/silver_48.png',\n",
       "     'width': 48,\n",
       "     'height': 48},\n",
       "    {'url': 'https://www.redditstatic.com/gold/awards/icon/silver_64.png',\n",
       "     'width': 64,\n",
       "     'height': 64},\n",
       "    {'url': 'https://www.redditstatic.com/gold/awards/icon/silver_128.png',\n",
       "     'width': 128,\n",
       "     'height': 128}],\n",
       "   'icon_format': None,\n",
       "   'icon_height': 512,\n",
       "   'penny_price': None,\n",
       "   'award_type': 'global',\n",
       "   'static_icon_url': 'https://www.redditstatic.com/gold/awards/icon/silver_512.png'}],\n",
       " 'awarders': [],\n",
       " 'media_only': False,\n",
       " 'link_flair_template_id': '23ba6f68-cfa2-11ea-96b4-0e31bcb4ff77',\n",
       " 'can_gild': True,\n",
       " 'spoiler': False,\n",
       " 'locked': False,\n",
       " 'author_flair_text': None,\n",
       " 'treatment_tags': [],\n",
       " 'visited': False,\n",
       " 'removed_by': None,\n",
       " 'num_reports': None,\n",
       " 'distinguished': None,\n",
       " 'subreddit_id': 't5_2qh0y',\n",
       " 'author_is_blocked': False,\n",
       " 'mod_reason_by': None,\n",
       " 'removal_reason': None,\n",
       " 'link_flair_background_color': '#ea0027',\n",
       " 'id': '13bloxf',\n",
       " 'is_robot_indexable': True,\n",
       " 'report_reasons': None,\n",
       " 'author': 'stealthanthrax',\n",
       " 'discussion_type': None,\n",
       " 'num_comments': 92,\n",
       " 'send_replies': True,\n",
       " 'whitelist_status': 'all_ads',\n",
       " 'contest_mode': False,\n",
       " 'mod_reports': [],\n",
       " 'author_patreon_flair': False,\n",
       " 'author_flair_text_color': None,\n",
       " 'permalink': '/r/Python/comments/13bloxf/starfyre_a_python_web_framework_for_creating/',\n",
       " 'parent_whitelist_status': 'all_ads',\n",
       " 'stickied': False,\n",
       " 'url': 'https://www.reddit.com/r/Python/comments/13bloxf/starfyre_a_python_web_framework_for_creating/',\n",
       " 'subreddit_subscribers': 1125956,\n",
       " 'created_utc': 1683543834.0,\n",
       " 'num_crossposts': 0,\n",
       " 'media': None,\n",
       " 'is_video': False}"
      ]
     },
     "execution_count": 11,
     "metadata": {},
     "output_type": "execute_result"
    }
   ],
   "source": [
    "# What does the 'children/data' dict look like?\n",
    "data_children"
   ]
  },
  {
   "cell_type": "code",
   "execution_count": 12,
   "metadata": {},
   "outputs": [],
   "source": [
    "# Cleaning data to pack as a DataFrame\n",
    "for i in data_children:\n",
    "    if type(data_children.get(i)) is list or type(data_children.get(i)) is dict:\n",
    "        data_children[i] = None"
   ]
  },
  {
   "cell_type": "code",
   "execution_count": 13,
   "metadata": {},
   "outputs": [
    {
     "name": "stdout",
     "output_type": "stream",
     "text": [
      "<class 'pandas.core.frame.DataFrame'>\n",
      "Index: 1 entries, 0 to 0\n",
      "Columns: 109 entries, approved_at_utc to is_video\n",
      "dtypes: bool(31), float64(3), int64(10), object(65)\n",
      "memory usage: 663.0+ bytes\n"
     ]
    },
    {
     "data": {
      "text/plain": [
       "(None,\n",
       " Index(['approved_at_utc', 'subreddit', 'selftext', 'author_fullname', 'saved',\n",
       "        'mod_reason_title', 'gilded', 'clicked', 'title', 'link_flair_richtext',\n",
       "        ...\n",
       "        'author_flair_text_color', 'permalink', 'parent_whitelist_status',\n",
       "        'stickied', 'url', 'subreddit_subscribers', 'created_utc',\n",
       "        'num_crossposts', 'media', 'is_video'],\n",
       "       dtype='object', length=109))"
      ]
     },
     "execution_count": 13,
     "metadata": {},
     "output_type": "execute_result"
    }
   ],
   "source": [
    "# Create DataFrame\n",
    "df = pd.DataFrame(data_children, index=[0])\n",
    "df.info(), df.columns"
   ]
  },
  {
   "cell_type": "code",
   "execution_count": 14,
   "metadata": {},
   "outputs": [
    {
     "data": {
      "text/html": [
       "<div>\n",
       "<style scoped>\n",
       "    .dataframe tbody tr th:only-of-type {\n",
       "        vertical-align: middle;\n",
       "    }\n",
       "\n",
       "    .dataframe tbody tr th {\n",
       "        vertical-align: top;\n",
       "    }\n",
       "\n",
       "    .dataframe thead th {\n",
       "        text-align: right;\n",
       "    }\n",
       "</style>\n",
       "<table border=\"1\" class=\"dataframe\">\n",
       "  <thead>\n",
       "    <tr style=\"text-align: right;\">\n",
       "      <th></th>\n",
       "      <th>approved_at_utc</th>\n",
       "      <th>subreddit</th>\n",
       "      <th>selftext</th>\n",
       "      <th>author_fullname</th>\n",
       "      <th>saved</th>\n",
       "      <th>mod_reason_title</th>\n",
       "      <th>gilded</th>\n",
       "      <th>clicked</th>\n",
       "      <th>title</th>\n",
       "      <th>link_flair_richtext</th>\n",
       "      <th>...</th>\n",
       "      <th>author_flair_text_color</th>\n",
       "      <th>permalink</th>\n",
       "      <th>parent_whitelist_status</th>\n",
       "      <th>stickied</th>\n",
       "      <th>url</th>\n",
       "      <th>subreddit_subscribers</th>\n",
       "      <th>created_utc</th>\n",
       "      <th>num_crossposts</th>\n",
       "      <th>media</th>\n",
       "      <th>is_video</th>\n",
       "    </tr>\n",
       "  </thead>\n",
       "  <tbody>\n",
       "    <tr>\n",
       "      <th>0</th>\n",
       "      <td>None</td>\n",
       "      <td>Python</td>\n",
       "      <td>Hey Everyone! 👋  \\nOver the past two months, I...</td>\n",
       "      <td>t2_5xu8opjs</td>\n",
       "      <td>False</td>\n",
       "      <td>None</td>\n",
       "      <td>0</td>\n",
       "      <td>False</td>\n",
       "      <td>Starfyre - A Python Web Framework for creating...</td>\n",
       "      <td>None</td>\n",
       "      <td>...</td>\n",
       "      <td>None</td>\n",
       "      <td>/r/Python/comments/13bloxf/starfyre_a_python_w...</td>\n",
       "      <td>all_ads</td>\n",
       "      <td>False</td>\n",
       "      <td>https://www.reddit.com/r/Python/comments/13blo...</td>\n",
       "      <td>1125956</td>\n",
       "      <td>1.683544e+09</td>\n",
       "      <td>0</td>\n",
       "      <td>None</td>\n",
       "      <td>False</td>\n",
       "    </tr>\n",
       "  </tbody>\n",
       "</table>\n",
       "<p>1 rows × 109 columns</p>\n",
       "</div>"
      ],
      "text/plain": [
       "  approved_at_utc subreddit   \n",
       "0            None    Python  \\\n",
       "\n",
       "                                            selftext author_fullname  saved   \n",
       "0  Hey Everyone! 👋  \\nOver the past two months, I...     t2_5xu8opjs  False  \\\n",
       "\n",
       "  mod_reason_title  gilded  clicked   \n",
       "0             None       0    False  \\\n",
       "\n",
       "                                               title link_flair_richtext  ...   \n",
       "0  Starfyre - A Python Web Framework for creating...                None  ...  \\\n",
       "\n",
       "  author_flair_text_color                                          permalink   \n",
       "0                    None  /r/Python/comments/13bloxf/starfyre_a_python_w...  \\\n",
       "\n",
       "   parent_whitelist_status stickied   \n",
       "0                  all_ads    False  \\\n",
       "\n",
       "                                                 url subreddit_subscribers   \n",
       "0  https://www.reddit.com/r/Python/comments/13blo...               1125956  \\\n",
       "\n",
       "    created_utc  num_crossposts media  is_video  \n",
       "0  1.683544e+09               0  None     False  \n",
       "\n",
       "[1 rows x 109 columns]"
      ]
     },
     "execution_count": 14,
     "metadata": {},
     "output_type": "execute_result"
    }
   ],
   "source": [
    "df"
   ]
  },
  {
   "attachments": {},
   "cell_type": "markdown",
   "metadata": {},
   "source": [
    "It looks like there are some variables that I don't think are relavent.  \n",
    "\n",
    "Try saving only a small fraction of available variables next time."
   ]
  },
  {
   "attachments": {},
   "cell_type": "markdown",
   "metadata": {},
   "source": [
    "### Testing Data Extraction\n",
    "\n",
    "Take what was learned previously about the structure of the data; now attempt to store data into dataframes"
   ]
  },
  {
   "attachments": {},
   "cell_type": "markdown",
   "metadata": {},
   "source": [
    "The variables that will be analyzed for the rest of the project will be:\n",
    "* subreddit\n",
    "* title\n",
    "* selftext\n",
    "* upvote_ratio\n",
    "* score\n",
    "* total_awards_recieved"
   ]
  },
  {
   "cell_type": "code",
   "execution_count": 15,
   "metadata": {},
   "outputs": [],
   "source": [
    "# Set subreddit to read from\n",
    "SUBREDDIT = 'random'\n",
    "\n",
    "# Set limit per subreddit request\n",
    "LIMIT = 5\n",
    "\n",
    "# Setting up dataframe\n",
    "df = pd.DataFrame({'subreddit': [],\n",
    "                   'title': [],\n",
    "                   'upvote_ratio': [],\n",
    "                   'score': [],\n",
    "                   'total_awards_received': []})"
   ]
  },
  {
   "cell_type": "code",
   "execution_count": 16,
   "metadata": {},
   "outputs": [],
   "source": [
    "# Send a request again with different parameters\n",
    "raw_data = requests.get('{}/r/{}'.format(api, SUBREDDIT), headers=headers, params={'limit': LIMIT}).json()"
   ]
  },
  {
   "cell_type": "code",
   "execution_count": 17,
   "metadata": {},
   "outputs": [],
   "source": [
    "# parse data and append to dataframe\n",
    "for i, _ in enumerate(raw_data['data']['children']):\n",
    "  post = raw_data['data']['children'][i].get('data')\n",
    "  df_2 = pd.DataFrame([{'subreddit': post['subreddit'],\n",
    "                        'title': post['title'],\n",
    "                        'upvote_ratio': post['upvote_ratio'],\n",
    "                        'score': post['score'],\n",
    "                        'total_awards_received': post['total_awards_received']}])\n",
    "  df = pd.concat([df, df_2], ignore_index=True)"
   ]
  },
  {
   "cell_type": "code",
   "execution_count": 18,
   "metadata": {},
   "outputs": [
    {
     "data": {
      "text/html": [
       "<div>\n",
       "<style scoped>\n",
       "    .dataframe tbody tr th:only-of-type {\n",
       "        vertical-align: middle;\n",
       "    }\n",
       "\n",
       "    .dataframe tbody tr th {\n",
       "        vertical-align: top;\n",
       "    }\n",
       "\n",
       "    .dataframe thead th {\n",
       "        text-align: right;\n",
       "    }\n",
       "</style>\n",
       "<table border=\"1\" class=\"dataframe\">\n",
       "  <thead>\n",
       "    <tr style=\"text-align: right;\">\n",
       "      <th></th>\n",
       "      <th>subreddit</th>\n",
       "      <th>title</th>\n",
       "      <th>upvote_ratio</th>\n",
       "      <th>score</th>\n",
       "      <th>total_awards_received</th>\n",
       "    </tr>\n",
       "  </thead>\n",
       "  <tbody>\n",
       "    <tr>\n",
       "      <th>0</th>\n",
       "      <td>TrueAnon</td>\n",
       "      <td>Episode 289: The Game Is Afoot (trailer)</td>\n",
       "      <td>1.00</td>\n",
       "      <td>14.0</td>\n",
       "      <td>0.0</td>\n",
       "    </tr>\n",
       "    <tr>\n",
       "      <th>1</th>\n",
       "      <td>TrueAnon</td>\n",
       "      <td>North Korean propaganda encouraging young men ...</td>\n",
       "      <td>0.98</td>\n",
       "      <td>92.0</td>\n",
       "      <td>0.0</td>\n",
       "    </tr>\n",
       "    <tr>\n",
       "      <th>2</th>\n",
       "      <td>TrueAnon</td>\n",
       "      <td>oh my god</td>\n",
       "      <td>0.96</td>\n",
       "      <td>74.0</td>\n",
       "      <td>0.0</td>\n",
       "    </tr>\n",
       "    <tr>\n",
       "      <th>3</th>\n",
       "      <td>TrueAnon</td>\n",
       "      <td>Too much internet for today.</td>\n",
       "      <td>0.96</td>\n",
       "      <td>150.0</td>\n",
       "      <td>0.0</td>\n",
       "    </tr>\n",
       "    <tr>\n",
       "      <th>4</th>\n",
       "      <td>TrueAnon</td>\n",
       "      <td>The Ukrainian delegation unfurls two flags at ...</td>\n",
       "      <td>0.93</td>\n",
       "      <td>282.0</td>\n",
       "      <td>0.0</td>\n",
       "    </tr>\n",
       "    <tr>\n",
       "      <th>5</th>\n",
       "      <td>TrueAnon</td>\n",
       "      <td>Evidence of Texas Mall Shooter’s Neo-Nazism</td>\n",
       "      <td>0.96</td>\n",
       "      <td>163.0</td>\n",
       "      <td>0.0</td>\n",
       "    </tr>\n",
       "  </tbody>\n",
       "</table>\n",
       "</div>"
      ],
      "text/plain": [
       "  subreddit                                              title  upvote_ratio   \n",
       "0  TrueAnon           Episode 289: The Game Is Afoot (trailer)          1.00  \\\n",
       "1  TrueAnon  North Korean propaganda encouraging young men ...          0.98   \n",
       "2  TrueAnon                                          oh my god          0.96   \n",
       "3  TrueAnon                       Too much internet for today.          0.96   \n",
       "4  TrueAnon  The Ukrainian delegation unfurls two flags at ...          0.93   \n",
       "5  TrueAnon        Evidence of Texas Mall Shooter’s Neo-Nazism          0.96   \n",
       "\n",
       "   score  total_awards_received  \n",
       "0   14.0                    0.0  \n",
       "1   92.0                    0.0  \n",
       "2   74.0                    0.0  \n",
       "3  150.0                    0.0  \n",
       "4  282.0                    0.0  \n",
       "5  163.0                    0.0  "
      ]
     },
     "execution_count": 18,
     "metadata": {},
     "output_type": "execute_result"
    }
   ],
   "source": [
    "# Check the dataframe\n",
    "df"
   ]
  },
  {
   "attachments": {},
   "cell_type": "markdown",
   "metadata": {},
   "source": [
    "### Bringing it all together\n",
    "\n",
    "Pull even more information using the Reddit API so that there is sufficient data to start model building"
   ]
  },
  {
   "cell_type": "code",
   "execution_count": 19,
   "metadata": {},
   "outputs": [],
   "source": [
    "def new_data_to_dataframe(df, subreddit='random', sortby='', limit=5):\n",
    "    raw_data = requests.get('{}/r/{}/{}'.format(api, subreddit, sortby), headers=headers, params={'limit': limit}).json()\n",
    "    for i, _ in enumerate(raw_data['data']['children']):\n",
    "        post = raw_data['data']['children'][i].get('data')\n",
    "        df_2 = pd.DataFrame([{'subreddit': post['subreddit'],\n",
    "                              'title': post['title'],\n",
    "                              'upvote_ratio': post['upvote_ratio'],\n",
    "                              'score': post['score'],\n",
    "                              'total_awards_received': post['total_awards_received']}])\n",
    "        df = pd.concat([df, df_2], ignore_index=True)\n",
    "    return df"
   ]
  },
  {
   "cell_type": "code",
   "execution_count": 20,
   "metadata": {},
   "outputs": [
    {
     "name": "stdout",
     "output_type": "stream",
     "text": [
      "CPU times: total: 1.7 s\n",
      "Wall time: 28 s\n"
     ]
    }
   ],
   "source": [
    "%%time\n",
    "# Set subreddit to read from\n",
    "SUBREDDIT = ['python','mildlyinfuriating','news','gaming','facepalm','aww','cats','technicallythetruth','memes','oddlyspecific']\n",
    "# Set sort results by\n",
    "SORTBY = ['best','controversial']\n",
    "# Set limit per subreddit request\n",
    "LIMIT = 1000\n",
    "# Clear DataFrame\n",
    "df = pd.DataFrame({'subreddit': [],\n",
    "                   'title': [],\n",
    "                   'upvote_ratio': [],\n",
    "                   'score': [],\n",
    "                   'total_awards_received': []})\n",
    "\n",
    "for subreddit in SUBREDDIT:\n",
    "    for sortby in SORTBY:\n",
    "        df = new_data_to_dataframe(df, subreddit=subreddit, sortby=sortby, limit=LIMIT)"
   ]
  },
  {
   "cell_type": "code",
   "execution_count": 21,
   "metadata": {},
   "outputs": [
    {
     "data": {
      "text/html": [
       "<div>\n",
       "<style scoped>\n",
       "    .dataframe tbody tr th:only-of-type {\n",
       "        vertical-align: middle;\n",
       "    }\n",
       "\n",
       "    .dataframe tbody tr th {\n",
       "        vertical-align: top;\n",
       "    }\n",
       "\n",
       "    .dataframe thead th {\n",
       "        text-align: right;\n",
       "    }\n",
       "</style>\n",
       "<table border=\"1\" class=\"dataframe\">\n",
       "  <thead>\n",
       "    <tr style=\"text-align: right;\">\n",
       "      <th></th>\n",
       "      <th>subreddit</th>\n",
       "      <th>title</th>\n",
       "      <th>upvote_ratio</th>\n",
       "      <th>score</th>\n",
       "      <th>total_awards_received</th>\n",
       "    </tr>\n",
       "  </thead>\n",
       "  <tbody>\n",
       "    <tr>\n",
       "      <th>0</th>\n",
       "      <td>Python</td>\n",
       "      <td>Sunday Daily Thread: What's everyone working o...</td>\n",
       "      <td>0.59</td>\n",
       "      <td>2.0</td>\n",
       "      <td>0.0</td>\n",
       "    </tr>\n",
       "    <tr>\n",
       "      <th>1</th>\n",
       "      <td>Python</td>\n",
       "      <td>Tuesday Daily Thread: Advanced questions</td>\n",
       "      <td>0.63</td>\n",
       "      <td>2.0</td>\n",
       "      <td>0.0</td>\n",
       "    </tr>\n",
       "    <tr>\n",
       "      <th>2</th>\n",
       "      <td>Python</td>\n",
       "      <td>Starfyre - A Python Web Framework for creating...</td>\n",
       "      <td>0.94</td>\n",
       "      <td>378.0</td>\n",
       "      <td>1.0</td>\n",
       "    </tr>\n",
       "    <tr>\n",
       "      <th>3</th>\n",
       "      <td>Python</td>\n",
       "      <td>Textual 0.24.0 adds a Select control</td>\n",
       "      <td>0.92</td>\n",
       "      <td>52.0</td>\n",
       "      <td>0.0</td>\n",
       "    </tr>\n",
       "    <tr>\n",
       "      <th>4</th>\n",
       "      <td>Python</td>\n",
       "      <td>deptry 0.10.0 - A tool to detect issues with y...</td>\n",
       "      <td>0.91</td>\n",
       "      <td>15.0</td>\n",
       "      <td>0.0</td>\n",
       "    </tr>\n",
       "  </tbody>\n",
       "</table>\n",
       "</div>"
      ],
      "text/plain": [
       "  subreddit                                              title  upvote_ratio   \n",
       "0    Python  Sunday Daily Thread: What's everyone working o...          0.59  \\\n",
       "1    Python           Tuesday Daily Thread: Advanced questions          0.63   \n",
       "2    Python  Starfyre - A Python Web Framework for creating...          0.94   \n",
       "3    Python               Textual 0.24.0 adds a Select control          0.92   \n",
       "4    Python  deptry 0.10.0 - A tool to detect issues with y...          0.91   \n",
       "\n",
       "   score  total_awards_received  \n",
       "0    2.0                    0.0  \n",
       "1    2.0                    0.0  \n",
       "2  378.0                    1.0  \n",
       "3   52.0                    0.0  \n",
       "4   15.0                    0.0  "
      ]
     },
     "execution_count": 21,
     "metadata": {},
     "output_type": "execute_result"
    }
   ],
   "source": [
    "df.head()"
   ]
  },
  {
   "cell_type": "code",
   "execution_count": 22,
   "metadata": {},
   "outputs": [
    {
     "name": "stdout",
     "output_type": "stream",
     "text": [
      "<class 'pandas.core.frame.DataFrame'>\n",
      "RangeIndex: 1736 entries, 0 to 1735\n",
      "Data columns (total 5 columns):\n",
      " #   Column                 Non-Null Count  Dtype  \n",
      "---  ------                 --------------  -----  \n",
      " 0   subreddit              1736 non-null   object \n",
      " 1   title                  1736 non-null   object \n",
      " 2   upvote_ratio           1736 non-null   float64\n",
      " 3   score                  1736 non-null   float64\n",
      " 4   total_awards_received  1736 non-null   float64\n",
      "dtypes: float64(3), object(2)\n",
      "memory usage: 67.9+ KB\n"
     ]
    }
   ],
   "source": [
    "df.info()"
   ]
  },
  {
   "cell_type": "code",
   "execution_count": 23,
   "metadata": {},
   "outputs": [
    {
     "data": {
      "text/html": [
       "<div>\n",
       "<style scoped>\n",
       "    .dataframe tbody tr th:only-of-type {\n",
       "        vertical-align: middle;\n",
       "    }\n",
       "\n",
       "    .dataframe tbody tr th {\n",
       "        vertical-align: top;\n",
       "    }\n",
       "\n",
       "    .dataframe thead th {\n",
       "        text-align: right;\n",
       "    }\n",
       "</style>\n",
       "<table border=\"1\" class=\"dataframe\">\n",
       "  <thead>\n",
       "    <tr style=\"text-align: right;\">\n",
       "      <th></th>\n",
       "      <th>upvote_ratio</th>\n",
       "      <th>score</th>\n",
       "      <th>total_awards_received</th>\n",
       "    </tr>\n",
       "  </thead>\n",
       "  <tbody>\n",
       "    <tr>\n",
       "      <th>count</th>\n",
       "      <td>1736.000000</td>\n",
       "      <td>1736.000000</td>\n",
       "      <td>1736.000000</td>\n",
       "    </tr>\n",
       "    <tr>\n",
       "      <th>mean</th>\n",
       "      <td>0.835386</td>\n",
       "      <td>2469.213134</td>\n",
       "      <td>0.078341</td>\n",
       "    </tr>\n",
       "    <tr>\n",
       "      <th>std</th>\n",
       "      <td>0.171318</td>\n",
       "      <td>8743.080577</td>\n",
       "      <td>0.657191</td>\n",
       "    </tr>\n",
       "    <tr>\n",
       "      <th>min</th>\n",
       "      <td>0.080000</td>\n",
       "      <td>0.000000</td>\n",
       "      <td>0.000000</td>\n",
       "    </tr>\n",
       "    <tr>\n",
       "      <th>25%</th>\n",
       "      <td>0.750000</td>\n",
       "      <td>11.000000</td>\n",
       "      <td>0.000000</td>\n",
       "    </tr>\n",
       "    <tr>\n",
       "      <th>50%</th>\n",
       "      <td>0.900000</td>\n",
       "      <td>48.000000</td>\n",
       "      <td>0.000000</td>\n",
       "    </tr>\n",
       "    <tr>\n",
       "      <th>75%</th>\n",
       "      <td>0.960000</td>\n",
       "      <td>434.500000</td>\n",
       "      <td>0.000000</td>\n",
       "    </tr>\n",
       "    <tr>\n",
       "      <th>max</th>\n",
       "      <td>1.000000</td>\n",
       "      <td>118425.000000</td>\n",
       "      <td>20.000000</td>\n",
       "    </tr>\n",
       "  </tbody>\n",
       "</table>\n",
       "</div>"
      ],
      "text/plain": [
       "       upvote_ratio          score  total_awards_received\n",
       "count   1736.000000    1736.000000            1736.000000\n",
       "mean       0.835386    2469.213134               0.078341\n",
       "std        0.171318    8743.080577               0.657191\n",
       "min        0.080000       0.000000               0.000000\n",
       "25%        0.750000      11.000000               0.000000\n",
       "50%        0.900000      48.000000               0.000000\n",
       "75%        0.960000     434.500000               0.000000\n",
       "max        1.000000  118425.000000              20.000000"
      ]
     },
     "execution_count": 23,
     "metadata": {},
     "output_type": "execute_result"
    }
   ],
   "source": [
    "df.describe()"
   ]
  },
  {
   "cell_type": "code",
   "execution_count": 24,
   "metadata": {},
   "outputs": [],
   "source": [
    "# Save to data to csv\n",
    "df.to_csv(\"reddit_data.csv\", index=False)"
   ]
  },
  {
   "attachments": {},
   "cell_type": "markdown",
   "metadata": {},
   "source": [
    "### Data Preprocessing\n",
    "\n",
    "Read in the dataset and split it into training and testing sets.  \n",
    "\n",
    "Also, examine the distribution of quantitative data."
   ]
  },
  {
   "cell_type": "code",
   "execution_count": 25,
   "metadata": {},
   "outputs": [
    {
     "data": {
      "text/html": [
       "<div>\n",
       "<style scoped>\n",
       "    .dataframe tbody tr th:only-of-type {\n",
       "        vertical-align: middle;\n",
       "    }\n",
       "\n",
       "    .dataframe tbody tr th {\n",
       "        vertical-align: top;\n",
       "    }\n",
       "\n",
       "    .dataframe thead th {\n",
       "        text-align: right;\n",
       "    }\n",
       "</style>\n",
       "<table border=\"1\" class=\"dataframe\">\n",
       "  <thead>\n",
       "    <tr style=\"text-align: right;\">\n",
       "      <th></th>\n",
       "      <th>subreddit</th>\n",
       "      <th>title</th>\n",
       "      <th>upvote_ratio</th>\n",
       "      <th>score</th>\n",
       "      <th>total_awards_received</th>\n",
       "    </tr>\n",
       "  </thead>\n",
       "  <tbody>\n",
       "    <tr>\n",
       "      <th>0</th>\n",
       "      <td>Python</td>\n",
       "      <td>Sunday Daily Thread: What's everyone working o...</td>\n",
       "      <td>0.59</td>\n",
       "      <td>2.0</td>\n",
       "      <td>0.0</td>\n",
       "    </tr>\n",
       "    <tr>\n",
       "      <th>1</th>\n",
       "      <td>Python</td>\n",
       "      <td>Tuesday Daily Thread: Advanced questions</td>\n",
       "      <td>0.63</td>\n",
       "      <td>2.0</td>\n",
       "      <td>0.0</td>\n",
       "    </tr>\n",
       "    <tr>\n",
       "      <th>2</th>\n",
       "      <td>Python</td>\n",
       "      <td>Starfyre - A Python Web Framework for creating...</td>\n",
       "      <td>0.94</td>\n",
       "      <td>378.0</td>\n",
       "      <td>1.0</td>\n",
       "    </tr>\n",
       "    <tr>\n",
       "      <th>3</th>\n",
       "      <td>Python</td>\n",
       "      <td>Textual 0.24.0 adds a Select control</td>\n",
       "      <td>0.92</td>\n",
       "      <td>52.0</td>\n",
       "      <td>0.0</td>\n",
       "    </tr>\n",
       "    <tr>\n",
       "      <th>4</th>\n",
       "      <td>Python</td>\n",
       "      <td>deptry 0.10.0 - A tool to detect issues with y...</td>\n",
       "      <td>0.91</td>\n",
       "      <td>15.0</td>\n",
       "      <td>0.0</td>\n",
       "    </tr>\n",
       "  </tbody>\n",
       "</table>\n",
       "</div>"
      ],
      "text/plain": [
       "  subreddit                                              title  upvote_ratio   \n",
       "0    Python  Sunday Daily Thread: What's everyone working o...          0.59  \\\n",
       "1    Python           Tuesday Daily Thread: Advanced questions          0.63   \n",
       "2    Python  Starfyre - A Python Web Framework for creating...          0.94   \n",
       "3    Python               Textual 0.24.0 adds a Select control          0.92   \n",
       "4    Python  deptry 0.10.0 - A tool to detect issues with y...          0.91   \n",
       "\n",
       "   score  total_awards_received  \n",
       "0    2.0                    0.0  \n",
       "1    2.0                    0.0  \n",
       "2  378.0                    1.0  \n",
       "3   52.0                    0.0  \n",
       "4   15.0                    0.0  "
      ]
     },
     "execution_count": 25,
     "metadata": {},
     "output_type": "execute_result"
    }
   ],
   "source": [
    "df = pd.read_csv(\"reddit_data.csv\")\n",
    "df.head()"
   ]
  },
  {
   "attachments": {},
   "cell_type": "markdown",
   "metadata": {},
   "source": [
    "Shuffling the dataset because it may help prevent models from learning any order of the dataset"
   ]
  },
  {
   "cell_type": "code",
   "execution_count": 26,
   "metadata": {},
   "outputs": [
    {
     "data": {
      "text/html": [
       "<div>\n",
       "<style scoped>\n",
       "    .dataframe tbody tr th:only-of-type {\n",
       "        vertical-align: middle;\n",
       "    }\n",
       "\n",
       "    .dataframe tbody tr th {\n",
       "        vertical-align: top;\n",
       "    }\n",
       "\n",
       "    .dataframe thead th {\n",
       "        text-align: right;\n",
       "    }\n",
       "</style>\n",
       "<table border=\"1\" class=\"dataframe\">\n",
       "  <thead>\n",
       "    <tr style=\"text-align: right;\">\n",
       "      <th></th>\n",
       "      <th>subreddit</th>\n",
       "      <th>title</th>\n",
       "      <th>upvote_ratio</th>\n",
       "      <th>score</th>\n",
       "      <th>total_awards_received</th>\n",
       "    </tr>\n",
       "  </thead>\n",
       "  <tbody>\n",
       "    <tr>\n",
       "      <th>956</th>\n",
       "      <td>aww</td>\n",
       "      <td>[OC] The only way to stop her from crawling in...</td>\n",
       "      <td>0.97</td>\n",
       "      <td>38.0</td>\n",
       "      <td>0.0</td>\n",
       "    </tr>\n",
       "    <tr>\n",
       "      <th>1667</th>\n",
       "      <td>oddlyspecific</td>\n",
       "      <td>Saw this getting blood drawn today.</td>\n",
       "      <td>0.96</td>\n",
       "      <td>392.0</td>\n",
       "      <td>0.0</td>\n",
       "    </tr>\n",
       "    <tr>\n",
       "      <th>1059</th>\n",
       "      <td>aww</td>\n",
       "      <td>It’s his cake day today, and He knew what was ...</td>\n",
       "      <td>0.88</td>\n",
       "      <td>43.0</td>\n",
       "      <td>0.0</td>\n",
       "    </tr>\n",
       "    <tr>\n",
       "      <th>1172</th>\n",
       "      <td>cats</td>\n",
       "      <td>Sweetcorn lover🤗</td>\n",
       "      <td>0.79</td>\n",
       "      <td>11.0</td>\n",
       "      <td>0.0</td>\n",
       "    </tr>\n",
       "    <tr>\n",
       "      <th>784</th>\n",
       "      <td>facepalm</td>\n",
       "      <td>Bella Hadid Getting Emotional For Not Having A...</td>\n",
       "      <td>0.73</td>\n",
       "      <td>42.0</td>\n",
       "      <td>0.0</td>\n",
       "    </tr>\n",
       "  </tbody>\n",
       "</table>\n",
       "</div>"
      ],
      "text/plain": [
       "          subreddit                                              title   \n",
       "956             aww  [OC] The only way to stop her from crawling in...  \\\n",
       "1667  oddlyspecific                Saw this getting blood drawn today.   \n",
       "1059            aww  It’s his cake day today, and He knew what was ...   \n",
       "1172           cats                                   Sweetcorn lover🤗   \n",
       "784        facepalm  Bella Hadid Getting Emotional For Not Having A...   \n",
       "\n",
       "      upvote_ratio  score  total_awards_received  \n",
       "956           0.97   38.0                    0.0  \n",
       "1667          0.96  392.0                    0.0  \n",
       "1059          0.88   43.0                    0.0  \n",
       "1172          0.79   11.0                    0.0  \n",
       "784           0.73   42.0                    0.0  "
      ]
     },
     "execution_count": 26,
     "metadata": {},
     "output_type": "execute_result"
    }
   ],
   "source": [
    "# Shuffle dataframe\n",
    "df = df.sample(frac=1, random_state=123)\n",
    "df.head()"
   ]
  },
  {
   "cell_type": "code",
   "execution_count": 27,
   "metadata": {},
   "outputs": [
    {
     "name": "stdout",
     "output_type": "stream",
     "text": [
      "Training samples: 1388\n",
      "Testing samples: 347\n"
     ]
    }
   ],
   "source": [
    "# Split dataframe into training and test sets\n",
    "TEST_SIZE = 0.2\n",
    "train_df = df[:int(len(df)*(1-TEST_SIZE))]\n",
    "test_df = df[-int(len(df)*TEST_SIZE):]\n",
    "print(f\"Training samples: {len(train_df)}\\nTesting samples: {len(test_df)}\")"
   ]
  },
  {
   "cell_type": "code",
   "execution_count": 28,
   "metadata": {},
   "outputs": [
    {
     "data": {
      "text/plain": [
       "subreddit\n",
       "mildlyinfuriating      169\n",
       "facepalm               167\n",
       "memes                  165\n",
       "aww                    163\n",
       "cats                   159\n",
       "gaming                 141\n",
       "news                   111\n",
       "technicallythetruth    110\n",
       "oddlyspecific          105\n",
       "Python                  98\n",
       "Name: count, dtype: int64"
      ]
     },
     "execution_count": 28,
     "metadata": {},
     "output_type": "execute_result"
    }
   ],
   "source": [
    "# How many samples belong to which subreddit?\n",
    "train_df.subreddit.value_counts()"
   ]
  },
  {
   "cell_type": "code",
   "execution_count": 29,
   "metadata": {},
   "outputs": [
    {
     "data": {
      "text/plain": [
       "<Axes: ylabel='Frequency'>"
      ]
     },
     "execution_count": 29,
     "metadata": {},
     "output_type": "execute_result"
    },
    {
     "data": {
      "image/png": "[encoded data removed]",
      "text/plain": [
       "<Figure size 640x480 with 1 Axes>"
      ]
     },
     "metadata": {},
     "output_type": "display_data"
    }
   ],
   "source": [
    "train_df.score.plot.hist()"
   ]
  },
  {
   "cell_type": "code",
   "execution_count": 30,
   "metadata": {},
   "outputs": [
    {
     "data": {
      "text/plain": [
       "<Axes: ylabel='Frequency'>"
      ]
     },
     "execution_count": 30,
     "metadata": {},
     "output_type": "execute_result"
    },
    {
     "data": {
      "image/png": "[encoded data removed]",
      "text/plain": [
       "<Figure size 640x480 with 1 Axes>"
      ]
     },
     "metadata": {},
     "output_type": "display_data"
    }
   ],
   "source": [
    "train_df.upvote_ratio.plot.hist()"
   ]
  },
  {
   "cell_type": "code",
   "execution_count": 31,
   "metadata": {},
   "outputs": [
    {
     "data": {
      "text/plain": [
       "<Axes: ylabel='Frequency'>"
      ]
     },
     "execution_count": 31,
     "metadata": {},
     "output_type": "execute_result"
    },
    {
     "data": {
      "image/png": "[encoded data removed]",
      "text/plain": [
       "<Figure size 640x480 with 1 Axes>"
      ]
     },
     "metadata": {},
     "output_type": "display_data"
    }
   ],
   "source": [
    "train_df.total_awards_received.plot.hist()"
   ]
  },
  {
   "cell_type": "code",
   "execution_count": 32,
   "metadata": {},
   "outputs": [
    {
     "data": {
      "text/plain": [
       "(1388, 347)"
      ]
     },
     "execution_count": 32,
     "metadata": {},
     "output_type": "execute_result"
    }
   ],
   "source": [
    "# Convert 'title' text into lists\n",
    "train_titles = train_df[\"title\"].tolist()\n",
    "test_titles = test_df[\"title\"].tolist()\n",
    "len(train_titles), len(test_titles)"
   ]
  },
  {
   "cell_type": "code",
   "execution_count": 33,
   "metadata": {},
   "outputs": [
    {
     "data": {
      "text/plain": [
       "['[OC] The only way to stop her from crawling into the front seat',\n",
       " 'Saw this getting blood drawn today.',\n",
       " 'It’s his cake day today, and He knew what was coming too.',\n",
       " 'Sweetcorn lover🤗',\n",
       " 'Bella Hadid Getting Emotional For Not Having Any Designer Items',\n",
       " \"I'm convinced my phone (s22 ultra) is defective, here's just a small collection of the autocorrect doing more harm than good\",\n",
       " \"It's been two weeks of construction on my street, right in front of my house. Apparently it might end in September, or 2024. And yeah, that's a portapotty on my front lawn. Guess I have a new bathroom.\",\n",
       " 'nom :3',\n",
       " 'Make way!!!',\n",
       " 'Fine line between love and hate']"
      ]
     },
     "execution_count": 33,
     "metadata": {},
     "output_type": "execute_result"
    }
   ],
   "source": [
    "train_titles[:10]"
   ]
  },
  {
   "attachments": {},
   "cell_type": "markdown",
   "metadata": {},
   "source": [
    "### Make Numeric Labels\n",
    "\n",
    "Need to turn text into numerical format; looks like one hot encoding and label encoding does the job"
   ]
  },
  {
   "attachments": {},
   "cell_type": "markdown",
   "metadata": {},
   "source": [
    "#### One Hot Encode labels\n",
    "\n",
    "Resource: https://scikit-learn.org/stable/modules/generated/sklearn.preprocessing.OneHotEncoder.html"
   ]
  },
  {
   "cell_type": "code",
   "execution_count": 34,
   "metadata": {},
   "outputs": [
    {
     "data": {
      "text/plain": [
       "array([[0., 1., 0., ..., 0., 0., 0.],\n",
       "       [0., 0., 0., ..., 0., 1., 0.],\n",
       "       [0., 1., 0., ..., 0., 0., 0.],\n",
       "       ...,\n",
       "       [0., 1., 0., ..., 0., 0., 0.],\n",
       "       [0., 1., 0., ..., 0., 0., 0.],\n",
       "       [0., 0., 0., ..., 0., 0., 0.]])"
      ]
     },
     "execution_count": 34,
     "metadata": {},
     "output_type": "execute_result"
    }
   ],
   "source": [
    "# One hot encode the 'subreddit' labels\n",
    "one_hot_encoder = OneHotEncoder(sparse_output=False)\n",
    "train_labels_one_hot = one_hot_encoder.fit_transform(train_df[\"subreddit\"].to_numpy().reshape(-1, 1))\n",
    "test_labels_one_hot = one_hot_encoder.fit_transform(test_df[\"subreddit\"].to_numpy().reshape(-1, 1))\n",
    "train_labels_one_hot"
   ]
  },
  {
   "attachments": {},
   "cell_type": "markdown",
   "metadata": {},
   "source": [
    "#### Label Encode labels\n",
    "\n",
    "Resource: https://scikit-learn.org/stable/modules/generated/sklearn.preprocessing.LabelEncoder.html"
   ]
  },
  {
   "cell_type": "code",
   "execution_count": 35,
   "metadata": {},
   "outputs": [
    {
     "data": {
      "text/plain": [
       "array([1, 8, 1, ..., 1, 1, 5])"
      ]
     },
     "execution_count": 35,
     "metadata": {},
     "output_type": "execute_result"
    }
   ],
   "source": [
    "# Label encode 'subreddit' labels\n",
    "label_encoder = LabelEncoder()\n",
    "train_labels_encoded = label_encoder.fit_transform(train_df[\"subreddit\"].to_numpy())\n",
    "test_labels_encoded = label_encoder.fit_transform(test_df[\"subreddit\"].to_numpy())\n",
    "train_labels_encoded"
   ]
  },
  {
   "cell_type": "code",
   "execution_count": 36,
   "metadata": {},
   "outputs": [
    {
     "data": {
      "text/plain": [
       "(10,\n",
       " array(['Python', 'aww', 'cats', 'facepalm', 'gaming', 'memes',\n",
       "        'mildlyinfuriating', 'news', 'oddlyspecific',\n",
       "        'technicallythetruth'], dtype=object))"
      ]
     },
     "execution_count": 36,
     "metadata": {},
     "output_type": "execute_result"
    }
   ],
   "source": [
    "# Get class names and number of classes from LabelEncoder instance\n",
    "num_classes = len(label_encoder.classes_)\n",
    "class_names = label_encoder.classes_\n",
    "num_classes, class_names"
   ]
  },
  {
   "attachments": {},
   "cell_type": "markdown",
   "metadata": {},
   "source": [
    "## Modeling"
   ]
  },
  {
   "attachments": {},
   "cell_type": "markdown",
   "metadata": {},
   "source": [
    "### Model 0: The Baseline\n",
    "\n",
    "The baseline model will use the TF-IDF (term frequency-inverse document frequency) Multinomial Niave Bayes.  \n",
    "\n",
    "Create a Scikit-Learn `Pipeline` using:  \n",
    "* Use the `TfidVectorizer` class from Scikit-Learn to convert text data into numbers.  \n",
    "* Use the `MultinomialNB` algorithm for classification learning.\n",
    "\n",
    "Resources:\n",
    "* https://scikit-learn.org/stable/modules/generated/sklearn.feature_extraction.text.TfidfVectorizer.html\n",
    "* https://scikit-learn.org/stable/modules/generated/sklearn.naive_bayes.MultinomialNB.html"
   ]
  },
  {
   "cell_type": "code",
   "execution_count": 37,
   "metadata": {},
   "outputs": [
    {
     "data": {
      "text/html": [
       "<style>#sk-container-id-1 {color: black;background-color: white;}#sk-container-id-1 pre{padding: 0;}#sk-container-id-1 div.sk-toggleable {background-color: white;}#sk-container-id-1 label.sk-toggleable__label {cursor: pointer;display: block;width: 100%;margin-bottom: 0;padding: 0.3em;box-sizing: border-box;text-align: center;}#sk-container-id-1 label.sk-toggleable__label-arrow:before {content: \"▸\";float: left;margin-right: 0.25em;color: #696969;}#sk-container-id-1 label.sk-toggleable__label-arrow:hover:before {color: black;}#sk-container-id-1 div.sk-estimator:hover label.sk-toggleable__label-arrow:before {color: black;}#sk-container-id-1 div.sk-toggleable__content {max-height: 0;max-width: 0;overflow: hidden;text-align: left;background-color: #f0f8ff;}#sk-container-id-1 div.sk-toggleable__content pre {margin: 0.2em;color: black;border-radius: 0.25em;background-color: #f0f8ff;}#sk-container-id-1 input.sk-toggleable__control:checked~div.sk-toggleable__content {max-height: 200px;max-width: 100%;overflow: auto;}#sk-container-id-1 input.sk-toggleable__control:checked~label.sk-toggleable__label-arrow:before {content: \"▾\";}#sk-container-id-1 div.sk-estimator input.sk-toggleable__control:checked~label.sk-toggleable__label {background-color: #d4ebff;}#sk-container-id-1 div.sk-label input.sk-toggleable__control:checked~label.sk-toggleable__label {background-color: #d4ebff;}#sk-container-id-1 input.sk-hidden--visually {border: 0;clip: rect(1px 1px 1px 1px);clip: rect(1px, 1px, 1px, 1px);height: 1px;margin: -1px;overflow: hidden;padding: 0;position: absolute;width: 1px;}#sk-container-id-1 div.sk-estimator {font-family: monospace;background-color: #f0f8ff;border: 1px dotted black;border-radius: 0.25em;box-sizing: border-box;margin-bottom: 0.5em;}#sk-container-id-1 div.sk-estimator:hover {background-color: #d4ebff;}#sk-container-id-1 div.sk-parallel-item::after {content: \"\";width: 100%;border-bottom: 1px solid gray;flex-grow: 1;}#sk-container-id-1 div.sk-label:hover label.sk-toggleable__label {background-color: #d4ebff;}#sk-container-id-1 div.sk-serial::before {content: \"\";position: absolute;border-left: 1px solid gray;box-sizing: border-box;top: 0;bottom: 0;left: 50%;z-index: 0;}#sk-container-id-1 div.sk-serial {display: flex;flex-direction: column;align-items: center;background-color: white;padding-right: 0.2em;padding-left: 0.2em;position: relative;}#sk-container-id-1 div.sk-item {position: relative;z-index: 1;}#sk-container-id-1 div.sk-parallel {display: flex;align-items: stretch;justify-content: center;background-color: white;position: relative;}#sk-container-id-1 div.sk-item::before, #sk-container-id-1 div.sk-parallel-item::before {content: \"\";position: absolute;border-left: 1px solid gray;box-sizing: border-box;top: 0;bottom: 0;left: 50%;z-index: -1;}#sk-container-id-1 div.sk-parallel-item {display: flex;flex-direction: column;z-index: 1;position: relative;background-color: white;}#sk-container-id-1 div.sk-parallel-item:first-child::after {align-self: flex-end;width: 50%;}#sk-container-id-1 div.sk-parallel-item:last-child::after {align-self: flex-start;width: 50%;}#sk-container-id-1 div.sk-parallel-item:only-child::after {width: 0;}#sk-container-id-1 div.sk-dashed-wrapped {border: 1px dashed gray;margin: 0 0.4em 0.5em 0.4em;box-sizing: border-box;padding-bottom: 0.4em;background-color: white;}#sk-container-id-1 div.sk-label label {font-family: monospace;font-weight: bold;display: inline-block;line-height: 1.2em;}#sk-container-id-1 div.sk-label-container {text-align: center;}#sk-container-id-1 div.sk-container {/* jupyter's `normalize.less` sets `[hidden] { display: none; }` but bootstrap.min.css set `[hidden] { display: none !important; }` so we also need the `!important` here to be able to override the default hidden behavior on the sphinx rendered scikit-learn.org. See: https://github.com/scikit-learn/scikit-learn/issues/21755 */display: inline-block !important;position: relative;}#sk-container-id-1 div.sk-text-repr-fallback {display: none;}</style><div id=\"sk-container-id-1\" class=\"sk-top-container\"><div class=\"sk-text-repr-fallback\"><pre>Pipeline(steps=[(&#x27;tf-idf&#x27;, TfidfVectorizer()), (&#x27;clf&#x27;, MultinomialNB())])</pre><b>In a Jupyter environment, please rerun this cell to show the HTML representation or trust the notebook. <br />On GitHub, the HTML representation is unable to render, please try loading this page with nbviewer.org.</b></div><div class=\"sk-container\" hidden><div class=\"sk-item sk-dashed-wrapped\"><div class=\"sk-label-container\"><div class=\"sk-label sk-toggleable\"><input class=\"sk-toggleable__control sk-hidden--visually\" id=\"sk-estimator-id-1\" type=\"checkbox\" ><label for=\"sk-estimator-id-1\" class=\"sk-toggleable__label sk-toggleable__label-arrow\">Pipeline</label><div class=\"sk-toggleable__content\"><pre>Pipeline(steps=[(&#x27;tf-idf&#x27;, TfidfVectorizer()), (&#x27;clf&#x27;, MultinomialNB())])</pre></div></div></div><div class=\"sk-serial\"><div class=\"sk-item\"><div class=\"sk-estimator sk-toggleable\"><input class=\"sk-toggleable__control sk-hidden--visually\" id=\"sk-estimator-id-2\" type=\"checkbox\" ><label for=\"sk-estimator-id-2\" class=\"sk-toggleable__label sk-toggleable__label-arrow\">TfidfVectorizer</label><div class=\"sk-toggleable__content\"><pre>TfidfVectorizer()</pre></div></div></div><div class=\"sk-item\"><div class=\"sk-estimator sk-toggleable\"><input class=\"sk-toggleable__control sk-hidden--visually\" id=\"sk-estimator-id-3\" type=\"checkbox\" ><label for=\"sk-estimator-id-3\" class=\"sk-toggleable__label sk-toggleable__label-arrow\">MultinomialNB</label><div class=\"sk-toggleable__content\"><pre>MultinomialNB()</pre></div></div></div></div></div></div></div>"
      ],
      "text/plain": [
       "Pipeline(steps=[('tf-idf', TfidfVectorizer()), ('clf', MultinomialNB())])"
      ]
     },
     "execution_count": 37,
     "metadata": {},
     "output_type": "execute_result"
    }
   ],
   "source": [
    "# Create the pipeline\n",
    "model_base = Pipeline([\n",
    "    (\"tf-idf\", TfidfVectorizer()),\n",
    "    (\"clf\", MultinomialNB())\n",
    "])\n",
    "\n",
    "# Fit the pipeline to the training data\n",
    "model_base.fit(X=train_titles,\n",
    "               y=train_labels_encoded)"
   ]
  },
  {
   "attachments": {},
   "cell_type": "markdown",
   "metadata": {},
   "source": [
    "#### Evaluation"
   ]
  },
  {
   "cell_type": "code",
   "execution_count": 38,
   "metadata": {},
   "outputs": [
    {
     "data": {
      "text/plain": [
       "0.5504322766570605"
      ]
     },
     "execution_count": 38,
     "metadata": {},
     "output_type": "execute_result"
    }
   ],
   "source": [
    "# Evaluate the baseline model on the test dataset\n",
    "model_base.score(X=test_titles,\n",
    "                 y=test_labels_encoded)"
   ]
  },
  {
   "cell_type": "code",
   "execution_count": 39,
   "metadata": {},
   "outputs": [
    {
     "data": {
      "text/plain": [
       "array([4, 0, 6, 6, 8, 1, 1, 4, 2, 7, 5, 2, 5, 4, 5, 1, 4, 6, 5, 0, 4, 2,\n",
       "       7, 5, 0, 6, 1, 1, 6, 1, 1, 4, 7, 2, 1, 1, 6, 6, 0, 2, 2, 1, 4, 6,\n",
       "       6, 6, 4, 6, 6, 5, 1, 2, 6, 1, 6, 5, 7, 6, 2, 2, 5, 5, 4, 4, 1, 5,\n",
       "       6, 6, 1, 4, 3, 7, 3, 5, 7, 4, 6, 3, 4, 4, 2, 6, 4, 6, 6, 1, 2, 6,\n",
       "       1, 2, 5, 4, 9, 7, 3, 6, 3, 1, 5, 5, 6, 3, 3, 3, 2, 6, 2, 5, 3, 3,\n",
       "       1, 6, 6, 1, 3, 4, 3, 3, 6, 1, 4, 4, 6, 6, 7, 1, 4, 3, 1, 2, 7, 1,\n",
       "       5, 3, 6, 4, 7, 3, 6, 2, 2, 7, 4, 5, 3, 7, 6, 5, 4, 6, 8, 4, 7, 4,\n",
       "       1, 5, 4, 1, 5, 4, 4, 6, 2, 3, 2, 0, 2, 5, 3, 4, 6, 6, 9, 6, 6, 6,\n",
       "       5, 2, 6, 5, 7, 1, 4, 6, 1, 9, 8, 2, 0, 0, 3, 0, 1, 6, 1, 6, 7, 1,\n",
       "       4, 4, 9, 5, 9, 1, 2, 4, 6, 3, 5, 2, 6, 0, 5, 1, 3, 1, 4, 4, 6, 5,\n",
       "       2, 5, 4, 6, 4, 2, 6, 7, 0, 4, 3, 6, 6, 1, 3, 6, 4, 7, 2, 6, 6, 6,\n",
       "       1, 2, 6, 6, 6, 1, 1, 6, 0, 9, 6, 4, 4, 6, 4, 2, 4, 7, 1, 5, 6, 0,\n",
       "       6, 2, 6, 5, 7, 4, 6, 9, 2, 4, 6, 1, 7, 9, 6, 7, 6, 2, 7, 3, 5, 5,\n",
       "       3, 7, 1, 5, 4, 6, 6, 3, 6, 5, 4, 6, 5, 4, 6, 5, 3, 5, 6, 9, 1, 3,\n",
       "       4, 2, 2, 4, 3, 4, 4, 0, 4, 0, 6, 2, 5, 6, 6, 6, 3, 5, 6, 0, 6, 1,\n",
       "       3, 0, 5, 4, 0, 3, 2, 6, 2, 0, 6, 6, 1, 2, 6, 6, 1])"
      ]
     },
     "execution_count": 39,
     "metadata": {},
     "output_type": "execute_result"
    }
   ],
   "source": [
    "# Make some predictions\n",
    "baseline_predict = model_base.predict(test_titles)\n",
    "baseline_predict"
   ]
  },
  {
   "attachments": {},
   "cell_type": "markdown",
   "metadata": {},
   "source": [
    "The `baseline_predict` array contains integers that correlate to the label (subreddit).  \n",
    "\n",
    "E.g. '0' correlates to 'r/python' and '8' correlates to 'r/news'.  \n",
    "\n",
    "The maximum integer is determined by the number of unique subreddit labels in the dataset."
   ]
  },
  {
   "cell_type": "code",
   "execution_count": 40,
   "metadata": {},
   "outputs": [],
   "source": [
    "# Calculate baseline model accuracy\n",
    "baseline_accuracy = accuracy_score(y_true=test_labels_encoded,\n",
    "                                y_pred=baseline_predict)"
   ]
  },
  {
   "cell_type": "code",
   "execution_count": 41,
   "metadata": {},
   "outputs": [],
   "source": [
    "# Calculate baseline model precision, recall, and f1 score using weighted average\n",
    "baseline_precision, baseline_recall, baseline_f1, _ = precision_recall_fscore_support(y_true=test_labels_encoded,\n",
    "                                                                              y_pred=baseline_predict,\n",
    "                                                                              average=\"weighted\")"
   ]
  },
  {
   "cell_type": "code",
   "execution_count": 42,
   "metadata": {},
   "outputs": [
    {
     "data": {
      "text/plain": [
       "{'accuracy': 0.5504322766570605,\n",
       " 'precision': 0.6544954168841474,\n",
       " 'recall': 0.5504322766570605,\n",
       " 'f1': 0.5510624734145613}"
      ]
     },
     "execution_count": 42,
     "metadata": {},
     "output_type": "execute_result"
    }
   ],
   "source": [
    "# Display mbaseline model results\n",
    "baseline_results = {\"accuracy\": baseline_accuracy,\n",
    "                    \"precision\": baseline_precision,\n",
    "                    \"recall\": baseline_recall,\n",
    "                    \"f1\": baseline_f1}\n",
    "baseline_results"
   ]
  },
  {
   "attachments": {},
   "cell_type": "markdown",
   "metadata": {},
   "source": [
    "As of the last time the code above was executed: accuracy, precision, recall, and f1 scores are near 50%.  \n",
    "\n",
    "Not sure if the baseline is performing poorly because of the data itself, the train-to-test ratio, or the model is not optimal for this \n",
    "project.  \n",
    "\n",
    "Need to make build more models and evaluate their performances to compare."
   ]
  },
  {
   "attachments": {},
   "cell_type": "markdown",
   "metadata": {},
   "source": [
    "### Intermission: Preparing data for TensorFlow Models\n",
    "\n",
    "Before building the model, first do a couple things with the data\n",
    "1. Create a vectorization layer - converts text to numbers\n",
    "2. Create an embedding layer - captures the relationships between the vectorized numbers"
   ]
  },
  {
   "attachments": {},
   "cell_type": "markdown",
   "metadata": {},
   "source": [
    "First, find out how many words are in each post.  \n",
    "\n",
    "The goal is to add padding (zeros) to vectors such that each 'title' post is the same length in the vectorizer.  \n",
    "\n",
    "E.g. A random 'title' is 5 words long and the longest 'title' contains 20 words, which means the 5-word 'title' will be padded with zeros so that it ends up being the same length as the 20-word 'title'."
   ]
  },
  {
   "cell_type": "code",
   "execution_count": 43,
   "metadata": {},
   "outputs": [
    {
     "data": {
      "text/plain": [
       "8.87463976945245"
      ]
     },
     "execution_count": 43,
     "metadata": {},
     "output_type": "execute_result"
    }
   ],
   "source": [
    "# What is the average length of each 'title'?\n",
    "title_lens = [len(sentence.split()) for sentence in train_titles]\n",
    "avg_title_len = np.mean(title_lens)\n",
    "avg_title_len"
   ]
  },
  {
   "cell_type": "code",
   "execution_count": 44,
   "metadata": {},
   "outputs": [
    {
     "data": {
      "image/png": "[encoded data removed]",
      "text/plain": [
       "<Figure size 640x480 with 1 Axes>"
      ]
     },
     "metadata": {},
     "output_type": "display_data"
    }
   ],
   "source": [
    "# What is the distribution for 'title' length?\n",
    "plt.hist(title_lens)\n",
    "plt.xlabel(\"Words\")\n",
    "plt.ylabel(\"Frequency\")\n",
    "plt.show()"
   ]
  },
  {
   "cell_type": "code",
   "execution_count": 45,
   "metadata": {},
   "outputs": [
    {
     "data": {
      "text/plain": [
       "21"
      ]
     },
     "execution_count": 45,
     "metadata": {},
     "output_type": "execute_result"
    }
   ],
   "source": [
    "# How long of a sentence covers 95% of the lengths?\n",
    "output_seq_len = int(np.percentile(title_lens, 95))\n",
    "output_seq_len"
   ]
  },
  {
   "attachments": {},
   "cell_type": "markdown",
   "metadata": {},
   "source": [
    "According to the histogram and percentile function, 95% of the 'title' data in the training dataset has a length of `output_seq_len` or less.  \n",
    "\n",
    "So, 'title' data during vectorization should be `output_seq_len` long; the data is padded if shorter than `output_seq_len` or is truncated if longer than `output_seq_len`.\n",
    "\n",
    "It is better to set `output_seq_len` to the 95% percentile rather than the maximum because the histogram shows most 'title' data is under 20 words long.  \n",
    "\n",
    "Using the maximum value for `output_seq_len` would result in anunecessary amount of padding to the vectorized data."
   ]
  },
  {
   "attachments": {},
   "cell_type": "markdown",
   "metadata": {},
   "source": [
    "#### Create the Text Vectorizer using TensorFlow"
   ]
  },
  {
   "cell_type": "code",
   "execution_count": 46,
   "metadata": {},
   "outputs": [
    {
     "data": {
      "text/plain": [
       "1386"
      ]
     },
     "execution_count": 46,
     "metadata": {},
     "output_type": "execute_result"
    }
   ],
   "source": [
    "# how many words are on the vocabulary?\n",
    "max_tokens = df.title.nunique()\n",
    "max_tokens"
   ]
  },
  {
   "attachments": {},
   "cell_type": "markdown",
   "metadata": {},
   "source": [
    "Use the TensorFlow `TextVectorization` function with `output_seq_len` and `max_tokens` as parameters.\n",
    "\n",
    "Adapt the TensorFlow text vectorizer to the training 'title' data\n",
    "\n",
    "Resource: https://www.tensorflow.org/api_docs/python/tf/keras/layers/TextVectorization"
   ]
  },
  {
   "cell_type": "code",
   "execution_count": 47,
   "metadata": {},
   "outputs": [],
   "source": [
    "# Create text vectorizer\n",
    "text_vectorizer = TextVectorization(max_tokens=max_tokens,\n",
    "                                    output_sequence_length=output_seq_len)\n",
    "\n",
    "# Adapt text vectorizer to training data\n",
    "text_vectorizer.adapt(train_titles)"
   ]
  },
  {
   "cell_type": "code",
   "execution_count": 48,
   "metadata": {},
   "outputs": [
    {
     "name": "stdout",
     "output_type": "stream",
     "text": [
      "Text:\n",
      "Kicked off his NFL team, lost his multi million dollar contract. Name dragged through the mud. And wasn’t even there. All based on what someone SAID.\n",
      "\n",
      "Length of text: 26\n",
      "\n",
      "Vectorized text:\n",
      "[[1231  165   55 1141  158  235   55 1157  463    1    1  166    1  267\n",
      "     2 1158    9  556   76  269   45]]\n"
     ]
    }
   ],
   "source": [
    "# Test the text vectorizer on random samples from dataset\n",
    "random_title = random.choice(train_titles)\n",
    "print(f\"Text:\\n{random_title}\")\n",
    "print(f\"\\nLength of text: {len(random_title.split())}\")\n",
    "print(f\"\\nVectorized text:\\n{text_vectorizer([random_title])}\")"
   ]
  },
  {
   "cell_type": "code",
   "execution_count": 49,
   "metadata": {},
   "outputs": [
    {
     "data": {
      "text/plain": [
       "{'name': 'text_vectorization',\n",
       " 'trainable': True,\n",
       " 'dtype': 'string',\n",
       " 'batch_input_shape': (None,),\n",
       " 'max_tokens': 1386,\n",
       " 'standardize': 'lower_and_strip_punctuation',\n",
       " 'split': 'whitespace',\n",
       " 'ngrams': None,\n",
       " 'output_mode': 'int',\n",
       " 'output_sequence_length': 21,\n",
       " 'pad_to_max_tokens': False,\n",
       " 'sparse': False,\n",
       " 'ragged': False,\n",
       " 'vocabulary': None,\n",
       " 'idf_weights': None,\n",
       " 'encoding': 'utf-8',\n",
       " 'vocabulary_size': 1386}"
      ]
     },
     "execution_count": 49,
     "metadata": {},
     "output_type": "execute_result"
    }
   ],
   "source": [
    "# What does the config of the text vectorizer look like?\n",
    "text_vectorizer.get_config()"
   ]
  },
  {
   "cell_type": "code",
   "execution_count": 50,
   "metadata": {},
   "outputs": [
    {
     "name": "stdout",
     "output_type": "stream",
     "text": [
      "Number of words in vocabulary: 1386\n",
      "Most common words in vocabulary ['', '[UNK]', 'the', 'a', 'to']\n",
      "Least common words in vocabulary ['edit', 'eaten', 'ease', 'dying', 'dungeon']\n"
     ]
    }
   ],
   "source": [
    "# How many words are in the text vectorizer's vocabulary?\n",
    "# What are the most/least common words in the vocabulary?\n",
    "text_vec_vocab = text_vectorizer.get_vocabulary()\n",
    "print(f\"Number of words in vocabulary: {len(text_vec_vocab)}\")\n",
    "print(f\"Most common words in vocabulary {text_vec_vocab[:5]}\")\n",
    "print(f\"Least common words in vocabulary {text_vec_vocab[-5:]}\")"
   ]
  },
  {
   "attachments": {},
   "cell_type": "markdown",
   "metadata": {},
   "source": [
    "#### Creating Text Embeddings using TensorFlow\n",
    "\n",
    "The embedding layer takes in integer inputs of the `text_vectorizer` layer and converts the integers into feature vectors of size `output_dim`.  \n",
    "\n",
    "Start off with token embeddings, which looks at the relationship between sequences of words"
   ]
  },
  {
   "cell_type": "code",
   "execution_count": 51,
   "metadata": {},
   "outputs": [],
   "source": [
    "# Create token embedding layer\n",
    "token_embed = layers.Embedding(input_dim=len(text_vec_vocab),\n",
    "                               output_dim=128, # I chose a common output dimension that is a power of 2\n",
    "                               mask_zero=True,\n",
    "                               name=\"token_embedding\")"
   ]
  },
  {
   "cell_type": "code",
   "execution_count": 52,
   "metadata": {},
   "outputs": [
    {
     "name": "stdout",
     "output_type": "stream",
     "text": [
      "Title before vectorization:\n",
      "Kicked off his NFL team, lost his multi million dollar contract. Name dragged through the mud. And wasn’t even there. All based on what someone SAID.\n",
      "\n"
     ]
    }
   ],
   "source": [
    "print(f\"Title before vectorization:\\n{random_title}\\n\")\n",
    "vectorized_title = text_vectorizer([random_title])"
   ]
  },
  {
   "cell_type": "code",
   "execution_count": 53,
   "metadata": {},
   "outputs": [
    {
     "name": "stdout",
     "output_type": "stream",
     "text": [
      "Title after vectorization (before embedding):\n",
      "[[1231  165   55 1141  158  235   55 1157  463    1    1  166    1  267\n",
      "     2 1158    9  556   76  269   45]]\n",
      "\n"
     ]
    }
   ],
   "source": [
    "print(f\"Title after vectorization (before embedding):\\n{vectorized_title}\\n\")\n",
    "embedded_title = token_embed(vectorized_title)"
   ]
  },
  {
   "cell_type": "code",
   "execution_count": 54,
   "metadata": {},
   "outputs": [
    {
     "name": "stdout",
     "output_type": "stream",
     "text": [
      "Sentence after embedding:\n",
      "[[[ 0.03356233 -0.0186103   0.03621718 ... -0.03330532  0.00454511\n",
      "   -0.00103072]\n",
      "  [-0.02985975  0.03007022  0.01084147 ... -0.01935346 -0.03075277\n",
      "    0.02076098]\n",
      "  [ 0.04645817  0.00092475  0.04193524 ...  0.03973294 -0.00594383\n",
      "   -0.03547595]\n",
      "  ...\n",
      "  [ 0.03223742 -0.0147608   0.02896776 ... -0.00480806 -0.01061317\n",
      "    0.04343288]\n",
      "  [-0.00255126 -0.02831504 -0.03050829 ... -0.00985948 -0.01922451\n",
      "   -0.01773368]\n",
      "  [ 0.02426399  0.04393869  0.04325428 ...  0.00673834 -0.00394667\n",
      "   -0.02934915]]]\n",
      "\n",
      "Embedded sentence shape: (1, 21, 128)\n"
     ]
    }
   ],
   "source": [
    "print(f\"Sentence after embedding:\\n{embedded_title}\\n\")\n",
    "print(f\"Embedded sentence shape: {embedded_title.shape}\")"
   ]
  },
  {
   "attachments": {},
   "cell_type": "markdown",
   "metadata": {},
   "source": [
    "#### Data Batching\n",
    "\n",
    "Use the `tf.data` API to turn data into TensorFlow datasets and prefetched batches for more optimal training\n",
    "\n",
    "Resource: https://www.tensorflow.org/guide/data"
   ]
  },
  {
   "cell_type": "code",
   "execution_count": 55,
   "metadata": {},
   "outputs": [
    {
     "data": {
      "text/plain": [
       "(<_PrefetchDataset element_spec=(TensorSpec(shape=(None,), dtype=tf.string, name=None), TensorSpec(shape=(None, 10), dtype=tf.float64, name=None))>,\n",
       " <_PrefetchDataset element_spec=(TensorSpec(shape=(None,), dtype=tf.string, name=None), TensorSpec(shape=(None, 10), dtype=tf.float64, name=None))>)"
      ]
     },
     "execution_count": 55,
     "metadata": {},
     "output_type": "execute_result"
    }
   ],
   "source": [
    "# Produce TensorFlow datasets\n",
    "train_dataset = tf.data.Dataset.from_tensor_slices((train_titles, train_labels_one_hot))\n",
    "test_dataset = tf.data.Dataset.from_tensor_slices((test_titles, test_labels_one_hot))\n",
    "\n",
    "# Turn the TensorSliceDatasets into prefetched batches\n",
    "train_dataset = train_dataset.batch(32).prefetch(tf.data.AUTOTUNE)\n",
    "test_dataset = test_dataset.batch(32).prefetch(tf.data.AUTOTUNE)\n",
    "\n",
    "train_dataset, test_dataset"
   ]
  },
  {
   "attachments": {},
   "cell_type": "markdown",
   "metadata": {},
   "source": [
    "### Model 1: Conv1D with Token Embeddings\n",
    "\n",
    "Create a 1D Convolutional Neural Network model\n",
    "\n",
    "Resources:\n",
    "* https://www.tensorflow.org/guide/keras/functional\n",
    "* https://www.tensorflow.org/api_docs/python/tf/keras/layers/InputLayer\n",
    "* https://www.tensorflow.org/api_docs/python/tf/keras/layers/Conv1D\n",
    "* https://www.tensorflow.org/api_docs/python/tf/keras/layers/GlobalAveragePooling1D\n",
    "* https://www.tensorflow.org/api_docs/python/tf/keras/layers/Dense\n",
    "* https://www.tensorflow.org/api_docs/python/tf/keras/Model\n",
    "* https://www.tensorflow.org/api_docs/python/tf/keras/losses/CategoricalCrossentropy\n",
    "* https://www.tensorflow.org/api_docs/python/tf/keras/optimizers/Adam"
   ]
  },
  {
   "attachments": {},
   "cell_type": "markdown",
   "metadata": {},
   "source": [
    "#### Building"
   ]
  },
  {
   "cell_type": "code",
   "execution_count": 56,
   "metadata": {},
   "outputs": [],
   "source": [
    "# Create model architecture\n",
    "inputs = layers.Input(shape=(1,), dtype=tf.string)\n",
    "text_vectors = text_vectorizer(inputs)\n",
    "token_embeddings = token_embed(text_vectors)\n",
    "x = layers.Conv1D(filters=64, kernel_size=5, padding=\"same\", activation=\"relu\")(token_embeddings)\n",
    "x = layers.GlobalAveragePooling1D()(x)\n",
    "outputs = layers.Dense(num_classes, activation=\"softmax\")(x)\n",
    "model_1 = tf.keras.Model(inputs, outputs)"
   ]
  },
  {
   "cell_type": "code",
   "execution_count": 57,
   "metadata": {},
   "outputs": [
    {
     "name": "stdout",
     "output_type": "stream",
     "text": [
      "Model: \"model\"\n",
      "_________________________________________________________________\n",
      " Layer (type)                Output Shape              Param #   \n",
      "=================================================================\n",
      " input_1 (InputLayer)        [(None, 1)]               0         \n",
      "                                                                 \n",
      " text_vectorization (TextVec  (None, 21)               0         \n",
      " torization)                                                     \n",
      "                                                                 \n",
      " token_embedding (Embedding)  (None, 21, 128)          177408    \n",
      "                                                                 \n",
      " conv1d (Conv1D)             (None, 21, 64)            41024     \n",
      "                                                                 \n",
      " global_average_pooling1d (G  (None, 64)               0         \n",
      " lobalAveragePooling1D)                                          \n",
      "                                                                 \n",
      " dense (Dense)               (None, 10)                650       \n",
      "                                                                 \n",
      "=================================================================\n",
      "Total params: 219,082\n",
      "Trainable params: 219,082\n",
      "Non-trainable params: 0\n",
      "_________________________________________________________________\n"
     ]
    }
   ],
   "source": [
    "# Summary of the layers and hyperparameters of the model\n",
    "model_1.summary()"
   ]
  },
  {
   "attachments": {},
   "cell_type": "markdown",
   "metadata": {},
   "source": [
    "Interesting things about the summary:\n",
    "* The shapes for the token embedding and text vectoriation in the summary should match what was recorded earlier in the notebook.\n",
    "* The Conv1D layer reduced the shape of the data in half\n",
    "* The global avreage pooling layer flattened the dimensions from the Conv1D layer\n",
    "* The final output layer should be the same shape as the number of unique 'subreddit' labels in the dataset.\n",
    "* Only the embedding layer, conv1D layer, and the dense layer had trainable hyperparameters; the weights of only these layers are updated during training"
   ]
  },
  {
   "cell_type": "code",
   "execution_count": 58,
   "metadata": {},
   "outputs": [],
   "source": [
    "# Compile the model\n",
    "model_1.compile(loss=tf.keras.losses.categorical_crossentropy,\n",
    "                optimizer=tf.keras.optimizers.Adam(),\n",
    "                metrics=\"accuracy\")"
   ]
  },
  {
   "attachments": {},
   "cell_type": "markdown",
   "metadata": {},
   "source": [
    "#### Training"
   ]
  },
  {
   "cell_type": "code",
   "execution_count": 59,
   "metadata": {},
   "outputs": [
    {
     "name": "stdout",
     "output_type": "stream",
     "text": [
      "Epoch 1/50\n",
      "44/44 [==============================] - 1s 7ms/step - loss: 2.2779 - accuracy: 0.1318 - val_loss: 2.2343 - val_accuracy: 0.1412\n",
      "Epoch 2/50\n",
      "44/44 [==============================] - 0s 4ms/step - loss: 2.1638 - accuracy: 0.2068 - val_loss: 2.1376 - val_accuracy: 0.2738\n",
      "Epoch 3/50\n",
      "44/44 [==============================] - 0s 4ms/step - loss: 1.9665 - accuracy: 0.3775 - val_loss: 1.9538 - val_accuracy: 0.3487\n",
      "Epoch 4/50\n",
      "44/44 [==============================] - 0s 4ms/step - loss: 1.6655 - accuracy: 0.5086 - val_loss: 1.7488 - val_accuracy: 0.4150\n",
      "Epoch 5/50\n",
      "44/44 [==============================] - 0s 4ms/step - loss: 1.3803 - accuracy: 0.5749 - val_loss: 1.6182 - val_accuracy: 0.4611\n",
      "Epoch 6/50\n",
      "44/44 [==============================] - 0s 4ms/step - loss: 1.1622 - accuracy: 0.6491 - val_loss: 1.5190 - val_accuracy: 0.4957\n",
      "Epoch 7/50\n",
      "44/44 [==============================] - 0s 4ms/step - loss: 0.9945 - accuracy: 0.7140 - val_loss: 1.4490 - val_accuracy: 0.5331\n",
      "Epoch 8/50\n",
      "44/44 [==============================] - 0s 4ms/step - loss: 0.8613 - accuracy: 0.7637 - val_loss: 1.4140 - val_accuracy: 0.5447\n",
      "Epoch 9/50\n",
      "44/44 [==============================] - 0s 4ms/step - loss: 0.7496 - accuracy: 0.8076 - val_loss: 1.3930 - val_accuracy: 0.5648\n",
      "Epoch 10/50\n",
      "44/44 [==============================] - 0s 4ms/step - loss: 0.6546 - accuracy: 0.8264 - val_loss: 1.3844 - val_accuracy: 0.5706\n",
      "Epoch 11/50\n",
      "44/44 [==============================] - 0s 4ms/step - loss: 0.5719 - accuracy: 0.8437 - val_loss: 1.3938 - val_accuracy: 0.5793\n",
      "Epoch 12/50\n",
      "44/44 [==============================] - 0s 4ms/step - loss: 0.5030 - accuracy: 0.8653 - val_loss: 1.3957 - val_accuracy: 0.5850\n",
      "Epoch 13/50\n",
      "44/44 [==============================] - 0s 4ms/step - loss: 0.4440 - accuracy: 0.8818 - val_loss: 1.4163 - val_accuracy: 0.5821\n",
      "Epoch 14/50\n",
      "44/44 [==============================] - 0s 4ms/step - loss: 0.3949 - accuracy: 0.8941 - val_loss: 1.4378 - val_accuracy: 0.5937\n",
      "Epoch 15/50\n",
      "44/44 [==============================] - 0s 4ms/step - loss: 0.3541 - accuracy: 0.9092 - val_loss: 1.4697 - val_accuracy: 0.5937\n",
      "Epoch 16/50\n",
      "44/44 [==============================] - 0s 4ms/step - loss: 0.3200 - accuracy: 0.9207 - val_loss: 1.5011 - val_accuracy: 0.5965\n",
      "Epoch 17/50\n",
      "44/44 [==============================] - 0s 4ms/step - loss: 0.2907 - accuracy: 0.9236 - val_loss: 1.5388 - val_accuracy: 0.5994\n",
      "Epoch 18/50\n",
      "44/44 [==============================] - 0s 4ms/step - loss: 0.2662 - accuracy: 0.9323 - val_loss: 1.5757 - val_accuracy: 0.6023\n",
      "Epoch 19/50\n",
      "44/44 [==============================] - 0s 4ms/step - loss: 0.2453 - accuracy: 0.9373 - val_loss: 1.6167 - val_accuracy: 0.6110\n",
      "Epoch 20/50\n",
      "44/44 [==============================] - 0s 4ms/step - loss: 0.2273 - accuracy: 0.9416 - val_loss: 1.6563 - val_accuracy: 0.6023\n",
      "Epoch 21/50\n",
      "44/44 [==============================] - 0s 4ms/step - loss: 0.2116 - accuracy: 0.9467 - val_loss: 1.6998 - val_accuracy: 0.6081\n",
      "Epoch 22/50\n",
      "44/44 [==============================] - 0s 4ms/step - loss: 0.1984 - accuracy: 0.9481 - val_loss: 1.7392 - val_accuracy: 0.6110\n",
      "Epoch 23/50\n",
      "44/44 [==============================] - 0s 4ms/step - loss: 0.1867 - accuracy: 0.9517 - val_loss: 1.7842 - val_accuracy: 0.6023\n",
      "Epoch 24/50\n",
      "44/44 [==============================] - 0s 4ms/step - loss: 0.1761 - accuracy: 0.9532 - val_loss: 1.8269 - val_accuracy: 0.6023\n",
      "Epoch 25/50\n",
      "44/44 [==============================] - 0s 4ms/step - loss: 0.1676 - accuracy: 0.9546 - val_loss: 1.8688 - val_accuracy: 0.5937\n",
      "Epoch 26/50\n",
      "44/44 [==============================] - 0s 4ms/step - loss: 0.1592 - accuracy: 0.9546 - val_loss: 1.9136 - val_accuracy: 0.5908\n",
      "Epoch 27/50\n",
      "44/44 [==============================] - 0s 4ms/step - loss: 0.1521 - accuracy: 0.9582 - val_loss: 1.9596 - val_accuracy: 0.5994\n",
      "Epoch 28/50\n",
      "44/44 [==============================] - 0s 4ms/step - loss: 0.1460 - accuracy: 0.9611 - val_loss: 2.0024 - val_accuracy: 0.5937\n",
      "Epoch 29/50\n",
      "44/44 [==============================] - 0s 4ms/step - loss: 0.1401 - accuracy: 0.9625 - val_loss: 2.0498 - val_accuracy: 0.5879\n",
      "Epoch 30/50\n",
      "44/44 [==============================] - 0s 4ms/step - loss: 0.1349 - accuracy: 0.9640 - val_loss: 2.0917 - val_accuracy: 0.5850\n",
      "Epoch 31/50\n",
      "44/44 [==============================] - 0s 4ms/step - loss: 0.1305 - accuracy: 0.9661 - val_loss: 2.1371 - val_accuracy: 0.5908\n",
      "Epoch 32/50\n",
      "44/44 [==============================] - 0s 4ms/step - loss: 0.1263 - accuracy: 0.9654 - val_loss: 2.1864 - val_accuracy: 0.5908\n",
      "Epoch 33/50\n",
      "44/44 [==============================] - 0s 4ms/step - loss: 0.1230 - accuracy: 0.9654 - val_loss: 2.2247 - val_accuracy: 0.5879\n",
      "Epoch 34/50\n",
      "44/44 [==============================] - 0s 4ms/step - loss: 0.1196 - accuracy: 0.9654 - val_loss: 2.2719 - val_accuracy: 0.5879\n",
      "Epoch 35/50\n",
      "44/44 [==============================] - 0s 4ms/step - loss: 0.1167 - accuracy: 0.9654 - val_loss: 2.3140 - val_accuracy: 0.5850\n",
      "Epoch 36/50\n",
      "44/44 [==============================] - 0s 4ms/step - loss: 0.1140 - accuracy: 0.9654 - val_loss: 2.3634 - val_accuracy: 0.5908\n",
      "Epoch 37/50\n",
      "44/44 [==============================] - 0s 4ms/step - loss: 0.1117 - accuracy: 0.9647 - val_loss: 2.4058 - val_accuracy: 0.5908\n",
      "Epoch 38/50\n",
      "44/44 [==============================] - 0s 4ms/step - loss: 0.1093 - accuracy: 0.9647 - val_loss: 2.4516 - val_accuracy: 0.5879\n",
      "Epoch 39/50\n",
      "44/44 [==============================] - 0s 4ms/step - loss: 0.1072 - accuracy: 0.9647 - val_loss: 2.4947 - val_accuracy: 0.5793\n",
      "Epoch 40/50\n",
      "44/44 [==============================] - 0s 4ms/step - loss: 0.1052 - accuracy: 0.9654 - val_loss: 2.5379 - val_accuracy: 0.5793\n",
      "Epoch 41/50\n",
      "44/44 [==============================] - 0s 4ms/step - loss: 0.1035 - accuracy: 0.9654 - val_loss: 2.5834 - val_accuracy: 0.5793\n",
      "Epoch 42/50\n",
      "44/44 [==============================] - 0s 4ms/step - loss: 0.1019 - accuracy: 0.9654 - val_loss: 2.6221 - val_accuracy: 0.5764\n",
      "Epoch 43/50\n",
      "44/44 [==============================] - 0s 4ms/step - loss: 0.1002 - accuracy: 0.9654 - val_loss: 2.6686 - val_accuracy: 0.5706\n",
      "Epoch 44/50\n",
      "44/44 [==============================] - 0s 4ms/step - loss: 0.0985 - accuracy: 0.9661 - val_loss: 2.7047 - val_accuracy: 0.5764\n",
      "Epoch 45/50\n",
      "44/44 [==============================] - 0s 4ms/step - loss: 0.0975 - accuracy: 0.9669 - val_loss: 2.7481 - val_accuracy: 0.5764\n",
      "Epoch 46/50\n",
      "44/44 [==============================] - 0s 4ms/step - loss: 0.0960 - accuracy: 0.9669 - val_loss: 2.7899 - val_accuracy: 0.5764\n",
      "Epoch 47/50\n",
      "44/44 [==============================] - 0s 4ms/step - loss: 0.0948 - accuracy: 0.9669 - val_loss: 2.8260 - val_accuracy: 0.5764\n",
      "Epoch 48/50\n",
      "44/44 [==============================] - 0s 4ms/step - loss: 0.0936 - accuracy: 0.9669 - val_loss: 2.8601 - val_accuracy: 0.5706\n",
      "Epoch 49/50\n",
      "44/44 [==============================] - 0s 4ms/step - loss: 0.0922 - accuracy: 0.9683 - val_loss: 2.9033 - val_accuracy: 0.5677\n",
      "Epoch 50/50\n",
      "44/44 [==============================] - 0s 4ms/step - loss: 0.0915 - accuracy: 0.9676 - val_loss: 2.9374 - val_accuracy: 0.5648\n"
     ]
    }
   ],
   "source": [
    "# Fit the training dataset to the model\n",
    "model_1_history = model_1.fit(train_dataset,\n",
    "                              epochs=50,\n",
    "                              validation_data=test_dataset,\n",
    "                              verbose=1)"
   ]
  },
  {
   "attachments": {},
   "cell_type": "markdown",
   "metadata": {},
   "source": [
    "#### Evaluating"
   ]
  },
  {
   "cell_type": "code",
   "execution_count": 60,
   "metadata": {},
   "outputs": [
    {
     "name": "stdout",
     "output_type": "stream",
     "text": [
      "11/11 [==============================] - 0s 2ms/step - loss: 2.9374 - accuracy: 0.5648\n"
     ]
    },
    {
     "data": {
      "text/plain": [
       "[2.937387466430664, 0.5648415088653564]"
      ]
     },
     "execution_count": 60,
     "metadata": {},
     "output_type": "execute_result"
    }
   ],
   "source": [
    "# Evalute on the test dataset\n",
    "model_1.evaluate(test_dataset)"
   ]
  },
  {
   "attachments": {},
   "cell_type": "markdown",
   "metadata": {},
   "source": [
    "Based on the last time the model was trained, the evaluation validation loss is very high and the validation accuracy is around 55%. \n",
    "\n",
    "However, the training loss was very low and the training accuracy was very high.  \n",
    "\n",
    "It is reasonable to say that the model is overfitting to the training data, and performs poorly on unseen data."
   ]
  },
  {
   "cell_type": "code",
   "execution_count": 61,
   "metadata": {},
   "outputs": [
    {
     "data": {
      "image/png": "[encoded data removed]",
      "text/plain": [
       "<Figure size 640x480 with 1 Axes>"
      ]
     },
     "metadata": {},
     "output_type": "display_data"
    },
    {
     "data": {
      "image/png": "[encoded data removed]",
      "text/plain": [
       "<Figure size 640x480 with 1 Axes>"
      ]
     },
     "metadata": {},
     "output_type": "display_data"
    }
   ],
   "source": [
    "# Plot the loss and accuracy curves\n",
    "loss = model_1_history.history['loss']\n",
    "val_loss = model_1_history.history['val_loss']\n",
    "accuracy = model_1_history.history['accuracy']\n",
    "val_accuracy = model_1_history.history['val_accuracy']\n",
    "epochs = range(len(model_1_history.history['loss']))\n",
    "\n",
    "plt.figure()\n",
    "plt.plot(epochs, loss, label='training_loss')\n",
    "plt.plot(epochs, val_loss, label='validation_loss')\n",
    "plt.title('loss')\n",
    "plt.xlabel('Epochs')\n",
    "plt.legend()\n",
    "plt.show()\n",
    "\n",
    "plt.figure()\n",
    "plt.plot(epochs, accuracy, label='training_accuracy')\n",
    "plt.plot(epochs, val_accuracy, label='validation_accuracy')\n",
    "plt.title('accuracy')\n",
    "plt.xlabel('Epochs')\n",
    "plt.legend()\n",
    "plt.show()"
   ]
  },
  {
   "attachments": {},
   "cell_type": "markdown",
   "metadata": {},
   "source": [
    "Looks like overfitting to me.\n",
    "\n",
    "Make predictions on the test dataset anyway."
   ]
  },
  {
   "cell_type": "code",
   "execution_count": 62,
   "metadata": {},
   "outputs": [
    {
     "name": "stdout",
     "output_type": "stream",
     "text": [
      "11/11 [==============================] - 0s 1ms/step\n"
     ]
    },
    {
     "data": {
      "text/plain": [
       "((347, 10),\n",
       " array([[2.66154238e-05, 3.55981697e-08, 1.51932963e-05, ...,\n",
       "         2.46732111e-06, 6.08396988e-07, 1.21132680e-05],\n",
       "        [1.05986623e-02, 6.66329882e-12, 1.06937925e-08, ...,\n",
       "         8.83885860e-01, 6.52712950e-09, 1.36755274e-09],\n",
       "        [7.94409588e-03, 2.71541940e-04, 9.05438501e-04, ...,\n",
       "         1.21606570e-02, 1.96781471e-01, 8.00804410e-04],\n",
       "        ...,\n",
       "        [3.96551788e-02, 3.03923292e-03, 5.50794482e-01, ...,\n",
       "         7.54346956e-06, 3.75164200e-05, 8.51108343e-04],\n",
       "        [1.72944652e-04, 6.89601948e-05, 9.67277856e-07, ...,\n",
       "         7.79422606e-08, 2.76737028e-05, 9.97265339e-01],\n",
       "        [7.26329954e-03, 1.09623866e-02, 3.30697000e-03, ...,\n",
       "         4.53879498e-02, 1.64307430e-01, 3.27000604e-03]], dtype=float32))"
      ]
     },
     "execution_count": 62,
     "metadata": {},
     "output_type": "execute_result"
    }
   ],
   "source": [
    "# Make predictions (output should be a matrix of prediction probabilities)\n",
    "model_1_pred_probs = model_1.predict(test_dataset)\n",
    "model_1_pred_probs.shape, model_1_pred_probs"
   ]
  },
  {
   "cell_type": "code",
   "execution_count": 63,
   "metadata": {},
   "outputs": [
    {
     "data": {
      "text/plain": [
       "<tf.Tensor: shape=(347,), dtype=int64, numpy=\n",
       "array([4, 7, 6, 2, 2, 2, 1, 4, 2, 7, 9, 2, 7, 4, 9, 2, 4, 0, 5, 0, 4, 5,\n",
       "       6, 2, 2, 6, 1, 1, 3, 1, 1, 4, 7, 2, 5, 1, 5, 6, 0, 5, 2, 1, 4, 2,\n",
       "       2, 6, 1, 5, 1, 5, 1, 2, 1, 1, 5, 5, 7, 3, 2, 2, 5, 8, 4, 4, 1, 8,\n",
       "       6, 5, 1, 7, 3, 7, 9, 5, 7, 4, 6, 2, 4, 6, 5, 6, 9, 6, 6, 1, 2, 9,\n",
       "       2, 2, 5, 4, 1, 7, 3, 2, 3, 2, 5, 5, 4, 8, 4, 3, 0, 6, 5, 8, 3, 3,\n",
       "       1, 5, 9, 2, 9, 4, 2, 3, 1, 1, 4, 4, 6, 1, 7, 1, 1, 3, 2, 4, 7, 1,\n",
       "       1, 2, 6, 4, 7, 3, 6, 2, 2, 7, 4, 5, 9, 7, 6, 5, 4, 6, 8, 4, 3, 4,\n",
       "       1, 0, 4, 2, 8, 4, 4, 6, 2, 3, 2, 0, 2, 5, 9, 4, 6, 5, 9, 2, 2, 2,\n",
       "       5, 5, 5, 5, 7, 1, 4, 8, 8, 9, 8, 9, 0, 0, 3, 0, 1, 6, 5, 2, 7, 9,\n",
       "       2, 4, 4, 4, 9, 7, 2, 4, 2, 3, 5, 2, 6, 0, 9, 1, 3, 1, 3, 2, 8, 5,\n",
       "       8, 5, 8, 6, 6, 2, 2, 7, 0, 4, 3, 7, 6, 1, 3, 2, 4, 7, 2, 5, 2, 6,\n",
       "       1, 2, 3, 3, 6, 1, 1, 9, 0, 9, 6, 4, 4, 5, 2, 2, 4, 7, 2, 9, 2, 0,\n",
       "       9, 1, 6, 0, 7, 4, 6, 9, 2, 5, 2, 1, 7, 9, 6, 7, 5, 6, 7, 3, 5, 3,\n",
       "       3, 7, 1, 9, 4, 2, 2, 3, 6, 3, 4, 3, 5, 4, 6, 3, 3, 8, 3, 9, 2, 1,\n",
       "       0, 2, 2, 4, 5, 4, 8, 0, 7, 0, 7, 2, 5, 9, 6, 9, 3, 5, 5, 0, 6, 1,\n",
       "       2, 0, 0, 2, 2, 4, 2, 3, 6, 0, 8, 6, 6, 4, 2, 9, 3], dtype=int64)>"
      ]
     },
     "execution_count": 63,
     "metadata": {},
     "output_type": "execute_result"
    }
   ],
   "source": [
    "# Convert the prediction probabilities to labels\n",
    "model_1_predictions = tf.argmax(model_1_pred_probs, axis=1)\n",
    "model_1_predictions"
   ]
  },
  {
   "attachments": {},
   "cell_type": "markdown",
   "metadata": {},
   "source": [
    "Cool, `model_1_predictions` is a list containing the predicted integer corresponding to a specific 'subreddit' label.\n",
    "\n",
    "Despite poor performance of the model, still observe the predicted labels with their true labels.\n",
    "\n",
    "Use the `label_encoder.classes_` function to map predictions to test dataframe."
   ]
  },
  {
   "cell_type": "code",
   "execution_count": 64,
   "metadata": {},
   "outputs": [
    {
     "data": {
      "text/html": [
       "<div>\n",
       "<style scoped>\n",
       "    .dataframe tbody tr th:only-of-type {\n",
       "        vertical-align: middle;\n",
       "    }\n",
       "\n",
       "    .dataframe tbody tr th {\n",
       "        vertical-align: top;\n",
       "    }\n",
       "\n",
       "    .dataframe thead th {\n",
       "        text-align: right;\n",
       "    }\n",
       "</style>\n",
       "<table border=\"1\" class=\"dataframe\">\n",
       "  <thead>\n",
       "    <tr style=\"text-align: right;\">\n",
       "      <th></th>\n",
       "      <th>subreddit</th>\n",
       "      <th>title</th>\n",
       "      <th>upvote_ratio</th>\n",
       "      <th>score</th>\n",
       "      <th>total_awards_received</th>\n",
       "      <th>predicted_subreddit</th>\n",
       "      <th>correct_prediction</th>\n",
       "    </tr>\n",
       "  </thead>\n",
       "  <tbody>\n",
       "    <tr>\n",
       "      <th>625</th>\n",
       "      <td>gaming</td>\n",
       "      <td>Favorite game studio?</td>\n",
       "      <td>0.67</td>\n",
       "      <td>2.0</td>\n",
       "      <td>0.0</td>\n",
       "      <td>gaming</td>\n",
       "      <td>True</td>\n",
       "    </tr>\n",
       "    <tr>\n",
       "      <th>14</th>\n",
       "      <td>Python</td>\n",
       "      <td>Test On 4 Concurrent Jobs Using Python-Polars ...</td>\n",
       "      <td>0.83</td>\n",
       "      <td>33.0</td>\n",
       "      <td>0.0</td>\n",
       "      <td>news</td>\n",
       "      <td>False</td>\n",
       "    </tr>\n",
       "    <tr>\n",
       "      <th>165</th>\n",
       "      <td>mildlyinfuriating</td>\n",
       "      <td>This one bagel bite</td>\n",
       "      <td>0.83</td>\n",
       "      <td>22.0</td>\n",
       "      <td>0.0</td>\n",
       "      <td>mildlyinfuriating</td>\n",
       "      <td>True</td>\n",
       "    </tr>\n",
       "    <tr>\n",
       "      <th>618</th>\n",
       "      <td>gaming</td>\n",
       "      <td>Skygerfall</td>\n",
       "      <td>0.60</td>\n",
       "      <td>1.0</td>\n",
       "      <td>0.0</td>\n",
       "      <td>cats</td>\n",
       "      <td>False</td>\n",
       "    </tr>\n",
       "    <tr>\n",
       "      <th>1640</th>\n",
       "      <td>oddlyspecific</td>\n",
       "      <td>MBA Rankings</td>\n",
       "      <td>0.75</td>\n",
       "      <td>2.0</td>\n",
       "      <td>0.0</td>\n",
       "      <td>cats</td>\n",
       "      <td>False</td>\n",
       "    </tr>\n",
       "  </tbody>\n",
       "</table>\n",
       "</div>"
      ],
      "text/plain": [
       "              subreddit                                              title   \n",
       "625              gaming                              Favorite game studio?  \\\n",
       "14               Python  Test On 4 Concurrent Jobs Using Python-Polars ...   \n",
       "165   mildlyinfuriating                                This one bagel bite   \n",
       "618              gaming                                         Skygerfall   \n",
       "1640      oddlyspecific                                       MBA Rankings   \n",
       "\n",
       "      upvote_ratio  score  total_awards_received predicted_subreddit   \n",
       "625           0.67    2.0                    0.0              gaming  \\\n",
       "14            0.83   33.0                    0.0                news   \n",
       "165           0.83   22.0                    0.0   mildlyinfuriating   \n",
       "618           0.60    1.0                    0.0                cats   \n",
       "1640          0.75    2.0                    0.0                cats   \n",
       "\n",
       "      correct_prediction  \n",
       "625                 True  \n",
       "14                 False  \n",
       "165                 True  \n",
       "618                False  \n",
       "1640               False  "
      ]
     },
     "execution_count": 64,
     "metadata": {},
     "output_type": "execute_result"
    }
   ],
   "source": [
    "copy_df = test_df.copy()\n",
    "copy_df[\"predicted_subreddit\"] = [label_encoder.classes_[pred] for pred in model_1_predictions]\n",
    "copy_df[\"correct_prediction\"] = copy_df[\"subreddit\"] == copy_df[\"predicted_subreddit\"]\n",
    "copy_df.head()"
   ]
  },
  {
   "cell_type": "code",
   "execution_count": 65,
   "metadata": {},
   "outputs": [
    {
     "data": {
      "text/plain": [
       "correct_prediction\n",
       "True     196\n",
       "False    151\n",
       "Name: count, dtype: int64"
      ]
     },
     "execution_count": 65,
     "metadata": {},
     "output_type": "execute_result"
    }
   ],
   "source": [
    "# Get how many predictions were correct for the test dataset\n",
    "copy_df.correct_prediction.value_counts()"
   ]
  },
  {
   "attachments": {},
   "cell_type": "markdown",
   "metadata": {},
   "source": [
    "Similar to the baseline mdoe, calculate scores for the Conv1D model: accuracy, precision, recall, f1.\n",
    "\n",
    "But functionalize so it can be used repeatedly for future models."
   ]
  },
  {
   "cell_type": "code",
   "execution_count": 66,
   "metadata": {},
   "outputs": [],
   "source": [
    "# function returns a dictionary of the scores\n",
    "def calculate_scores(y_true, y_pred):\n",
    "  model_accuracy = accuracy_score(y_true, y_pred)\n",
    "  model_precision, model_recall, model_f1, _ = precision_recall_fscore_support(y_true, y_pred, average=\"weighted\")\n",
    "  model_scores = {\"accuracy\": model_accuracy,\n",
    "                  \"precision\": model_precision,\n",
    "                  \"recall\": model_recall,\n",
    "                  \"f1\": model_f1}\n",
    "  return model_scores"
   ]
  },
  {
   "cell_type": "code",
   "execution_count": 67,
   "metadata": {},
   "outputs": [
    {
     "data": {
      "text/plain": [
       "{'accuracy': 0.5648414985590778,\n",
       " 'precision': 0.5988538274675087,\n",
       " 'recall': 0.5648414985590778,\n",
       " 'f1': 0.5738988260659642}"
      ]
     },
     "execution_count": 67,
     "metadata": {},
     "output_type": "execute_result"
    }
   ],
   "source": [
    "model_1_scores = calculate_scores(y_true=test_labels_encoded,\n",
    "                                  y_pred=model_1_predictions)\n",
    "model_1_scores"
   ]
  },
  {
   "attachments": {},
   "cell_type": "markdown",
   "metadata": {},
   "source": [
    "## Model 2: Conv1D using Character Embeddings\n",
    "\n",
    "Instead of creating an embedding based on a sequence of words, create an embedding based on the sequence/position of characters in words"
   ]
  },
  {
   "attachments": {},
   "cell_type": "markdown",
   "metadata": {},
   "source": [
    "#### Preprocessing"
   ]
  },
  {
   "cell_type": "code",
   "execution_count": 68,
   "metadata": {},
   "outputs": [
    {
     "name": "stdout",
     "output_type": "stream",
     "text": [
      "[ O C ]   T h e   o n l y   w a y   t o   s t o p   h e r   f r o m   c r a w l i n g   i n t o   t h e   f r o n t   s e a t\n"
     ]
    }
   ],
   "source": [
    "# Split 'title' text into characters\n",
    "train_chars = [\" \".join(list(sentence)) for sentence in train_titles]\n",
    "test_chars = [\" \".join(list(sentence)) for sentence in test_titles]\n",
    "print(train_chars[0])"
   ]
  },
  {
   "cell_type": "code",
   "execution_count": 69,
   "metadata": {},
   "outputs": [
    {
     "data": {
      "text/plain": [
       "49.226945244956774"
      ]
     },
     "execution_count": 69,
     "metadata": {},
     "output_type": "execute_result"
    }
   ],
   "source": [
    "# What's the average character length?\n",
    "char_lens = [len(sentence) for sentence in train_titles]\n",
    "mean_char_len = np.mean(char_lens)\n",
    "mean_char_len"
   ]
  },
  {
   "cell_type": "code",
   "execution_count": 70,
   "metadata": {},
   "outputs": [
    {
     "data": {
      "image/png": "[encoded data removed]",
      "text/plain": [
       "<Figure size 640x480 with 1 Axes>"
      ]
     },
     "metadata": {},
     "output_type": "display_data"
    }
   ],
   "source": [
    "# What does the distribution of char-level sequences look like?\n",
    "plt.hist(char_lens)\n",
    "plt.xlabel(\"Characters\")\n",
    "plt.ylabel(\"Frequency\")\n",
    "plt.show()"
   ]
  },
  {
   "cell_type": "code",
   "execution_count": 71,
   "metadata": {},
   "outputs": [
    {
     "data": {
      "text/plain": [
       "119"
      ]
     },
     "execution_count": 71,
     "metadata": {},
     "output_type": "execute_result"
    }
   ],
   "source": [
    "# What is the 95 percentile of teh character-level sequences?\n",
    "output_seq_char_len = int(np.percentile(char_lens, 95))\n",
    "output_seq_char_len"
   ]
  },
  {
   "attachments": {},
   "cell_type": "markdown",
   "metadata": {},
   "source": [
    "Note: the `max_tokens` should be the length of the alphabet (26) + space (1) + unkown/not in vocab (1) = 28"
   ]
  },
  {
   "cell_type": "code",
   "execution_count": 72,
   "metadata": {},
   "outputs": [
    {
     "data": {
      "text/plain": [
       "'abcdefghijklmnopqrstuvwxyz0123456789!\"#$%&\\'()*+,-./:;<=>?@[\\\\]^_`{|}~'"
      ]
     },
     "execution_count": 72,
     "metadata": {},
     "output_type": "execute_result"
    }
   ],
   "source": [
    "# Get all keyboard characters for character-level embedding\n",
    "alphabet = string.ascii_lowercase + string.digits + string.punctuation\n",
    "alphabet"
   ]
  },
  {
   "cell_type": "code",
   "execution_count": 73,
   "metadata": {},
   "outputs": [],
   "source": [
    "# Create char-level token vectorizer\n",
    "char_vectorizer = TextVectorization(max_tokens=len(alphabet)+2,\n",
    "                                    output_sequence_length=output_seq_char_len,\n",
    "                                    standardize=\"lower_and_strip_punctuation\",\n",
    "                                    name=\"char_vectorizer\")"
   ]
  },
  {
   "cell_type": "code",
   "execution_count": 74,
   "metadata": {},
   "outputs": [],
   "source": [
    "# Adapt the vectorizer to the training characters\n",
    "char_vectorizer.adapt(train_chars)"
   ]
  },
  {
   "cell_type": "code",
   "execution_count": 75,
   "metadata": {},
   "outputs": [
    {
     "name": "stdout",
     "output_type": "stream",
     "text": [
      "Number of different characters in character vocab: 70\n",
      "Most common characters: ['', '[UNK]', 'e', 't', 'a']\n",
      "Least common characters: ['🤷', '🤭', '🤦', '🤣', '🤗']\n"
     ]
    }
   ],
   "source": [
    "# How many unqiue characters are in the vectorizer; what are the most/least common characters\n",
    "char_vocab = char_vectorizer.get_vocabulary()\n",
    "print(f\"Number of different characters in character vocab: {len(char_vocab)}\")\n",
    "print(f\"Most common characters: {char_vocab[:5]}\")\n",
    "print(f\"Least common characters: {char_vocab[-5:]}\")"
   ]
  },
  {
   "cell_type": "code",
   "execution_count": 76,
   "metadata": {},
   "outputs": [
    {
     "name": "stdout",
     "output_type": "stream",
     "text": [
      "Char text:\n",
      "I t ' s   l e a v e   y o u r   h o t   d o g   i n   t h e   c a r   s e a s o n\n",
      "\n",
      "Length of chars: 33\n",
      "\n",
      "Vectorized chars:\n",
      "[[ 6  3  7 11  2  4 23  2 17  5 15  9 10  5  3 12  5 16  6  8  3 10  2 13\n",
      "   4  9  7  2  4  7  5  8  0  0  0  0  0  0  0  0  0  0  0  0  0  0  0  0\n",
      "   0  0  0  0  0  0  0  0  0  0  0  0  0  0  0  0  0  0  0  0  0  0  0  0\n",
      "   0  0  0  0  0  0  0  0  0  0  0  0  0  0  0  0  0  0  0  0  0  0  0  0\n",
      "   0  0  0  0  0  0  0  0  0  0  0  0  0  0  0  0  0  0  0  0  0  0  0]]\n",
      "\n",
      "Length of vectorized chars: 119\n"
     ]
    }
   ],
   "source": [
    "# Test the character vectorizer on a random sample from training dataset\n",
    "random_train_chars = random.choice(train_chars)\n",
    "print(f\"Char text:\\n{random_train_chars}\")\n",
    "print(f\"\\nLength of chars: {len(random_train_chars.split())}\")\n",
    "vectorized_chars = char_vectorizer([random_train_chars])\n",
    "print(f\"\\nVectorized chars:\\n{vectorized_chars}\")\n",
    "print(f\"\\nLength of vectorized chars: {len(vectorized_chars[0])}\")"
   ]
  },
  {
   "cell_type": "code",
   "execution_count": 77,
   "metadata": {},
   "outputs": [
    {
     "data": {
      "text/plain": [
       "(<_PrefetchDataset element_spec=(TensorSpec(shape=(None,), dtype=tf.string, name=None), TensorSpec(shape=(None, 10), dtype=tf.float64, name=None))>,\n",
       " <_PrefetchDataset element_spec=(TensorSpec(shape=(None,), dtype=tf.string, name=None), TensorSpec(shape=(None, 10), dtype=tf.float64, name=None))>)"
      ]
     },
     "execution_count": 77,
     "metadata": {},
     "output_type": "execute_result"
    }
   ],
   "source": [
    "# batch the datasets for training\n",
    "train_char_dataset = tf.data.Dataset.from_tensor_slices((train_chars, train_labels_one_hot)).batch(32).prefetch(tf.data.AUTOTUNE)\n",
    "test_char_dataset = tf.data.Dataset.from_tensor_slices((test_chars, test_labels_one_hot)).batch(32).prefetch(tf.data.AUTOTUNE)\n",
    "train_char_dataset, test_char_dataset"
   ]
  },
  {
   "attachments": {},
   "cell_type": "markdown",
   "metadata": {},
   "source": [
    "#### Building"
   ]
  },
  {
   "cell_type": "code",
   "execution_count": 78,
   "metadata": {},
   "outputs": [
    {
     "name": "stdout",
     "output_type": "stream",
     "text": [
      "Char text (before vectorization and embedding):\n",
      "I t ' s   l e a v e   y o u r   h o t   d o g   i n   t h e   c a r   s e a s o n\n",
      "\n",
      "Chars (after vectorization and embedding):\n",
      "[[[ 0.03817792  0.03146679  0.03372219 ... -0.01692575 -0.01030693\n",
      "    0.02588946]\n",
      "  [-0.03200497  0.02256924  0.02425997 ... -0.03329492 -0.01820414\n",
      "   -0.04250437]\n",
      "  [ 0.02013483  0.04577983 -0.00269084 ... -0.01471909 -0.03010082\n",
      "   -0.02349477]\n",
      "  ...\n",
      "  [ 0.00757438 -0.04394364 -0.01574788 ... -0.02304238 -0.04788145\n",
      "    0.03575804]\n",
      "  [ 0.00757438 -0.04394364 -0.01574788 ... -0.02304238 -0.04788145\n",
      "    0.03575804]\n",
      "  [ 0.00757438 -0.04394364 -0.01574788 ... -0.02304238 -0.04788145\n",
      "    0.03575804]]]\n",
      "\n",
      "Char embedding shape: (1, 119, 32)\n"
     ]
    }
   ],
   "source": [
    "# Create char embedding layer\n",
    "char_embed = layers.Embedding(input_dim=len(alphabet)+2,\n",
    "                              output_dim=32, # again I chose a power of 2\n",
    "                              mask_zero=False,\n",
    "                              name=\"char_embed\")\n",
    "\n",
    "# Test the character embedding layer on training dataset\n",
    "print(f\"Char text (before vectorization and embedding):\\n{random_train_chars}\\n\")\n",
    "char_embed_example = char_embed(char_vectorizer([random_train_chars]))\n",
    "print(f\"Chars (after vectorization and embedding):\\n{char_embed_example}\\n\")\n",
    "print(f\"Char embedding shape: {char_embed_example.shape}\")"
   ]
  },
  {
   "cell_type": "code",
   "execution_count": 79,
   "metadata": {},
   "outputs": [],
   "source": [
    "# Make another Conv1D model but using the char vectorized layer and embedding layer\n",
    "inputs = layers.Input(shape=(1,), dtype=tf.string)\n",
    "char_vector = char_vectorizer(inputs)\n",
    "char_embeddings = char_embed(char_vector)\n",
    "x = layers.Conv1D(filters=64, kernel_size=5, padding=\"same\", activation=\"relu\")(char_embeddings)\n",
    "x = layers.GlobalMaxPool1D()(x)\n",
    "outputs = layers.Dense(num_classes, activation=\"softmax\")(x)\n",
    "model_2 = tf.keras.Model(inputs, outputs, name=\"model_2_conv1D_char_embeddings\")"
   ]
  },
  {
   "cell_type": "code",
   "execution_count": 80,
   "metadata": {},
   "outputs": [
    {
     "name": "stdout",
     "output_type": "stream",
     "text": [
      "Model: \"model_2_conv1D_char_embeddings\"\n",
      "_________________________________________________________________\n",
      " Layer (type)                Output Shape              Param #   \n",
      "=================================================================\n",
      " input_2 (InputLayer)        [(None, 1)]               0         \n",
      "                                                                 \n",
      " char_vectorizer (TextVector  (None, 119)              0         \n",
      " ization)                                                        \n",
      "                                                                 \n",
      " char_embed (Embedding)      (None, 119, 32)           2240      \n",
      "                                                                 \n",
      " conv1d_1 (Conv1D)           (None, 119, 64)           10304     \n",
      "                                                                 \n",
      " global_max_pooling1d (Globa  (None, 64)               0         \n",
      " lMaxPooling1D)                                                  \n",
      "                                                                 \n",
      " dense_1 (Dense)             (None, 10)                650       \n",
      "                                                                 \n",
      "=================================================================\n",
      "Total params: 13,194\n",
      "Trainable params: 13,194\n",
      "Non-trainable params: 0\n",
      "_________________________________________________________________\n"
     ]
    }
   ],
   "source": [
    "# Summary of model 2\n",
    "model_2.summary()"
   ]
  },
  {
   "cell_type": "code",
   "execution_count": 81,
   "metadata": {},
   "outputs": [],
   "source": [
    "# Compile\n",
    "model_2.compile(loss=tf.keras.losses.categorical_crossentropy,\n",
    "                optimizer=tf.keras.optimizers.Adam(),\n",
    "                metrics=[\"accuracy\"])"
   ]
  },
  {
   "attachments": {},
   "cell_type": "markdown",
   "metadata": {},
   "source": [
    "#### Training"
   ]
  },
  {
   "cell_type": "code",
   "execution_count": 82,
   "metadata": {},
   "outputs": [
    {
     "name": "stdout",
     "output_type": "stream",
     "text": [
      "Epoch 1/50\n",
      "44/44 [==============================] - 1s 6ms/step - loss: 2.2909 - accuracy: 0.1189 - val_loss: 2.2852 - val_accuracy: 0.1527\n",
      "Epoch 2/50\n",
      "44/44 [==============================] - 0s 3ms/step - loss: 2.2616 - accuracy: 0.2075 - val_loss: 2.2675 - val_accuracy: 0.1758\n",
      "Epoch 3/50\n",
      "44/44 [==============================] - 0s 3ms/step - loss: 2.2321 - accuracy: 0.2471 - val_loss: 2.2384 - val_accuracy: 0.1758\n",
      "Epoch 4/50\n",
      "44/44 [==============================] - 0s 3ms/step - loss: 2.1868 - accuracy: 0.2644 - val_loss: 2.1918 - val_accuracy: 0.2046\n",
      "Epoch 5/50\n",
      "44/44 [==============================] - 0s 3ms/step - loss: 2.1173 - accuracy: 0.3019 - val_loss: 2.1270 - val_accuracy: 0.2536\n",
      "Epoch 6/50\n",
      "44/44 [==============================] - 0s 3ms/step - loss: 2.0228 - accuracy: 0.3581 - val_loss: 2.0541 - val_accuracy: 0.2968\n",
      "Epoch 7/50\n",
      "44/44 [==============================] - 0s 3ms/step - loss: 1.9145 - accuracy: 0.3919 - val_loss: 1.9839 - val_accuracy: 0.3429\n",
      "Epoch 8/50\n",
      "44/44 [==============================] - 0s 3ms/step - loss: 1.8054 - accuracy: 0.4301 - val_loss: 1.9257 - val_accuracy: 0.3718\n",
      "Epoch 9/50\n",
      "44/44 [==============================] - 0s 3ms/step - loss: 1.7033 - accuracy: 0.4640 - val_loss: 1.8800 - val_accuracy: 0.3833\n",
      "Epoch 10/50\n",
      "44/44 [==============================] - 0s 3ms/step - loss: 1.6091 - accuracy: 0.4978 - val_loss: 1.8446 - val_accuracy: 0.4092\n",
      "Epoch 11/50\n",
      "44/44 [==============================] - 0s 3ms/step - loss: 1.5229 - accuracy: 0.5324 - val_loss: 1.8175 - val_accuracy: 0.4121\n",
      "Epoch 12/50\n",
      "44/44 [==============================] - 0s 3ms/step - loss: 1.4432 - accuracy: 0.5569 - val_loss: 1.7947 - val_accuracy: 0.4352\n",
      "Epoch 13/50\n",
      "44/44 [==============================] - 0s 3ms/step - loss: 1.3697 - accuracy: 0.5807 - val_loss: 1.7762 - val_accuracy: 0.4467\n",
      "Epoch 14/50\n",
      "44/44 [==============================] - 0s 3ms/step - loss: 1.3013 - accuracy: 0.6073 - val_loss: 1.7633 - val_accuracy: 0.4496\n",
      "Epoch 15/50\n",
      "44/44 [==============================] - 0s 3ms/step - loss: 1.2375 - accuracy: 0.6297 - val_loss: 1.7536 - val_accuracy: 0.4611\n",
      "Epoch 16/50\n",
      "44/44 [==============================] - 0s 4ms/step - loss: 1.1775 - accuracy: 0.6513 - val_loss: 1.7452 - val_accuracy: 0.4524\n",
      "Epoch 17/50\n",
      "44/44 [==============================] - 0s 3ms/step - loss: 1.1199 - accuracy: 0.6744 - val_loss: 1.7382 - val_accuracy: 0.4582\n",
      "Epoch 18/50\n",
      "44/44 [==============================] - 0s 3ms/step - loss: 1.0649 - accuracy: 0.6924 - val_loss: 1.7312 - val_accuracy: 0.4553\n",
      "Epoch 19/50\n",
      "44/44 [==============================] - 0s 3ms/step - loss: 1.0126 - accuracy: 0.7089 - val_loss: 1.7267 - val_accuracy: 0.4524\n",
      "Epoch 20/50\n",
      "44/44 [==============================] - 0s 3ms/step - loss: 0.9626 - accuracy: 0.7277 - val_loss: 1.7225 - val_accuracy: 0.4611\n",
      "Epoch 21/50\n",
      "44/44 [==============================] - 0s 3ms/step - loss: 0.9148 - accuracy: 0.7450 - val_loss: 1.7195 - val_accuracy: 0.4726\n",
      "Epoch 22/50\n",
      "44/44 [==============================] - 0s 3ms/step - loss: 0.8695 - accuracy: 0.7622 - val_loss: 1.7188 - val_accuracy: 0.4841\n",
      "Epoch 23/50\n",
      "44/44 [==============================] - 0s 4ms/step - loss: 0.8262 - accuracy: 0.7781 - val_loss: 1.7174 - val_accuracy: 0.4841\n",
      "Epoch 24/50\n",
      "44/44 [==============================] - 0s 3ms/step - loss: 0.7851 - accuracy: 0.7954 - val_loss: 1.7205 - val_accuracy: 0.4841\n",
      "Epoch 25/50\n",
      "44/44 [==============================] - 0s 3ms/step - loss: 0.7460 - accuracy: 0.8112 - val_loss: 1.7232 - val_accuracy: 0.4870\n",
      "Epoch 26/50\n",
      "44/44 [==============================] - 0s 3ms/step - loss: 0.7084 - accuracy: 0.8213 - val_loss: 1.7280 - val_accuracy: 0.4899\n",
      "Epoch 27/50\n",
      "44/44 [==============================] - 0s 3ms/step - loss: 0.6727 - accuracy: 0.8329 - val_loss: 1.7333 - val_accuracy: 0.5014\n",
      "Epoch 28/50\n",
      "44/44 [==============================] - 0s 3ms/step - loss: 0.6385 - accuracy: 0.8429 - val_loss: 1.7378 - val_accuracy: 0.5101\n",
      "Epoch 29/50\n",
      "44/44 [==============================] - 0s 4ms/step - loss: 0.6055 - accuracy: 0.8523 - val_loss: 1.7443 - val_accuracy: 0.5130\n",
      "Epoch 30/50\n",
      "44/44 [==============================] - 0s 3ms/step - loss: 0.5745 - accuracy: 0.8624 - val_loss: 1.7524 - val_accuracy: 0.5216\n",
      "Epoch 31/50\n",
      "44/44 [==============================] - 0s 3ms/step - loss: 0.5442 - accuracy: 0.8732 - val_loss: 1.7612 - val_accuracy: 0.5216\n",
      "Epoch 32/50\n",
      "44/44 [==============================] - 0s 3ms/step - loss: 0.5157 - accuracy: 0.8833 - val_loss: 1.7710 - val_accuracy: 0.5360\n",
      "Epoch 33/50\n",
      "44/44 [==============================] - 0s 3ms/step - loss: 0.4884 - accuracy: 0.8970 - val_loss: 1.7832 - val_accuracy: 0.5389\n",
      "Epoch 34/50\n",
      "44/44 [==============================] - 0s 3ms/step - loss: 0.4623 - accuracy: 0.9063 - val_loss: 1.7945 - val_accuracy: 0.5447\n",
      "Epoch 35/50\n",
      "44/44 [==============================] - 0s 3ms/step - loss: 0.4373 - accuracy: 0.9157 - val_loss: 1.8067 - val_accuracy: 0.5389\n",
      "Epoch 36/50\n",
      "44/44 [==============================] - 0s 4ms/step - loss: 0.4132 - accuracy: 0.9215 - val_loss: 1.8193 - val_accuracy: 0.5447\n",
      "Epoch 37/50\n",
      "44/44 [==============================] - 0s 3ms/step - loss: 0.3903 - accuracy: 0.9287 - val_loss: 1.8315 - val_accuracy: 0.5447\n",
      "Epoch 38/50\n",
      "44/44 [==============================] - 0s 3ms/step - loss: 0.3683 - accuracy: 0.9395 - val_loss: 1.8450 - val_accuracy: 0.5447\n",
      "Epoch 39/50\n",
      "44/44 [==============================] - 0s 3ms/step - loss: 0.3476 - accuracy: 0.9467 - val_loss: 1.8583 - val_accuracy: 0.5533\n",
      "Epoch 40/50\n",
      "44/44 [==============================] - 0s 3ms/step - loss: 0.3279 - accuracy: 0.9561 - val_loss: 1.8707 - val_accuracy: 0.5533\n",
      "Epoch 41/50\n",
      "44/44 [==============================] - 0s 3ms/step - loss: 0.3089 - accuracy: 0.9618 - val_loss: 1.8854 - val_accuracy: 0.5562\n",
      "Epoch 42/50\n",
      "44/44 [==============================] - 0s 4ms/step - loss: 0.2910 - accuracy: 0.9669 - val_loss: 1.8998 - val_accuracy: 0.5504\n",
      "Epoch 43/50\n",
      "44/44 [==============================] - 0s 3ms/step - loss: 0.2737 - accuracy: 0.9726 - val_loss: 1.9158 - val_accuracy: 0.5504\n",
      "Epoch 44/50\n",
      "44/44 [==============================] - 0s 3ms/step - loss: 0.2580 - accuracy: 0.9805 - val_loss: 1.9331 - val_accuracy: 0.5504\n",
      "Epoch 45/50\n",
      "44/44 [==============================] - 0s 3ms/step - loss: 0.2429 - accuracy: 0.9827 - val_loss: 1.9485 - val_accuracy: 0.5533\n",
      "Epoch 46/50\n",
      "44/44 [==============================] - 0s 3ms/step - loss: 0.2285 - accuracy: 0.9849 - val_loss: 1.9648 - val_accuracy: 0.5504\n",
      "Epoch 47/50\n",
      "44/44 [==============================] - 0s 3ms/step - loss: 0.2151 - accuracy: 0.9849 - val_loss: 1.9818 - val_accuracy: 0.5504\n",
      "Epoch 48/50\n",
      "44/44 [==============================] - 0s 4ms/step - loss: 0.2024 - accuracy: 0.9878 - val_loss: 1.9995 - val_accuracy: 0.5504\n",
      "Epoch 49/50\n",
      "44/44 [==============================] - 0s 4ms/step - loss: 0.1907 - accuracy: 0.9906 - val_loss: 2.0148 - val_accuracy: 0.5533\n",
      "Epoch 50/50\n",
      "44/44 [==============================] - 0s 3ms/step - loss: 0.1794 - accuracy: 0.9921 - val_loss: 2.0313 - val_accuracy: 0.5533\n"
     ]
    }
   ],
   "source": [
    "# Fit the model using the prefetched char-only dataset\n",
    "model_2_history = model_2.fit(train_char_dataset,\n",
    "                              epochs=50,\n",
    "                              validation_data=test_char_dataset,\n",
    "                              verbose=1)"
   ]
  },
  {
   "attachments": {},
   "cell_type": "markdown",
   "metadata": {},
   "source": [
    "#### Evaluating"
   ]
  },
  {
   "cell_type": "code",
   "execution_count": 83,
   "metadata": {},
   "outputs": [
    {
     "name": "stdout",
     "output_type": "stream",
     "text": [
      "11/11 [==============================] - 0s 1ms/step - loss: 2.0313 - accuracy: 0.5533\n"
     ]
    },
    {
     "data": {
      "text/plain": [
       "[2.0312583446502686, 0.5533141493797302]"
      ]
     },
     "execution_count": 83,
     "metadata": {},
     "output_type": "execute_result"
    }
   ],
   "source": [
    "# Evaluate the model on the test char dataset\n",
    "model_2.evaluate(test_char_dataset)"
   ]
  },
  {
   "cell_type": "code",
   "execution_count": 84,
   "metadata": {},
   "outputs": [],
   "source": [
    "# Create a function to plot the loss and accuracy curves for future models\n",
    "def plot_loss_curves(history):\n",
    "  loss = history.history['loss']\n",
    "  val_loss = history.history['val_loss']\n",
    "  accuracy = history.history['accuracy']\n",
    "  val_accuracy = history.history['val_accuracy']\n",
    "  epochs = range(len(history.history['loss']))\n",
    "\n",
    "  plt.plot(epochs, loss, label='training_loss')\n",
    "  plt.plot(epochs, val_loss, label='val_loss')\n",
    "  plt.title('Loss')\n",
    "  plt.xlabel('Epochs')\n",
    "  plt.legend()\n",
    "\n",
    "  plt.figure()\n",
    "  plt.plot(epochs, accuracy, label='training_accuracy')\n",
    "  plt.plot(epochs, val_accuracy, label='val_accuracy')\n",
    "  plt.title('Accuracy')\n",
    "  plt.xlabel('Epochs')\n",
    "  plt.legend()"
   ]
  },
  {
   "cell_type": "code",
   "execution_count": 85,
   "metadata": {},
   "outputs": [
    {
     "data": {
      "image/png": "[encoded data removed]",
      "text/plain": [
       "<Figure size 640x480 with 1 Axes>"
      ]
     },
     "metadata": {},
     "output_type": "display_data"
    },
    {
     "data": {
      "image/png": "[encoded data removed]",
      "text/plain": [
       "<Figure size 640x480 with 1 Axes>"
      ]
     },
     "metadata": {},
     "output_type": "display_data"
    }
   ],
   "source": [
    "# Plot the loss and accuracy curves for model 2\n",
    "plot_loss_curves(history=model_2_history)"
   ]
  },
  {
   "cell_type": "code",
   "execution_count": 86,
   "metadata": {},
   "outputs": [
    {
     "name": "stdout",
     "output_type": "stream",
     "text": [
      "11/11 [==============================] - 0s 1ms/step\n"
     ]
    },
    {
     "data": {
      "text/plain": [
       "((347, 10),\n",
       " array([[2.1006802e-10, 4.6952377e-07, 1.2602336e-06, ..., 1.6876358e-09,\n",
       "         5.7341444e-04, 4.2648358e-06],\n",
       "        [9.9722481e-01, 4.4290526e-04, 6.9965836e-06, ..., 1.7614261e-04,\n",
       "         2.4495419e-05, 1.6544969e-04],\n",
       "        [2.9432817e-04, 6.8427287e-02, 2.9401539e-02, ..., 1.3774361e-06,\n",
       "         3.9122462e-01, 1.2756872e-01],\n",
       "        ...,\n",
       "        [5.0618645e-02, 4.2384733e-02, 1.1407195e-03, ..., 9.5719278e-02,\n",
       "         3.1480901e-02, 7.5152988e-05],\n",
       "        [1.1494972e-03, 5.1164487e-05, 8.5945503e-04, ..., 5.1586783e-01,\n",
       "         1.8576777e-02, 3.1853110e-02],\n",
       "        [1.6795250e-03, 1.6420372e-01, 4.1092899e-02, ..., 8.3282626e-05,\n",
       "         7.9281688e-02, 3.7150551e-02]], dtype=float32))"
      ]
     },
     "execution_count": 86,
     "metadata": {},
     "output_type": "execute_result"
    }
   ],
   "source": [
    "# Make predictions with the char model\n",
    "model_2_pred_probs = model_2.predict(test_char_dataset)\n",
    "model_2_pred_probs.shape, model_2_pred_probs"
   ]
  },
  {
   "cell_type": "code",
   "execution_count": 87,
   "metadata": {},
   "outputs": [
    {
     "data": {
      "text/plain": [
       "<tf.Tensor: shape=(347,), dtype=int64, numpy=\n",
       "array([4, 0, 8, 1, 8, 3, 1, 4, 8, 7, 9, 2, 7, 4, 6, 5, 4, 8, 5, 6, 4, 2,\n",
       "       0, 3, 0, 7, 1, 1, 9, 1, 1, 4, 7, 1, 5, 1, 3, 7, 0, 6, 2, 1, 4, 6,\n",
       "       9, 2, 5, 1, 7, 5, 1, 2, 3, 1, 0, 4, 7, 6, 2, 7, 9, 0, 4, 4, 1, 0,\n",
       "       3, 6, 1, 4, 9, 7, 9, 3, 7, 4, 5, 3, 4, 6, 6, 2, 6, 6, 2, 1, 7, 5,\n",
       "       1, 2, 3, 6, 9, 7, 3, 4, 3, 2, 2, 5, 8, 1, 3, 3, 7, 4, 6, 8, 3, 3,\n",
       "       1, 6, 9, 2, 9, 4, 8, 3, 6, 8, 4, 4, 6, 9, 7, 1, 5, 3, 1, 2, 7, 1,\n",
       "       5, 3, 1, 4, 7, 3, 9, 6, 2, 7, 4, 5, 9, 7, 0, 5, 4, 8, 8, 4, 6, 4,\n",
       "       4, 2, 4, 5, 2, 4, 4, 6, 2, 3, 2, 0, 3, 4, 3, 4, 7, 8, 9, 7, 1, 3,\n",
       "       9, 3, 3, 4, 7, 1, 4, 8, 8, 5, 8, 2, 0, 0, 7, 0, 1, 7, 9, 7, 7, 9,\n",
       "       4, 4, 3, 5, 9, 7, 0, 0, 2, 3, 5, 9, 1, 0, 6, 1, 3, 1, 3, 1, 5, 9,\n",
       "       8, 9, 6, 6, 7, 2, 6, 7, 0, 7, 3, 7, 1, 1, 1, 7, 9, 7, 1, 8, 4, 7,\n",
       "       1, 2, 3, 3, 5, 1, 6, 7, 0, 9, 5, 0, 4, 0, 2, 3, 4, 7, 6, 1, 0, 0,\n",
       "       0, 1, 6, 9, 7, 4, 3, 9, 2, 4, 6, 1, 7, 9, 6, 7, 9, 1, 7, 9, 0, 5,\n",
       "       5, 3, 1, 9, 4, 6, 1, 3, 7, 3, 4, 3, 5, 6, 6, 3, 3, 5, 3, 9, 1, 0,\n",
       "       0, 7, 2, 4, 8, 4, 8, 0, 7, 0, 7, 2, 3, 4, 2, 9, 3, 0, 6, 0, 2, 1,\n",
       "       3, 0, 3, 4, 0, 0, 2, 2, 8, 0, 8, 3, 2, 1, 6, 7, 6], dtype=int64)>"
      ]
     },
     "execution_count": 87,
     "metadata": {},
     "output_type": "execute_result"
    }
   ],
   "source": [
    "# Convert prediction porbabilities to integers that represent 'subreddit' labels\n",
    "model_2_predictions = tf.argmax(model_2_pred_probs, axis=1)\n",
    "model_2_predictions"
   ]
  },
  {
   "cell_type": "code",
   "execution_count": 88,
   "metadata": {},
   "outputs": [
    {
     "data": {
      "text/html": [
       "<div>\n",
       "<style scoped>\n",
       "    .dataframe tbody tr th:only-of-type {\n",
       "        vertical-align: middle;\n",
       "    }\n",
       "\n",
       "    .dataframe tbody tr th {\n",
       "        vertical-align: top;\n",
       "    }\n",
       "\n",
       "    .dataframe thead th {\n",
       "        text-align: right;\n",
       "    }\n",
       "</style>\n",
       "<table border=\"1\" class=\"dataframe\">\n",
       "  <thead>\n",
       "    <tr style=\"text-align: right;\">\n",
       "      <th></th>\n",
       "      <th>subreddit</th>\n",
       "      <th>title</th>\n",
       "      <th>upvote_ratio</th>\n",
       "      <th>score</th>\n",
       "      <th>total_awards_received</th>\n",
       "      <th>predicted_subreddit</th>\n",
       "      <th>correct_prediction</th>\n",
       "    </tr>\n",
       "  </thead>\n",
       "  <tbody>\n",
       "    <tr>\n",
       "      <th>625</th>\n",
       "      <td>gaming</td>\n",
       "      <td>Favorite game studio?</td>\n",
       "      <td>0.67</td>\n",
       "      <td>2.0</td>\n",
       "      <td>0.0</td>\n",
       "      <td>gaming</td>\n",
       "      <td>True</td>\n",
       "    </tr>\n",
       "    <tr>\n",
       "      <th>14</th>\n",
       "      <td>Python</td>\n",
       "      <td>Test On 4 Concurrent Jobs Using Python-Polars ...</td>\n",
       "      <td>0.83</td>\n",
       "      <td>33.0</td>\n",
       "      <td>0.0</td>\n",
       "      <td>news</td>\n",
       "      <td>False</td>\n",
       "    </tr>\n",
       "    <tr>\n",
       "      <th>165</th>\n",
       "      <td>mildlyinfuriating</td>\n",
       "      <td>This one bagel bite</td>\n",
       "      <td>0.83</td>\n",
       "      <td>22.0</td>\n",
       "      <td>0.0</td>\n",
       "      <td>mildlyinfuriating</td>\n",
       "      <td>True</td>\n",
       "    </tr>\n",
       "    <tr>\n",
       "      <th>618</th>\n",
       "      <td>gaming</td>\n",
       "      <td>Skygerfall</td>\n",
       "      <td>0.60</td>\n",
       "      <td>1.0</td>\n",
       "      <td>0.0</td>\n",
       "      <td>cats</td>\n",
       "      <td>False</td>\n",
       "    </tr>\n",
       "    <tr>\n",
       "      <th>1640</th>\n",
       "      <td>oddlyspecific</td>\n",
       "      <td>MBA Rankings</td>\n",
       "      <td>0.75</td>\n",
       "      <td>2.0</td>\n",
       "      <td>0.0</td>\n",
       "      <td>cats</td>\n",
       "      <td>False</td>\n",
       "    </tr>\n",
       "  </tbody>\n",
       "</table>\n",
       "</div>"
      ],
      "text/plain": [
       "              subreddit                                              title   \n",
       "625              gaming                              Favorite game studio?  \\\n",
       "14               Python  Test On 4 Concurrent Jobs Using Python-Polars ...   \n",
       "165   mildlyinfuriating                                This one bagel bite   \n",
       "618              gaming                                         Skygerfall   \n",
       "1640      oddlyspecific                                       MBA Rankings   \n",
       "\n",
       "      upvote_ratio  score  total_awards_received predicted_subreddit   \n",
       "625           0.67    2.0                    0.0              gaming  \\\n",
       "14            0.83   33.0                    0.0                news   \n",
       "165           0.83   22.0                    0.0   mildlyinfuriating   \n",
       "618           0.60    1.0                    0.0                cats   \n",
       "1640          0.75    2.0                    0.0                cats   \n",
       "\n",
       "      correct_prediction  \n",
       "625                 True  \n",
       "14                 False  \n",
       "165                 True  \n",
       "618                False  \n",
       "1640               False  "
      ]
     },
     "execution_count": 88,
     "metadata": {},
     "output_type": "execute_result"
    }
   ],
   "source": [
    "# compare the 'subreddit' predictions with the true 'subreddit' labels\n",
    "copy_df = test_df.copy()\n",
    "copy_df[\"predicted_subreddit\"] = [label_encoder.classes_[pred] for pred in model_1_predictions]\n",
    "copy_df[\"correct_prediction\"] = copy_df[\"subreddit\"] == copy_df[\"predicted_subreddit\"]\n",
    "copy_df.head()"
   ]
  },
  {
   "cell_type": "code",
   "execution_count": 89,
   "metadata": {},
   "outputs": [
    {
     "data": {
      "text/plain": [
       "correct_prediction\n",
       "True     196\n",
       "False    151\n",
       "Name: count, dtype: int64"
      ]
     },
     "execution_count": 89,
     "metadata": {},
     "output_type": "execute_result"
    }
   ],
   "source": [
    "# How many predictions were wrong and how many were correct?\n",
    "copy_df.correct_prediction.value_counts()"
   ]
  },
  {
   "cell_type": "code",
   "execution_count": 90,
   "metadata": {},
   "outputs": [
    {
     "data": {
      "text/plain": [
       "{'accuracy': 0.553314121037464,\n",
       " 'precision': 0.5495980189019302,\n",
       " 'recall': 0.553314121037464,\n",
       " 'f1': 0.543430296991778}"
      ]
     },
     "execution_count": 90,
     "metadata": {},
     "output_type": "execute_result"
    }
   ],
   "source": [
    "# Get the scores for model 2\n",
    "model_2_scores = calculate_scores(y_true=test_labels_encoded,\n",
    "                                  y_pred=model_2_predictions)\n",
    "model_2_scores"
   ]
  },
  {
   "cell_type": "code",
   "execution_count": 91,
   "metadata": {},
   "outputs": [
    {
     "data": {
      "text/plain": [
       "{'accuracy': 0.5648414985590778,\n",
       " 'precision': 0.5988538274675087,\n",
       " 'recall': 0.5648414985590778,\n",
       " 'f1': 0.5738988260659642}"
      ]
     },
     "execution_count": 91,
     "metadata": {},
     "output_type": "execute_result"
    }
   ],
   "source": [
    "# Model 1 Scores?\n",
    "model_1_scores"
   ]
  },
  {
   "attachments": {},
   "cell_type": "markdown",
   "metadata": {},
   "source": [
    "Nice, looks like model 2 performed better than model 1, but not by much. It is, however, still an improvement"
   ]
  },
  {
   "attachments": {},
   "cell_type": "markdown",
   "metadata": {},
   "source": [
    "### Model 3: Feature Extraction with Token Embeddings and Character Embeddings\n",
    "\n",
    "Use Transfer learning from `TensorFlow Hub` to train model 3 while incorporating both token and character embeddings.\n",
    "\n",
    "Feature Extraction using pretrained `Universal Sentence Encoder (USE)` from TensorFlow Hub for token embeddings.\n",
    "\n",
    "Resources:\n",
    "* https://tfhub.dev/google/universal-sentence-encoder/4\n",
    "* https://www.tensorflow.org/hub/api_docs/python/hub/KerasLayer"
   ]
  },
  {
   "cell_type": "code",
   "execution_count": 92,
   "metadata": {},
   "outputs": [],
   "source": [
    "# Download USE from TensorFlow Hub\n",
    "tf_hub_embedding_layer = hub.KerasLayer(\"https://tfhub.dev/google/universal-sentence-encoder/4\",\n",
    "                                        trainable=False,\n",
    "                                        name=\"USE\")"
   ]
  },
  {
   "cell_type": "code",
   "execution_count": 93,
   "metadata": {},
   "outputs": [
    {
     "name": "stdout",
     "output_type": "stream",
     "text": [
      "Random subreddit title:\n",
      "Stairway To The Attic\n",
      "\n",
      "USE Embedded sentence:\n",
      "[ 3.55501994e-02  5.81026860e-02  8.24567005e-02 -2.22534165e-02\n",
      "  1.69850443e-03 -4.28671613e-02  1.00660268e-02  2.67645288e-02\n",
      "  7.51857704e-04  3.62988934e-02  3.94761637e-02 -6.20084181e-02\n",
      " -3.38820107e-02  2.49225814e-02 -1.30703980e-02  3.90565395e-02\n",
      " -5.99289648e-02  2.90720686e-02  2.10412834e-02 -6.85259923e-02\n",
      " -3.39461938e-02  6.55752942e-02 -5.53245544e-02 -2.22192761e-02\n",
      " -8.00301582e-02  5.37161306e-02  3.17322724e-02 -4.86946627e-02\n",
      "  1.70329725e-03  2.55551860e-02  5.55201899e-03 -4.94765379e-02\n",
      " -2.02721506e-02  6.79371580e-02 -1.41620133e-02  4.78201769e-02\n",
      " -5.91822900e-03  6.68368861e-02  1.58185270e-02  6.43517971e-02\n",
      "  6.69852272e-02 -3.56505252e-02 -7.39517808e-02 -4.11879010e-02\n",
      " -6.14863597e-02 -2.87378635e-02 -5.33205308e-02 -2.45878212e-02\n",
      "  4.89284173e-02 -5.02037117e-03  5.71053773e-02 -2.95643765e-03\n",
      "  4.30283062e-02 -1.25545105e-02  7.93884844e-02 -7.57251009e-02\n",
      "  3.70306484e-02 -1.79110449e-02  6.00409992e-02  1.78860687e-02\n",
      " -4.71455194e-02 -8.05406272e-02  6.30675331e-02 -8.19440465e-03\n",
      "  7.97393098e-02  2.20101625e-02  4.06243913e-02 -4.21261452e-02\n",
      " -3.42815891e-02  3.12643759e-02  1.20991878e-02 -1.98492631e-02\n",
      " -3.06420457e-02 -5.78653393e-03  1.09426351e-02  6.07066788e-02\n",
      " -1.02026109e-02  2.59401347e-03  2.36653294e-02 -7.01267272e-02\n",
      "  2.26771357e-04  2.00683530e-02 -4.80725840e-02  5.54717220e-02\n",
      " -2.19712220e-02  2.71129385e-02 -2.44343635e-02  1.08536500e-02\n",
      " -3.10785808e-02 -5.93906119e-02 -4.59430180e-02 -7.44406432e-02\n",
      " -2.89982352e-02  4.22226787e-02  7.42539912e-02 -4.02491838e-02\n",
      " -1.34694250e-02  4.55654822e-02  6.35843426e-02  5.55758700e-02\n",
      "  2.94723716e-02 -6.43797743e-04 -5.05086891e-02 -2.52067484e-02\n",
      "  5.74677289e-02  4.72127125e-02 -2.05669040e-03  3.28961499e-02\n",
      "  5.51134869e-02  5.63512668e-02 -4.48986478e-02 -2.98356190e-02\n",
      " -7.00454116e-02 -5.85229415e-03 -3.95926349e-02 -4.44118865e-02\n",
      " -5.30513376e-02  5.80235459e-02 -6.74924776e-02 -4.21487428e-02\n",
      " -8.02379102e-02 -3.51764858e-02 -5.87581331e-03 -2.25880183e-02\n",
      " -4.00251821e-02  5.28073236e-02 -5.48441261e-02 -5.20160757e-02\n",
      "  5.04279472e-02  5.05813211e-02  2.81691700e-02 -4.94692400e-02\n",
      "  3.29696387e-02 -4.47017066e-02  8.79521482e-03 -4.53162417e-02\n",
      "  9.23405681e-03  2.95373891e-02  4.80305552e-02  6.91354945e-02\n",
      "  3.40570025e-02 -6.72110170e-02  1.80323534e-02 -3.16834971e-02\n",
      " -4.49271724e-02 -6.29955232e-02 -2.13102512e-02  5.95847815e-02\n",
      " -7.31929690e-02 -2.27188617e-02  4.74203825e-02 -4.57607433e-02\n",
      " -3.00889499e-02 -3.32993679e-02 -6.99872300e-02 -5.19151837e-02\n",
      "  3.92034836e-02 -8.01487789e-02 -4.15312737e-04 -3.83666195e-02\n",
      " -6.68631122e-02  6.65347651e-02 -6.91348035e-03 -1.33459372e-02\n",
      "  3.72094437e-02 -1.55262626e-03  3.87348086e-02  1.81943681e-02\n",
      " -5.05795293e-02  1.38169629e-02 -1.51531985e-02  6.25466462e-03\n",
      " -6.14047535e-02  4.43600453e-02 -2.69305445e-02 -5.43679669e-02\n",
      "  5.54378517e-02 -7.72672221e-02 -1.33381337e-02 -5.83160631e-02\n",
      " -2.86622383e-02 -3.71987112e-02  9.05571287e-05  7.27442726e-02\n",
      " -8.24849028e-03 -7.43276328e-02  1.18931439e-02  1.23261819e-02\n",
      "  2.53523495e-02 -3.78083736e-02  1.17952572e-02 -5.09466529e-02\n",
      "  6.80984110e-02 -5.41424155e-02 -4.97284159e-02  2.26206817e-02\n",
      "  3.49948257e-02 -5.28475419e-02  5.02856933e-02 -1.82150751e-02\n",
      " -4.01435159e-02  1.61040053e-02  6.16334332e-03  3.81678492e-02\n",
      " -6.25358820e-02 -5.07138222e-02 -6.56422302e-02 -3.31920944e-02\n",
      " -5.67865930e-02 -4.09295633e-02 -4.83641103e-02  5.46645373e-02\n",
      "  5.58138564e-02  2.50515416e-02 -1.02977529e-02  3.34476531e-02\n",
      " -4.18926403e-02 -2.64568888e-02  6.38063103e-02  1.80076640e-02\n",
      " -3.56956571e-02  5.35933189e-02 -4.83973473e-02 -3.06209009e-02\n",
      "  8.06331933e-02 -5.65837212e-02 -2.74447557e-02 -5.29357456e-02\n",
      " -4.86990297e-03  9.62789729e-03  1.09041194e-02  4.25727330e-02\n",
      "  3.47052552e-02  5.91343306e-02  3.10005713e-02 -8.42115581e-02\n",
      " -1.97156314e-02 -1.00760804e-02  3.94185744e-02  4.71623935e-04\n",
      " -2.93486356e-03  6.82914630e-02 -1.43658714e-02  2.09612045e-02\n",
      "  6.42679632e-02  5.42387590e-02  1.44460443e-02 -4.26172465e-03\n",
      "  3.23662832e-02  5.69743477e-02  1.72004197e-02 -4.41244170e-02\n",
      " -5.33281565e-02 -7.94983730e-02 -4.55204062e-02 -5.50733171e-02\n",
      "  5.70746213e-02 -3.96737121e-02 -3.21377404e-02  4.54136217e-03\n",
      " -5.54946922e-02  2.84891445e-02 -2.77815312e-02  5.88586181e-02\n",
      "  6.77860752e-02 -5.12857130e-03 -7.50205219e-02  1.13299843e-02\n",
      " -5.87832462e-03  7.67991096e-02  5.37435263e-02 -6.92027155e-03\n",
      "  9.31990333e-04 -3.17788422e-02 -6.38244301e-02 -5.82394563e-02\n",
      " -3.09398100e-02  4.80871759e-02  6.54564723e-02 -1.75775774e-02\n",
      " -7.16243759e-02 -5.34326658e-02  3.40495855e-02  7.75335953e-02\n",
      " -6.06665760e-03 -7.49439970e-02  3.85206975e-02 -6.56852797e-02\n",
      " -3.86675857e-02 -2.51752492e-02  3.11592016e-02 -1.00658750e-02\n",
      "  7.75179937e-02 -4.73271646e-02 -5.88717731e-03  5.52032143e-02\n",
      "  4.64907885e-02 -3.30550373e-02 -8.16595368e-03 -1.25942798e-02\n",
      " -1.12607451e-02 -5.10250442e-02 -3.35141234e-02  6.90196529e-02\n",
      " -4.89795627e-03  3.79283354e-02 -2.73921546e-02 -1.38097024e-02\n",
      " -4.39418145e-02  6.75799772e-02  2.70803776e-02  3.27114984e-02\n",
      " -1.13880243e-02  3.64346579e-02 -3.41389924e-02 -3.95691544e-02\n",
      " -3.40642743e-02  7.29345977e-02 -6.35127127e-02 -5.52511811e-02\n",
      "  5.85083403e-02 -3.23152938e-03  1.92238707e-02  5.92560656e-02\n",
      "  6.22286741e-03 -3.79536413e-02 -4.48663943e-02 -4.78131883e-02\n",
      " -3.55322808e-02 -4.38316390e-02 -5.99514805e-02 -6.29574358e-02\n",
      " -3.51276360e-02  4.70551662e-02 -5.62046729e-02  4.66247499e-02\n",
      "  7.89707080e-02  7.33932182e-02 -4.47993092e-02  2.03814413e-02\n",
      "  3.13274413e-02 -3.70284282e-02  3.97976451e-02 -5.37806563e-02\n",
      "  6.94401050e-03  6.09093010e-02  7.03822970e-02  6.42091334e-02\n",
      " -1.20743448e-02  1.57298520e-02 -4.25325781e-02  1.01686306e-02\n",
      "  8.46934970e-03  3.81199969e-03 -9.63754859e-03 -1.64393447e-02\n",
      " -7.77158514e-02 -1.33093502e-02 -2.74318215e-02  2.97462055e-03\n",
      "  6.25514565e-03 -5.76835722e-02  5.43503724e-02  4.00580280e-02\n",
      "  5.41475695e-03 -4.03424837e-02  6.65302351e-02  7.65817016e-02\n",
      "  3.08455639e-02 -5.66528924e-02 -2.29251548e-03  9.22111515e-03\n",
      "  5.45485392e-02 -3.92524824e-02 -3.81897502e-02  2.65926588e-03\n",
      "  3.96828465e-02 -1.22216037e-02  4.86070290e-02 -7.74246827e-02\n",
      "  1.13771217e-04 -3.65591906e-02  8.74703377e-03  1.15184337e-02\n",
      "  4.44774628e-02 -4.52748612e-02 -2.03552805e-02 -4.43734191e-02\n",
      "  7.40476176e-02  2.42940970e-02 -7.81022944e-03 -2.17521731e-02\n",
      " -6.43481836e-02  6.01257831e-02 -1.49928229e-02  6.40458602e-05\n",
      " -4.58719246e-02 -6.52471855e-02  2.12154118e-03  1.39038665e-02\n",
      " -5.86475879e-02 -4.69621690e-03  1.53559269e-02 -2.86420081e-02\n",
      "  2.18970943e-02  4.44197841e-02  7.81563669e-02 -6.69149011e-02\n",
      " -2.80382205e-02  5.92667535e-02  2.59731952e-02 -7.34831020e-02\n",
      "  6.53993040e-02  5.87017126e-02 -2.01422051e-02  6.54852390e-03\n",
      " -3.58185805e-02 -1.76463481e-02 -4.62397188e-02 -8.14867392e-02\n",
      " -1.80232413e-02 -4.65605687e-03 -5.25871255e-02  7.29617104e-02\n",
      " -4.27454989e-03  6.36408851e-03 -5.25463894e-02  4.27645184e-02\n",
      "  3.54335979e-02 -1.93847399e-02 -2.98498035e-03  6.93460256e-02\n",
      " -2.38344651e-02  1.82926506e-02  1.87195186e-02 -4.29477543e-02\n",
      " -1.18520074e-02  4.22061570e-02 -3.73175703e-02 -3.71465310e-02\n",
      " -2.01462470e-02 -3.29767056e-02  4.90958989e-02  5.11433035e-02\n",
      " -3.40665281e-02  3.03737819e-02 -5.47752297e-03  5.90518955e-03\n",
      "  4.92166728e-02  5.69411442e-02 -2.01720670e-02  2.44396813e-02\n",
      "  3.50384712e-02 -1.69022977e-02 -5.00789843e-02 -2.95295455e-02\n",
      " -4.36567776e-02  3.55405323e-02 -6.61408082e-02  7.14095309e-02\n",
      " -6.57737777e-02 -3.65753360e-02  3.20324153e-02 -5.48274741e-02\n",
      "  7.70731829e-03 -1.21326568e-02 -3.79836224e-02  7.52063021e-02\n",
      " -7.17518926e-02  6.68947101e-02  6.14709742e-02 -1.87069569e-02\n",
      "  1.83341727e-02  6.77538514e-02 -2.79721636e-02  6.87201843e-02\n",
      " -2.59281276e-03  2.66263075e-02  2.49332637e-02 -8.27945545e-02\n",
      " -7.59844705e-02  3.13379057e-02  2.48100725e-03  5.52844517e-02\n",
      "  9.15161055e-03 -5.40689975e-02 -2.80658472e-02  2.60110348e-02\n",
      "  2.26340927e-02 -4.77119498e-02  2.74664983e-02 -5.63511960e-02\n",
      " -1.93080194e-02  2.92044934e-02  5.15166633e-02 -6.00332431e-02\n",
      " -2.50221305e-02  2.22129449e-02  5.15535846e-02  4.24806736e-02\n",
      " -6.17458746e-02 -5.81118651e-02 -5.09601226e-03 -7.09991604e-02\n",
      " -9.79820825e-03  7.09954128e-02 -4.31002341e-02  5.38305007e-02\n",
      " -5.27490340e-02 -4.26276103e-02  3.07223089e-02  1.72429401e-02]\n",
      "\n",
      "Length of embedded sentence:\n",
      "512\n"
     ]
    }
   ],
   "source": [
    "# Does it work? Test it out on a random subreddit title\n",
    "random_sentence = random.choice(train_titles)\n",
    "print(f\"Random subreddit title:\\n{random_sentence}\\n\")\n",
    "use_sentence = tf_hub_embedding_layer([random_sentence])\n",
    "print(f\"USE Embedded sentence:\\n{use_sentence[0]}\\n\")\n",
    "print(f\"Length of embedded sentence:\\n{len(use_sentence[0])}\")"
   ]
  },
  {
   "attachments": {},
   "cell_type": "markdown",
   "metadata": {},
   "source": [
    "#### Combine the token and character data into a prefetched dataset with batch size 32\n",
    "\n",
    "Resources: https://www.tensorflow.org/api_docs/python/tf/data/Dataset"
   ]
  },
  {
   "cell_type": "code",
   "execution_count": 94,
   "metadata": {},
   "outputs": [
    {
     "data": {
      "text/plain": [
       "(<_PrefetchDataset element_spec=((TensorSpec(shape=(None,), dtype=tf.string, name=None), TensorSpec(shape=(None,), dtype=tf.string, name=None)), TensorSpec(shape=(None, 10), dtype=tf.float64, name=None))>,\n",
       " <_PrefetchDataset element_spec=((TensorSpec(shape=(None,), dtype=tf.string, name=None), TensorSpec(shape=(None,), dtype=tf.string, name=None)), TensorSpec(shape=(None, 10), dtype=tf.float64, name=None))>)"
      ]
     },
     "execution_count": 94,
     "metadata": {},
     "output_type": "execute_result"
    }
   ],
   "source": [
    "# Combine the token and character datasets\n",
    "train_token_char_data = tf.data.Dataset.from_tensor_slices((train_titles, train_chars))\n",
    "train_token_char_labels = tf.data.Dataset.from_tensor_slices(train_labels_one_hot)\n",
    "train_token_char_dataset = tf.data.Dataset.zip((train_token_char_data, train_token_char_labels)).batch(32).prefetch(tf.data.AUTOTUNE)\n",
    "\n",
    "test_token_char_data = tf.data.Dataset.from_tensor_slices((test_titles, test_chars))\n",
    "test_token_char_labels = tf.data.Dataset.from_tensor_slices(test_labels_one_hot)\n",
    "test_token_char_dataset = tf.data.Dataset.zip((test_token_char_data, test_token_char_labels)).batch(32).prefetch(tf.data.AUTOTUNE)\n",
    "\n",
    "train_token_char_dataset, test_token_char_dataset"
   ]
  },
  {
   "attachments": {},
   "cell_type": "markdown",
   "metadata": {},
   "source": [
    "#### Building\n",
    "\n",
    "Build the model that will incorporate the USE pretrained embedding layer and the token and character sequence data."
   ]
  },
  {
   "cell_type": "code",
   "execution_count": 95,
   "metadata": {},
   "outputs": [],
   "source": [
    "# 1. Make the model for token embeddings using the USE pretained token embedding layer\n",
    "token_inputs = layers.Input(shape=[], dtype=tf.string, name=\"token_input\")\n",
    "token_embeddings = tf_hub_embedding_layer(token_inputs)\n",
    "token_output = layers.Dense(128, activation=\"relu\")(token_embeddings)\n",
    "token_model = tf.keras.Model(inputs=token_inputs, outputs=token_output)"
   ]
  },
  {
   "attachments": {},
   "cell_type": "markdown",
   "metadata": {},
   "source": [
    "The character model is the same architecture as model 2 except the `Conv1D` and `GlobalMaxPooling1D` layers.  \n",
    "\n",
    "Instead of a CNN, the mdoel uses an RNN, specifically a bidirectional LSTM.  \n",
    "\n",
    "The supposed advantages of an the Bidirectional LSTM over a CNN is that:\n",
    "* information about the sequences can flow in both directions (forward and back)\n",
    "* better suited for temporal data or sequential data (things with order)\n",
    "* Convolutions are better suited for spatial data, like images (not ideal for this dataset)\n",
    "\n",
    "Resource: https://www.springboard.com/blog/data-science/rnn-vs-cnn/"
   ]
  },
  {
   "cell_type": "code",
   "execution_count": 96,
   "metadata": {},
   "outputs": [],
   "source": [
    "# 2. Make the mdoel for character embeddings\n",
    "char_inputs = layers.Input(shape=(1,), dtype=tf.string, name=\"char_input\")\n",
    "char_vector = char_vectorizer(char_inputs)\n",
    "char_embeddings = char_embed(char_vector)\n",
    "char_outputs = layers.Bidirectional(layers.LSTM(32))(char_embeddings)\n",
    "char_model = tf.keras.Model(inputs=char_inputs, outputs=char_outputs)"
   ]
  },
  {
   "attachments": {},
   "cell_type": "markdown",
   "metadata": {},
   "source": [
    "Concatenate token and character models using the `Concatentate()` layer.   \n",
    "Resource: https://www.tensorflow.org/api_docs/python/tf/keras/layers/Concatenate"
   ]
  },
  {
   "cell_type": "code",
   "execution_count": 97,
   "metadata": {},
   "outputs": [],
   "source": [
    "# 3. Combine the token and character inputs\n",
    "token_char = layers.Concatenate(name=\"token_char\")([token_model.output,\n",
    "                                                    char_model.output])"
   ]
  },
  {
   "attachments": {},
   "cell_type": "markdown",
   "metadata": {},
   "source": [
    "To help prevent overfitting, drop a fraction of the data in the model during training using the `Dropout()` layer.  \n",
    "Resource: https://www.tensorflow.org/api_docs/python/tf/keras/layers/Dropout"
   ]
  },
  {
   "cell_type": "code",
   "execution_count": 98,
   "metadata": {},
   "outputs": [],
   "source": [
    "# 4. Build the output layers \n",
    "x = layers.Dropout(0.5)(token_char)\n",
    "x = layers.Dense(256, activation=\"relu\")(x)\n",
    "x = layers.Dropout(0.5)(x)\n",
    "output = layers.Dense(num_classes, activation=\"softmax\")(x)"
   ]
  },
  {
   "cell_type": "code",
   "execution_count": 99,
   "metadata": {},
   "outputs": [],
   "source": [
    "# 5. Stitch everything together\n",
    "model_3 = tf.keras.Model(inputs=[token_model.input, char_model.input],\n",
    "                         outputs=output,\n",
    "                         name=\"model_3_token_char_hybrid\")"
   ]
  },
  {
   "cell_type": "code",
   "execution_count": 100,
   "metadata": {},
   "outputs": [
    {
     "name": "stdout",
     "output_type": "stream",
     "text": [
      "Model: \"model_3_token_char_hybrid\"\n",
      "__________________________________________________________________________________________________\n",
      " Layer (type)                   Output Shape         Param #     Connected to                     \n",
      "==================================================================================================\n",
      " char_input (InputLayer)        [(None, 1)]          0           []                               \n",
      "                                                                                                  \n",
      " token_input (InputLayer)       [(None,)]            0           []                               \n",
      "                                                                                                  \n",
      " char_vectorizer (TextVectoriza  (None, 119)         0           ['char_input[0][0]']             \n",
      " tion)                                                                                            \n",
      "                                                                                                  \n",
      " USE (KerasLayer)               (None, 512)          256797824   ['token_input[0][0]']            \n",
      "                                                                                                  \n",
      " char_embed (Embedding)         (None, 119, 32)      2240        ['char_vectorizer[1][0]']        \n",
      "                                                                                                  \n",
      " dense_2 (Dense)                (None, 128)          65664       ['USE[0][0]']                    \n",
      "                                                                                                  \n",
      " bidirectional (Bidirectional)  (None, 64)           16640       ['char_embed[1][0]']             \n",
      "                                                                                                  \n",
      " token_char (Concatenate)       (None, 192)          0           ['dense_2[0][0]',                \n",
      "                                                                  'bidirectional[0][0]']          \n",
      "                                                                                                  \n",
      " dropout (Dropout)              (None, 192)          0           ['token_char[0][0]']             \n",
      "                                                                                                  \n",
      " dense_3 (Dense)                (None, 256)          49408       ['dropout[0][0]']                \n",
      "                                                                                                  \n",
      " dropout_1 (Dropout)            (None, 256)          0           ['dense_3[0][0]']                \n",
      "                                                                                                  \n",
      " dense_4 (Dense)                (None, 10)           2570        ['dropout_1[0][0]']              \n",
      "                                                                                                  \n",
      "==================================================================================================\n",
      "Total params: 256,934,346\n",
      "Trainable params: 136,522\n",
      "Non-trainable params: 256,797,824\n",
      "__________________________________________________________________________________________________\n"
     ]
    }
   ],
   "source": [
    "# What does the summary look like?\n",
    "model_3.summary()"
   ]
  },
  {
   "cell_type": "code",
   "execution_count": 101,
   "metadata": {},
   "outputs": [
    {
     "name": "stdout",
     "output_type": "stream",
     "text": [
      "layer name\ttrainable\n",
      "\n",
      "char_input:\tTrue\n",
      "token_input:\tTrue\n",
      "char_vectorizer:\tTrue\n",
      "USE:\tFalse\n",
      "char_embed:\tTrue\n",
      "dense_2:\tTrue\n",
      "bidirectional:\tTrue\n",
      "token_char:\tTrue\n",
      "dropout:\tTrue\n",
      "dense_3:\tTrue\n",
      "dropout_1:\tTrue\n",
      "dense_4:\tTrue\n"
     ]
    }
   ],
   "source": [
    "print(\"layer name\\ttrainable\\n\")\n",
    "for layer in model_3.layers:\n",
    "    print(f\"{layer.name}:\\t{layer.trainable}\")"
   ]
  },
  {
   "attachments": {},
   "cell_type": "markdown",
   "metadata": {},
   "source": [
    "Looks like there are some hyperparameters that are not trainable, which come from the USE pretained token embedding layer from TensorFlow Hub."
   ]
  },
  {
   "cell_type": "code",
   "execution_count": 102,
   "metadata": {},
   "outputs": [],
   "source": [
    "# Compile the model\n",
    "model_3.compile(loss=tf.keras.losses.categorical_crossentropy,\n",
    "                optimizer=tf.keras.optimizers.Adam(),\n",
    "                metrics=[\"accuracy\"])"
   ]
  },
  {
   "attachments": {},
   "cell_type": "markdown",
   "metadata": {},
   "source": [
    "#### Training"
   ]
  },
  {
   "cell_type": "code",
   "execution_count": 103,
   "metadata": {},
   "outputs": [
    {
     "name": "stdout",
     "output_type": "stream",
     "text": [
      "Epoch 1/10\n",
      "44/44 [==============================] - 5s 38ms/step - loss: 2.2732 - accuracy: 0.1499 - val_loss: 2.2084 - val_accuracy: 0.2911\n",
      "Epoch 2/10\n",
      "44/44 [==============================] - 1s 21ms/step - loss: 2.0915 - accuracy: 0.3127 - val_loss: 1.8422 - val_accuracy: 0.5533\n",
      "Epoch 3/10\n",
      "44/44 [==============================] - 1s 21ms/step - loss: 1.6336 - accuracy: 0.4705 - val_loss: 1.2873 - val_accuracy: 0.5937\n",
      "Epoch 4/10\n",
      "44/44 [==============================] - 1s 21ms/step - loss: 1.3104 - accuracy: 0.5418 - val_loss: 1.1053 - val_accuracy: 0.6340\n",
      "Epoch 5/10\n",
      "44/44 [==============================] - 1s 21ms/step - loss: 1.1442 - accuracy: 0.6095 - val_loss: 1.0394 - val_accuracy: 0.6340\n",
      "Epoch 6/10\n",
      "44/44 [==============================] - 1s 21ms/step - loss: 1.0244 - accuracy: 0.6434 - val_loss: 1.0018 - val_accuracy: 0.6311\n",
      "Epoch 7/10\n",
      "44/44 [==============================] - 1s 22ms/step - loss: 0.9475 - accuracy: 0.6859 - val_loss: 0.9836 - val_accuracy: 0.6369\n",
      "Epoch 8/10\n",
      "44/44 [==============================] - 1s 22ms/step - loss: 0.8795 - accuracy: 0.7061 - val_loss: 0.9695 - val_accuracy: 0.6599\n",
      "Epoch 9/10\n",
      "44/44 [==============================] - 1s 21ms/step - loss: 0.8114 - accuracy: 0.7248 - val_loss: 0.9697 - val_accuracy: 0.6744\n",
      "Epoch 10/10\n",
      "44/44 [==============================] - 1s 21ms/step - loss: 0.7429 - accuracy: 0.7680 - val_loss: 0.9673 - val_accuracy: 0.6715\n"
     ]
    }
   ],
   "source": [
    "# Fit the model\n",
    "model_3_history = model_3.fit(train_token_char_dataset,\n",
    "                              epochs=10,\n",
    "                              validation_data=test_token_char_dataset,\n",
    "                              verbose=1)"
   ]
  },
  {
   "attachments": {},
   "cell_type": "markdown",
   "metadata": {},
   "source": [
    "#### Evaluating"
   ]
  },
  {
   "cell_type": "code",
   "execution_count": 104,
   "metadata": {},
   "outputs": [
    {
     "name": "stdout",
     "output_type": "stream",
     "text": [
      "11/11 [==============================] - 0s 8ms/step - loss: 0.9673 - accuracy: 0.6715\n"
     ]
    },
    {
     "data": {
      "text/plain": [
       "[0.9673064351081848, 0.6714697480201721]"
      ]
     },
     "execution_count": 104,
     "metadata": {},
     "output_type": "execute_result"
    }
   ],
   "source": [
    "# Evaluate\n",
    "model_3.evaluate(test_token_char_dataset)"
   ]
  },
  {
   "cell_type": "code",
   "execution_count": 105,
   "metadata": {},
   "outputs": [
    {
     "data": {
      "image/png": "[encoded data removed]",
      "text/plain": [
       "<Figure size 640x480 with 1 Axes>"
      ]
     },
     "metadata": {},
     "output_type": "display_data"
    },
    {
     "data": {
      "image/png": "[encoded data removed]",
      "text/plain": [
       "<Figure size 640x480 with 1 Axes>"
      ]
     },
     "metadata": {},
     "output_type": "display_data"
    }
   ],
   "source": [
    "# Plot the loss and accuracy curves\n",
    "plot_loss_curves(history=model_3_history)"
   ]
  },
  {
   "attachments": {},
   "cell_type": "markdown",
   "metadata": {},
   "source": [
    "WOW... Improvements!!!\n",
    "\n",
    "Now get the prediction probabilities of the test dataset and check the model evaluation scores"
   ]
  },
  {
   "cell_type": "code",
   "execution_count": 106,
   "metadata": {},
   "outputs": [
    {
     "name": "stdout",
     "output_type": "stream",
     "text": [
      "11/11 [==============================] - 1s 7ms/step\n"
     ]
    },
    {
     "data": {
      "text/plain": [
       "((347, 10),\n",
       " array([[1.7252275e-04, 1.0335208e-05, 1.9677731e-05, ..., 9.9525796e-06,\n",
       "         2.8783616e-05, 4.5969075e-05],\n",
       "        [9.8943955e-01, 3.2320796e-04, 1.7452548e-04, ..., 1.6719610e-03,\n",
       "         3.4517545e-04, 1.1449400e-03],\n",
       "        [4.5908138e-05, 7.2269171e-02, 2.2129618e-02, ..., 2.8511303e-04,\n",
       "         3.9088823e-02, 3.1348129e-03],\n",
       "        ...,\n",
       "        [6.5212729e-03, 4.7183621e-01, 1.8383753e-01, ..., 7.5921388e-03,\n",
       "         7.0269890e-02, 4.9565997e-02],\n",
       "        [3.1132731e-03, 3.9778911e-02, 5.0137531e-02, ..., 1.9453913e-03,\n",
       "         3.4429604e-01, 1.7683472e-01],\n",
       "        [2.6088471e-03, 9.3800843e-02, 3.4010600e-02, ..., 1.0024485e-02,\n",
       "         7.9320550e-02, 1.0091180e-01]], dtype=float32))"
      ]
     },
     "execution_count": 106,
     "metadata": {},
     "output_type": "execute_result"
    }
   ],
   "source": [
    "# get the prediction probabilities of the token-character hybrid model\n",
    "model_3_pred_probs = model_3.predict(test_token_char_dataset)\n",
    "model_3_pred_probs.shape, model_3_pred_probs"
   ]
  },
  {
   "cell_type": "code",
   "execution_count": 107,
   "metadata": {},
   "outputs": [
    {
     "data": {
      "text/plain": [
       "<tf.Tensor: shape=(347,), dtype=int64, numpy=\n",
       "array([4, 0, 6, 8, 2, 9, 1, 6, 1, 7, 3, 2, 7, 4, 9, 1, 4, 6, 9, 0, 4, 2,\n",
       "       7, 2, 0, 6, 1, 1, 9, 1, 1, 4, 7, 1, 1, 1, 4, 3, 0, 3, 2, 1, 5, 3,\n",
       "       3, 5, 3, 6, 6, 5, 1, 2, 3, 1, 4, 4, 7, 3, 2, 2, 4, 6, 4, 4, 1, 6,\n",
       "       6, 6, 1, 4, 2, 7, 1, 7, 7, 4, 5, 3, 4, 5, 3, 6, 3, 6, 6, 1, 7, 5,\n",
       "       1, 1, 7, 4, 5, 7, 3, 2, 3, 1, 5, 5, 6, 8, 0, 7, 3, 6, 3, 5, 3, 3,\n",
       "       1, 6, 9, 2, 5, 4, 2, 3, 1, 2, 4, 4, 6, 2, 3, 1, 4, 3, 1, 1, 3, 1,\n",
       "       9, 3, 6, 4, 7, 3, 6, 7, 2, 7, 4, 5, 1, 7, 0, 5, 4, 6, 8, 4, 7, 4,\n",
       "       1, 5, 4, 2, 1, 4, 4, 6, 2, 3, 2, 0, 2, 4, 4, 4, 5, 5, 9, 3, 8, 3,\n",
       "       6, 5, 4, 5, 7, 1, 4, 8, 3, 2, 8, 2, 0, 0, 3, 0, 1, 3, 1, 2, 7, 3,\n",
       "       4, 4, 5, 2, 9, 7, 2, 0, 1, 3, 6, 2, 6, 0, 3, 1, 3, 1, 2, 8, 9, 3,\n",
       "       2, 6, 6, 6, 5, 2, 9, 7, 0, 4, 3, 7, 5, 1, 3, 3, 4, 7, 2, 5, 2, 3,\n",
       "       1, 2, 6, 3, 5, 4, 2, 8, 0, 9, 3, 3, 4, 4, 5, 2, 4, 7, 2, 3, 2, 0,\n",
       "       9, 1, 4, 9, 7, 4, 3, 9, 2, 4, 2, 1, 7, 9, 6, 7, 5, 1, 7, 9, 6, 1,\n",
       "       9, 7, 1, 5, 4, 6, 1, 7, 6, 3, 4, 6, 5, 4, 6, 6, 3, 5, 6, 9, 2, 7,\n",
       "       0, 2, 1, 4, 3, 4, 3, 0, 7, 0, 7, 2, 6, 5, 6, 9, 3, 1, 3, 0, 2, 1,\n",
       "       5, 0, 0, 5, 0, 0, 2, 5, 2, 0, 6, 2, 2, 3, 1, 8, 3], dtype=int64)>"
      ]
     },
     "execution_count": 107,
     "metadata": {},
     "output_type": "execute_result"
    }
   ],
   "source": [
    "# Turn the prediction probabilities into integers corresponding to a predicted 'subreddit' label\n",
    "model_3_predictions = tf.argmax(model_3_pred_probs, axis=1)\n",
    "model_3_predictions"
   ]
  },
  {
   "cell_type": "code",
   "execution_count": 108,
   "metadata": {},
   "outputs": [
    {
     "data": {
      "text/plain": [
       "{'accuracy': 0.6714697406340058,\n",
       " 'precision': 0.6713967365387397,\n",
       " 'recall': 0.6714697406340058,\n",
       " 'f1': 0.6603771944715509}"
      ]
     },
     "execution_count": 108,
     "metadata": {},
     "output_type": "execute_result"
    }
   ],
   "source": [
    "# Get the scores of the token-character hybrid model\n",
    "model_3_scores = calculate_scores(y_true=test_labels_encoded,\n",
    "                                  y_pred=model_3_predictions)\n",
    "model_3_scores"
   ]
  },
  {
   "cell_type": "code",
   "execution_count": 109,
   "metadata": {},
   "outputs": [
    {
     "data": {
      "text/html": [
       "<div>\n",
       "<style scoped>\n",
       "    .dataframe tbody tr th:only-of-type {\n",
       "        vertical-align: middle;\n",
       "    }\n",
       "\n",
       "    .dataframe tbody tr th {\n",
       "        vertical-align: top;\n",
       "    }\n",
       "\n",
       "    .dataframe thead th {\n",
       "        text-align: right;\n",
       "    }\n",
       "</style>\n",
       "<table border=\"1\" class=\"dataframe\">\n",
       "  <thead>\n",
       "    <tr style=\"text-align: right;\">\n",
       "      <th></th>\n",
       "      <th>subreddit</th>\n",
       "      <th>title</th>\n",
       "      <th>upvote_ratio</th>\n",
       "      <th>score</th>\n",
       "      <th>total_awards_received</th>\n",
       "      <th>predicted_subreddit</th>\n",
       "      <th>correct_prediction</th>\n",
       "    </tr>\n",
       "  </thead>\n",
       "  <tbody>\n",
       "    <tr>\n",
       "      <th>625</th>\n",
       "      <td>gaming</td>\n",
       "      <td>Favorite game studio?</td>\n",
       "      <td>0.67</td>\n",
       "      <td>2.0</td>\n",
       "      <td>0.0</td>\n",
       "      <td>gaming</td>\n",
       "      <td>True</td>\n",
       "    </tr>\n",
       "    <tr>\n",
       "      <th>14</th>\n",
       "      <td>Python</td>\n",
       "      <td>Test On 4 Concurrent Jobs Using Python-Polars ...</td>\n",
       "      <td>0.83</td>\n",
       "      <td>33.0</td>\n",
       "      <td>0.0</td>\n",
       "      <td>news</td>\n",
       "      <td>False</td>\n",
       "    </tr>\n",
       "    <tr>\n",
       "      <th>165</th>\n",
       "      <td>mildlyinfuriating</td>\n",
       "      <td>This one bagel bite</td>\n",
       "      <td>0.83</td>\n",
       "      <td>22.0</td>\n",
       "      <td>0.0</td>\n",
       "      <td>mildlyinfuriating</td>\n",
       "      <td>True</td>\n",
       "    </tr>\n",
       "    <tr>\n",
       "      <th>618</th>\n",
       "      <td>gaming</td>\n",
       "      <td>Skygerfall</td>\n",
       "      <td>0.60</td>\n",
       "      <td>1.0</td>\n",
       "      <td>0.0</td>\n",
       "      <td>cats</td>\n",
       "      <td>False</td>\n",
       "    </tr>\n",
       "    <tr>\n",
       "      <th>1640</th>\n",
       "      <td>oddlyspecific</td>\n",
       "      <td>MBA Rankings</td>\n",
       "      <td>0.75</td>\n",
       "      <td>2.0</td>\n",
       "      <td>0.0</td>\n",
       "      <td>cats</td>\n",
       "      <td>False</td>\n",
       "    </tr>\n",
       "  </tbody>\n",
       "</table>\n",
       "</div>"
      ],
      "text/plain": [
       "              subreddit                                              title   \n",
       "625              gaming                              Favorite game studio?  \\\n",
       "14               Python  Test On 4 Concurrent Jobs Using Python-Polars ...   \n",
       "165   mildlyinfuriating                                This one bagel bite   \n",
       "618              gaming                                         Skygerfall   \n",
       "1640      oddlyspecific                                       MBA Rankings   \n",
       "\n",
       "      upvote_ratio  score  total_awards_received predicted_subreddit   \n",
       "625           0.67    2.0                    0.0              gaming  \\\n",
       "14            0.83   33.0                    0.0                news   \n",
       "165           0.83   22.0                    0.0   mildlyinfuriating   \n",
       "618           0.60    1.0                    0.0                cats   \n",
       "1640          0.75    2.0                    0.0                cats   \n",
       "\n",
       "      correct_prediction  \n",
       "625                 True  \n",
       "14                 False  \n",
       "165                 True  \n",
       "618                False  \n",
       "1640               False  "
      ]
     },
     "execution_count": 109,
     "metadata": {},
     "output_type": "execute_result"
    }
   ],
   "source": [
    "copy_df = test_df.copy()\n",
    "copy_df[\"predicted_subreddit\"] = [label_encoder.classes_[pred] for pred in model_1_predictions]\n",
    "copy_df[\"correct_prediction\"] = copy_df[\"subreddit\"] == copy_df[\"predicted_subreddit\"]\n",
    "copy_df.head()"
   ]
  },
  {
   "cell_type": "code",
   "execution_count": 110,
   "metadata": {},
   "outputs": [
    {
     "data": {
      "text/plain": [
       "correct_prediction\n",
       "True     196\n",
       "False    151\n",
       "Name: count, dtype: int64"
      ]
     },
     "execution_count": 110,
     "metadata": {},
     "output_type": "execute_result"
    }
   ],
   "source": [
    "# How many predictions were correct and wrong?\n",
    "copy_df.correct_prediction.value_counts()"
   ]
  },
  {
   "attachments": {},
   "cell_type": "markdown",
   "metadata": {},
   "source": [
    "### Comparing Model Results"
   ]
  },
  {
   "cell_type": "code",
   "execution_count": 111,
   "metadata": {},
   "outputs": [
    {
     "data": {
      "text/html": [
       "<div>\n",
       "<style scoped>\n",
       "    .dataframe tbody tr th:only-of-type {\n",
       "        vertical-align: middle;\n",
       "    }\n",
       "\n",
       "    .dataframe tbody tr th {\n",
       "        vertical-align: top;\n",
       "    }\n",
       "\n",
       "    .dataframe thead th {\n",
       "        text-align: right;\n",
       "    }\n",
       "</style>\n",
       "<table border=\"1\" class=\"dataframe\">\n",
       "  <thead>\n",
       "    <tr style=\"text-align: right;\">\n",
       "      <th></th>\n",
       "      <th>accuracy</th>\n",
       "      <th>precision</th>\n",
       "      <th>recall</th>\n",
       "      <th>f1</th>\n",
       "    </tr>\n",
       "  </thead>\n",
       "  <tbody>\n",
       "    <tr>\n",
       "      <th>baseline</th>\n",
       "      <td>0.550432</td>\n",
       "      <td>0.654495</td>\n",
       "      <td>0.550432</td>\n",
       "      <td>0.551062</td>\n",
       "    </tr>\n",
       "    <tr>\n",
       "      <th>model_1_token_embedding</th>\n",
       "      <td>0.564841</td>\n",
       "      <td>0.598854</td>\n",
       "      <td>0.564841</td>\n",
       "      <td>0.573899</td>\n",
       "    </tr>\n",
       "    <tr>\n",
       "      <th>model_2_character_embedding</th>\n",
       "      <td>0.553314</td>\n",
       "      <td>0.549598</td>\n",
       "      <td>0.553314</td>\n",
       "      <td>0.543430</td>\n",
       "    </tr>\n",
       "    <tr>\n",
       "      <th>model_3_token_char_hybrid</th>\n",
       "      <td>0.671470</td>\n",
       "      <td>0.671397</td>\n",
       "      <td>0.671470</td>\n",
       "      <td>0.660377</td>\n",
       "    </tr>\n",
       "  </tbody>\n",
       "</table>\n",
       "</div>"
      ],
      "text/plain": [
       "                             accuracy  precision    recall        f1\n",
       "baseline                     0.550432   0.654495  0.550432  0.551062\n",
       "model_1_token_embedding      0.564841   0.598854  0.564841  0.573899\n",
       "model_2_character_embedding  0.553314   0.549598  0.553314  0.543430\n",
       "model_3_token_char_hybrid    0.671470   0.671397  0.671470  0.660377"
      ]
     },
     "execution_count": 111,
     "metadata": {},
     "output_type": "execute_result"
    }
   ],
   "source": [
    "# Compare the scores across all models\n",
    "all_scores = pd.DataFrame([baseline_results, model_1_scores, model_2_scores, model_3_scores],\n",
    "             index=['baseline','model_1_token_embedding','model_2_character_embedding','model_3_token_char_hybrid'])\n",
    "all_scores"
   ]
  },
  {
   "cell_type": "code",
   "execution_count": 112,
   "metadata": {},
   "outputs": [
    {
     "data": {
      "image/png": "[encoded data removed]",
      "text/plain": [
       "<Figure size 640x480 with 1 Axes>"
      ]
     },
     "metadata": {},
     "output_type": "display_data"
    }
   ],
   "source": [
    "# Plot and compare the scores\n",
    "all_scores.plot(kind=\"bar\").legend(bbox_to_anchor=(1.0, 1.0))\n",
    "plt.xticks(rotation=20)\n",
    "plt.show()"
   ]
  },
  {
   "attachments": {},
   "cell_type": "markdown",
   "metadata": {},
   "source": [
    "Seems like Model 3 had the best scores all around.  \n",
    "\n",
    "The noticable improvements in performance may be attributed to:\n",
    "* the token-character hybrid embedding architecture of the model\n",
    "* the use of feature extraction from a pretrained embedding layer from TensorFlow Hub\n",
    "* a change from a convolutional to a recurrent bidirectional LSTM neural network model\n",
    "* all of the above\n",
    "* something else entirely?"
   ]
  },
  {
   "attachments": {},
   "cell_type": "markdown",
   "metadata": {},
   "source": [
    "### Attempting to Predict the `Score` of a subreddit post based all other Variables\n",
    "\n",
    "I have built models that use token/character embedding to predict the subreddit label based on the 'title' of a subreddit post.  \n",
    "\n",
    "The goal now is to build on top of the lastest model and add quantitative variables (upvote_ratio and total_awards_received) in the training process.  \n",
    "\n",
    "The model should be able to predict the `score` from these mix of categorical and quantitative data."
   ]
  },
  {
   "cell_type": "code",
   "execution_count": 113,
   "metadata": {},
   "outputs": [
    {
     "name": "stdout",
     "output_type": "stream",
     "text": [
      "<class 'pandas.core.frame.DataFrame'>\n",
      "Index: 1388 entries, 956 to 1587\n",
      "Data columns (total 5 columns):\n",
      " #   Column                 Non-Null Count  Dtype  \n",
      "---  ------                 --------------  -----  \n",
      " 0   subreddit              1388 non-null   object \n",
      " 1   title                  1388 non-null   object \n",
      " 2   upvote_ratio           1388 non-null   float64\n",
      " 3   score                  1388 non-null   float64\n",
      " 4   total_awards_received  1388 non-null   float64\n",
      "dtypes: float64(3), object(2)\n",
      "memory usage: 65.1+ KB\n"
     ]
    }
   ],
   "source": [
    "train_df.info()"
   ]
  },
  {
   "cell_type": "code",
   "execution_count": 184,
   "metadata": {},
   "outputs": [],
   "source": [
    "train_upvote_data = train_df[\"upvote_ratio\"].to_numpy()\n",
    "train_total_awards_received_data = train_df[\"total_awards_received\"].to_numpy()\n",
    "train_score_data = train_df[\"score\"].to_numpy()\n",
    "test_upvote_data = test_df[\"upvote_ratio\"].to_numpy()\n",
    "test_total_awards_received_data = test_df[\"total_awards_received\"].to_numpy()\n",
    "test_score_data = test_df[\"score\"].to_numpy()"
   ]
  },
  {
   "cell_type": "code",
   "execution_count": 161,
   "metadata": {},
   "outputs": [
    {
     "data": {
      "text/plain": [
       "total_awards_received\n",
       "0.0     1331\n",
       "1.0       38\n",
       "2.0       11\n",
       "5.0        2\n",
       "3.0        2\n",
       "4.0        2\n",
       "9.0        1\n",
       "20.0       1\n",
       "Name: count, dtype: int64"
      ]
     },
     "execution_count": 161,
     "metadata": {},
     "output_type": "execute_result"
    }
   ],
   "source": [
    "train_df.total_awards_received.value_counts()"
   ]
  },
  {
   "attachments": {},
   "cell_type": "markdown",
   "metadata": {},
   "source": [
    "Pack all data into `tf.data` tensorslices datasets for optimal training"
   ]
  },
  {
   "cell_type": "code",
   "execution_count": 193,
   "metadata": {},
   "outputs": [
    {
     "data": {
      "text/plain": [
       "<_ZipDataset element_spec=((TensorSpec(shape=(), dtype=tf.float64, name=None), TensorSpec(shape=(), dtype=tf.float64, name=None), TensorSpec(shape=(), dtype=tf.string, name=None), TensorSpec(shape=(), dtype=tf.string, name=None)), TensorSpec(shape=(), dtype=tf.float64, name=None))>"
      ]
     },
     "execution_count": 193,
     "metadata": {},
     "output_type": "execute_result"
    }
   ],
   "source": [
    "train_token_char_upvote_rewards_data = tf.data.Dataset.from_tensor_slices((train_upvote_data, # line numbers\n",
    "                                                                train_total_awards_received_data, # total lines\n",
    "                                                                train_titles, # train tokens\n",
    "                                                                train_chars)) # train chars\n",
    "train_token_char_upvote_rewards_labels = tf.data.Dataset.from_tensor_slices(train_score_data) # train labels\n",
    "train_token_char_upvote_rewards_dataset = tf.data.Dataset.zip((train_token_char_upvote_rewards_data, train_token_char_upvote_rewards_labels)) # combine data and labels\n",
    "train_pos_char_token_dataset = train_token_char_upvote_rewards_dataset.batch(32).prefetch(tf.data.AUTOTUNE) # turn into batches and prefetch appropriately\n",
    "#train_token_char_upvote_rewards_data = train_token_char_upvote_rewards_data.batch(32).prefetch(tf.data.AUTOTUNE) # turn into batches and prefetch appropriately\n",
    "train_token_char_upvote_rewards_dataset"
   ]
  },
  {
   "attachments": {},
   "cell_type": "markdown",
   "metadata": {},
   "source": [
    "Building the model"
   ]
  },
  {
   "cell_type": "code",
   "execution_count": 187,
   "metadata": {},
   "outputs": [],
   "source": [
    "# 1. Make the model for token embeddings using the USE pretained token embedding layer\n",
    "token_inputs = layers.Input(shape=[], dtype=tf.string, name=\"token_input\")\n",
    "token_embeddings = tf_hub_embedding_layer(token_inputs)\n",
    "token_output = layers.Dense(128, activation=\"relu\")(token_embeddings)\n",
    "token_model = tf.keras.Model(inputs=token_inputs, outputs=token_output)\n",
    "\n",
    "# 2. Make the mdoel for character embeddings\n",
    "char_inputs = layers.Input(shape=(1,), dtype=tf.string, name=\"char_input\")\n",
    "char_vector = char_vectorizer(char_inputs)\n",
    "char_embeddings = char_embed(char_vector)\n",
    "char_outputs = layers.Bidirectional(layers.LSTM(32))(char_embeddings)\n",
    "char_model = tf.keras.Model(inputs=char_inputs, outputs=char_outputs)\n",
    "\n",
    "# 3. Make the model for upvote ratio\n",
    "upvote_ratio_inputs = layers.Input(shape=len(train_df), dtype=tf.float32, name=\"upvote_ratio_input\")\n",
    "upvote_ratio_outputs = layers.Dense(32, activation=\"relu\")(upvote_ratio_inputs)\n",
    "upvote_ratio_model = tf.keras.Model(inputs=upvote_ratio_inputs, outputs=upvote_ratio_outputs)\n",
    "\n",
    "# 4. Make the model for total rewards received\n",
    "rewards_inputs = layers.Input(shape=len(train_df), dtype=tf.float32, name=\"total_rewards_received_input\")\n",
    "rewards_outputs = layers.Dense(32, activation=\"relu\")(rewards_inputs)\n",
    "rewards_model = tf.keras.Model(inputs=rewards_inputs, outputs=rewards_outputs)\n",
    "\n",
    "# 5. Combine the token and character inputs\n",
    "token_char = layers.Concatenate(name=\"token_char\")([token_model.output,\n",
    "                                                    char_model.output])\n",
    "\n",
    "# 6. Inermediate Hidden layers\n",
    "x = layers.Dense(256, activation=\"relu\")(token_char)\n",
    "x = layers.Dropout(0.5)(x)\n",
    "\n",
    "# 7. Combine the upvote ratio and total awards received with the token and character embeddings\n",
    "x = layers.Concatenate(name=\"token_char_upvote_rewards\")([upvote_ratio_model.output,\n",
    "                                                          rewards_model.output,\n",
    "                                                          x])\n",
    "\n",
    "# 8. Create the output layer\n",
    "output = layers.Dense(1, activation=\"relu\", name=\"output_layer\")(x)\n",
    "\n",
    "# 9. Stitch everything together\n",
    "model_4 = tf.keras.Model(inputs=[upvote_ratio_model.input,\n",
    "                                 rewards_model.input,\n",
    "                                 token_model.input,\n",
    "                                 char_model.input],\n",
    "                                 outputs=output,\n",
    "                                 name=\"model_4\")"
   ]
  },
  {
   "cell_type": "code",
   "execution_count": 188,
   "metadata": {},
   "outputs": [
    {
     "name": "stdout",
     "output_type": "stream",
     "text": [
      "Model: \"model_4\"\n",
      "__________________________________________________________________________________________________\n",
      " Layer (type)                   Output Shape         Param #     Connected to                     \n",
      "==================================================================================================\n",
      " char_input (InputLayer)        [(None, 1)]          0           []                               \n",
      "                                                                                                  \n",
      " token_input (InputLayer)       [(None,)]            0           []                               \n",
      "                                                                                                  \n",
      " char_vectorizer (TextVectoriza  (None, 119)         0           ['char_input[0][0]']             \n",
      " tion)                                                                                            \n",
      "                                                                                                  \n",
      " USE (KerasLayer)               (None, 512)          256797824   ['token_input[0][0]']            \n",
      "                                                                                                  \n",
      " char_embed (Embedding)         (None, 119, 32)      2240        ['char_vectorizer[7][0]']        \n",
      "                                                                                                  \n",
      " dense_27 (Dense)               (None, 128)          65664       ['USE[6][0]']                    \n",
      "                                                                                                  \n",
      " bidirectional_6 (Bidirectional  (None, 64)          16640       ['char_embed[7][0]']             \n",
      " )                                                                                                \n",
      "                                                                                                  \n",
      " token_char (Concatenate)       (None, 192)          0           ['dense_27[0][0]',               \n",
      "                                                                  'bidirectional_6[0][0]']        \n",
      "                                                                                                  \n",
      " upvote_ratio_input (InputLayer  [(None, 1388)]      0           []                               \n",
      " )                                                                                                \n",
      "                                                                                                  \n",
      " total_rewards_received_input (  [(None, 1388)]      0           []                               \n",
      " InputLayer)                                                                                      \n",
      "                                                                                                  \n",
      " dense_30 (Dense)               (None, 256)          49408       ['token_char[0][0]']             \n",
      "                                                                                                  \n",
      " dense_28 (Dense)               (None, 32)           44448       ['upvote_ratio_input[0][0]']     \n",
      "                                                                                                  \n",
      " dense_29 (Dense)               (None, 32)           44448       ['total_rewards_received_input[0]\n",
      "                                                                 [0]']                            \n",
      "                                                                                                  \n",
      " dropout_6 (Dropout)            (None, 256)          0           ['dense_30[0][0]']               \n",
      "                                                                                                  \n",
      " token_char_upvote_rewards (Con  (None, 320)         0           ['dense_28[0][0]',               \n",
      " catenate)                                                        'dense_29[0][0]',               \n",
      "                                                                  'dropout_6[0][0]']              \n",
      "                                                                                                  \n",
      " output_layer (Dense)           (None, 1)            321         ['token_char_upvote_rewards[0][0]\n",
      "                                                                 ']                               \n",
      "                                                                                                  \n",
      "==================================================================================================\n",
      "Total params: 257,020,993\n",
      "Trainable params: 223,169\n",
      "Non-trainable params: 256,797,824\n",
      "__________________________________________________________________________________________________\n"
     ]
    }
   ],
   "source": [
    "model_4.summary()"
   ]
  },
  {
   "cell_type": "code",
   "execution_count": 189,
   "metadata": {},
   "outputs": [],
   "source": [
    "model_4.compile(loss=tf.keras.losses.mae,\n",
    "                optimizer=tf.keras.optimizers.Adam(),\n",
    "                metrics=[\"mae\"])"
   ]
  },
  {
   "attachments": {},
   "cell_type": "markdown",
   "metadata": {},
   "source": [
    "Training"
   ]
  },
  {
   "cell_type": "code",
   "execution_count": 194,
   "metadata": {},
   "outputs": [
    {
     "name": "stdout",
     "output_type": "stream",
     "text": [
      "Epoch 1/5\n"
     ]
    },
    {
     "ename": "ValueError",
     "evalue": "in user code:\n\n    File \"c:\\Users\\ellis\\TensorFlowProjects\\.venv\\lib\\site-packages\\keras\\engine\\training.py\", line 1284, in train_function  *\n        return step_function(self, iterator)\n    File \"c:\\Users\\ellis\\TensorFlowProjects\\.venv\\lib\\site-packages\\keras\\engine\\training.py\", line 1268, in step_function  **\n        outputs = model.distribute_strategy.run(run_step, args=(data,))\n    File \"c:\\Users\\ellis\\TensorFlowProjects\\.venv\\lib\\site-packages\\keras\\engine\\training.py\", line 1249, in run_step  **\n        outputs = model.train_step(data)\n    File \"c:\\Users\\ellis\\TensorFlowProjects\\.venv\\lib\\site-packages\\keras\\engine\\training.py\", line 1050, in train_step\n        y_pred = self(x, training=True)\n    File \"c:\\Users\\ellis\\TensorFlowProjects\\.venv\\lib\\site-packages\\keras\\utils\\traceback_utils.py\", line 70, in error_handler\n        raise e.with_traceback(filtered_tb) from None\n    File \"C:\\Users\\ellis\\AppData\\Local\\Temp\\__autograph_generated_file3zcz0iqc.py\", line 74, in tf__call\n        ag__.if_stmt(ag__.not_(ag__.ld(self)._has_training_argument), if_body_3, else_body_3, get_state_3, set_state_3, ('result', 'training'), 1)\n    File \"C:\\Users\\ellis\\AppData\\Local\\Temp\\__autograph_generated_file3zcz0iqc.py\", line 37, in if_body_3\n        result = ag__.converted_call(ag__.ld(f), (), None, fscope)\n\n    ValueError: Exception encountered when calling layer 'USE' (type KerasLayer).\n    \n    in user code:\n    \n        File \"c:\\Users\\ellis\\TensorFlowProjects\\.venv\\lib\\site-packages\\tensorflow_hub\\keras_layer.py\", line 234, in call  *\n            result = f()\n    \n        ValueError: Shape must be rank 1 but is rank 0 for '{{node text_preprocessor/tokenize/StringSplit/StringSplit}} = StringSplit[skip_empty=true](text_preprocessor/StaticRegexReplace_1, text_preprocessor/tokenize/StringSplit/Const)' with input shapes: [], [].\n    \n    \n    Call arguments received by layer 'USE' (type KerasLayer):\n      • inputs=tf.Tensor(shape=(), dtype=string)\n      • training=True\n",
     "output_type": "error",
     "traceback": [
      "\u001b[1;31m---------------------------------------------------------------------------\u001b[0m",
      "\u001b[1;31mValueError\u001b[0m                                Traceback (most recent call last)",
      "Cell \u001b[1;32mIn[194], line 1\u001b[0m\n\u001b[1;32m----> 1\u001b[0m model_4_history \u001b[39m=\u001b[39m model_4\u001b[39m.\u001b[39;49mfit(train_token_char_upvote_rewards_dataset,\n\u001b[0;32m      2\u001b[0m                               epochs\u001b[39m=\u001b[39;49m\u001b[39m5\u001b[39;49m,\n\u001b[0;32m      3\u001b[0m                               verbose\u001b[39m=\u001b[39;49m\u001b[39m1\u001b[39;49m)\n",
      "File \u001b[1;32mc:\\Users\\ellis\\TensorFlowProjects\\.venv\\lib\\site-packages\\keras\\utils\\traceback_utils.py:70\u001b[0m, in \u001b[0;36mfilter_traceback.<locals>.error_handler\u001b[1;34m(*args, **kwargs)\u001b[0m\n\u001b[0;32m     67\u001b[0m     filtered_tb \u001b[39m=\u001b[39m _process_traceback_frames(e\u001b[39m.\u001b[39m__traceback__)\n\u001b[0;32m     68\u001b[0m     \u001b[39m# To get the full stack trace, call:\u001b[39;00m\n\u001b[0;32m     69\u001b[0m     \u001b[39m# `tf.debugging.disable_traceback_filtering()`\u001b[39;00m\n\u001b[1;32m---> 70\u001b[0m     \u001b[39mraise\u001b[39;00m e\u001b[39m.\u001b[39mwith_traceback(filtered_tb) \u001b[39mfrom\u001b[39;00m \u001b[39mNone\u001b[39;00m\n\u001b[0;32m     71\u001b[0m \u001b[39mfinally\u001b[39;00m:\n\u001b[0;32m     72\u001b[0m     \u001b[39mdel\u001b[39;00m filtered_tb\n",
      "File \u001b[1;32m~\\AppData\\Local\\Temp\\__autograph_generated_filewpla4dnr.py:15\u001b[0m, in \u001b[0;36mouter_factory.<locals>.inner_factory.<locals>.tf__train_function\u001b[1;34m(iterator)\u001b[0m\n\u001b[0;32m     13\u001b[0m \u001b[39mtry\u001b[39;00m:\n\u001b[0;32m     14\u001b[0m     do_return \u001b[39m=\u001b[39m \u001b[39mTrue\u001b[39;00m\n\u001b[1;32m---> 15\u001b[0m     retval_ \u001b[39m=\u001b[39m ag__\u001b[39m.\u001b[39mconverted_call(ag__\u001b[39m.\u001b[39mld(step_function), (ag__\u001b[39m.\u001b[39mld(\u001b[39mself\u001b[39m), ag__\u001b[39m.\u001b[39mld(iterator)), \u001b[39mNone\u001b[39;00m, fscope)\n\u001b[0;32m     16\u001b[0m \u001b[39mexcept\u001b[39;00m:\n\u001b[0;32m     17\u001b[0m     do_return \u001b[39m=\u001b[39m \u001b[39mFalse\u001b[39;00m\n",
      "File \u001b[1;32m~\\AppData\\Local\\Temp\\__autograph_generated_file3zcz0iqc.py:74\u001b[0m, in \u001b[0;36mouter_factory.<locals>.inner_factory.<locals>.tf__call\u001b[1;34m(self, inputs, training)\u001b[0m\n\u001b[0;32m     72\u001b[0m     result \u001b[39m=\u001b[39m ag__\u001b[39m.\u001b[39mconverted_call(ag__\u001b[39m.\u001b[39mld(smart_cond)\u001b[39m.\u001b[39msmart_cond, (ag__\u001b[39m.\u001b[39mld(training), ag__\u001b[39m.\u001b[39mautograph_artifact((\u001b[39mlambda\u001b[39;00m : ag__\u001b[39m.\u001b[39mconverted_call(ag__\u001b[39m.\u001b[39mld(f), (), \u001b[39mdict\u001b[39m(training\u001b[39m=\u001b[39m\u001b[39mTrue\u001b[39;00m), fscope))), ag__\u001b[39m.\u001b[39mautograph_artifact((\u001b[39mlambda\u001b[39;00m : ag__\u001b[39m.\u001b[39mconverted_call(ag__\u001b[39m.\u001b[39mld(f), (), \u001b[39mdict\u001b[39m(training\u001b[39m=\u001b[39m\u001b[39mFalse\u001b[39;00m), fscope)))), \u001b[39mNone\u001b[39;00m, fscope)\n\u001b[0;32m     73\u001b[0m result \u001b[39m=\u001b[39m ag__\u001b[39m.\u001b[39mUndefined(\u001b[39m'\u001b[39m\u001b[39mresult\u001b[39m\u001b[39m'\u001b[39m)\n\u001b[1;32m---> 74\u001b[0m ag__\u001b[39m.\u001b[39mif_stmt(ag__\u001b[39m.\u001b[39mnot_(ag__\u001b[39m.\u001b[39mld(\u001b[39mself\u001b[39m)\u001b[39m.\u001b[39m_has_training_argument), if_body_3, else_body_3, get_state_3, set_state_3, (\u001b[39m'\u001b[39m\u001b[39mresult\u001b[39m\u001b[39m'\u001b[39m, \u001b[39m'\u001b[39m\u001b[39mtraining\u001b[39m\u001b[39m'\u001b[39m), \u001b[39m1\u001b[39m)\n\u001b[0;32m     76\u001b[0m \u001b[39mdef\u001b[39;00m \u001b[39mget_state_6\u001b[39m():\n\u001b[0;32m     77\u001b[0m     \u001b[39mreturn\u001b[39;00m (result,)\n",
      "File \u001b[1;32m~\\AppData\\Local\\Temp\\__autograph_generated_file3zcz0iqc.py:37\u001b[0m, in \u001b[0;36mouter_factory.<locals>.inner_factory.<locals>.tf__call.<locals>.if_body_3\u001b[1;34m()\u001b[0m\n\u001b[0;32m     35\u001b[0m \u001b[39mdef\u001b[39;00m \u001b[39mif_body_3\u001b[39m():\n\u001b[0;32m     36\u001b[0m     \u001b[39mnonlocal\u001b[39;00m result, training\n\u001b[1;32m---> 37\u001b[0m     result \u001b[39m=\u001b[39m ag__\u001b[39m.\u001b[39;49mconverted_call(ag__\u001b[39m.\u001b[39;49mld(f), (), \u001b[39mNone\u001b[39;49;00m, fscope)\n",
      "\u001b[1;31mValueError\u001b[0m: in user code:\n\n    File \"c:\\Users\\ellis\\TensorFlowProjects\\.venv\\lib\\site-packages\\keras\\engine\\training.py\", line 1284, in train_function  *\n        return step_function(self, iterator)\n    File \"c:\\Users\\ellis\\TensorFlowProjects\\.venv\\lib\\site-packages\\keras\\engine\\training.py\", line 1268, in step_function  **\n        outputs = model.distribute_strategy.run(run_step, args=(data,))\n    File \"c:\\Users\\ellis\\TensorFlowProjects\\.venv\\lib\\site-packages\\keras\\engine\\training.py\", line 1249, in run_step  **\n        outputs = model.train_step(data)\n    File \"c:\\Users\\ellis\\TensorFlowProjects\\.venv\\lib\\site-packages\\keras\\engine\\training.py\", line 1050, in train_step\n        y_pred = self(x, training=True)\n    File \"c:\\Users\\ellis\\TensorFlowProjects\\.venv\\lib\\site-packages\\keras\\utils\\traceback_utils.py\", line 70, in error_handler\n        raise e.with_traceback(filtered_tb) from None\n    File \"C:\\Users\\ellis\\AppData\\Local\\Temp\\__autograph_generated_file3zcz0iqc.py\", line 74, in tf__call\n        ag__.if_stmt(ag__.not_(ag__.ld(self)._has_training_argument), if_body_3, else_body_3, get_state_3, set_state_3, ('result', 'training'), 1)\n    File \"C:\\Users\\ellis\\AppData\\Local\\Temp\\__autograph_generated_file3zcz0iqc.py\", line 37, in if_body_3\n        result = ag__.converted_call(ag__.ld(f), (), None, fscope)\n\n    ValueError: Exception encountered when calling layer 'USE' (type KerasLayer).\n    \n    in user code:\n    \n        File \"c:\\Users\\ellis\\TensorFlowProjects\\.venv\\lib\\site-packages\\tensorflow_hub\\keras_layer.py\", line 234, in call  *\n            result = f()\n    \n        ValueError: Shape must be rank 1 but is rank 0 for '{{node text_preprocessor/tokenize/StringSplit/StringSplit}} = StringSplit[skip_empty=true](text_preprocessor/StaticRegexReplace_1, text_preprocessor/tokenize/StringSplit/Const)' with input shapes: [], [].\n    \n    \n    Call arguments received by layer 'USE' (type KerasLayer):\n      • inputs=tf.Tensor(shape=(), dtype=string)\n      • training=True\n"
     ]
    }
   ],
   "source": [
    "model_4_history = model_4.fit(train_token_char_upvote_rewards_dataset,\n",
    "                              epochs=5,\n",
    "                              verbose=1)"
   ]
  },
  {
   "attachments": {},
   "cell_type": "markdown",
   "metadata": {},
   "source": [
    "**This model requires troubleshooting, and will be left for future work.**"
   ]
  },
  {
   "cell_type": "code",
   "execution_count": null,
   "metadata": {},
   "outputs": [],
   "source": []
  }
 ],
 "metadata": {
  "kernelspec": {
   "display_name": ".venv",
   "language": "python",
   "name": "python3"
  },
  "language_info": {
   "codemirror_mode": {
    "name": "ipython",
    "version": 3
   },
   "file_extension": ".py",
   "mimetype": "text/x-python",
   "name": "python",
   "nbconvert_exporter": "python",
   "pygments_lexer": "ipython3",
   "version": "3.8.0"
  },
  "orig_nbformat": 4
 },
 "nbformat": 4,
 "nbformat_minor": 2
}
